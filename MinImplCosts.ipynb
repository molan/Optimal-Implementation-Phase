{
  "cells": [
    {
      "cell_type": "markdown",
      "metadata": {
        "id": "view-in-github",
        "colab_type": "text"
      },
      "source": [
        "<a href=\"https://colab.research.google.com/github/molan/Optimal-Implementation-Phase/blob/main/MinImplCosts.ipynb\" target=\"_parent\"><img src=\"https://colab.research.google.com/assets/colab-badge.svg\" alt=\"Open In Colab\"/></a>"
      ]
    },
    {
      "cell_type": "markdown",
      "metadata": {
        "id": "hreM4btyokE7"
      },
      "source": [
        "# Python part (Jupyter notebook) for the text in $\\LaTeX$"
      ]
    },
    {
      "cell_type": "markdown",
      "metadata": {
        "id": "BIMAwZorokE8"
      },
      "source": [
        "__Closed tasks__\n",
        "1. Define input data\n",
        "1. Section of all algorithms (functions)\n",
        "1. Implicit calculations of global variables changed into functions\n",
        "1. Unit testing\n",
        "1. Function ```f_update_nodes_edges(d_TS)``` that updates ```df_node``` and ```df_edge``` with t_theta(v) = 0 and t_theta(e) = 0\n",
        "1. Prepare different input data, different input files for ```d_TS_H```\n",
        "1. Input data and expected results\n",
        "1. Tested function ```f_test_weight_redesign```\n",
        "1. Tested function ```f_TP_min_deduplication```\n",
        "1. Tested function ```f_TP_max_deduplication```\n",
        "1. f_draw_TP_max_deduplication : unit test\n",
        "1. f_draw_TP_min_deduplication : unit test\n",
        "1. Draw all vertices in test phase. ```df_node``` defines vertices over definition of test phase\n",
        "1.  ```f_test_weight_redesign``` : \n",
        "1. Algorithm 2 Test Weights Redesign\n",
        "1. General\n",
        "    - [x] Is singleton allowed?\n",
        "        * *Answer*: Singleton is functionality with unit testing that is not a part of *testing*\n",
        "    - [x] If edges are removed, what about nodes?\n",
        "        * *Answer*: Nodes should not be removed.\n",
        "1. ```f_test_weight_redesign_wrapper``` : add argument for test suite\n",
        "1. Soft result in function ```f_TP_min_deduplication```\n",
        "1. Soft result in function ```f_TP_max_deduplication```\n",
        "1.  Add ```d_position``` to file and to parameter\n",
        "1. Check reading test suites and test phase from file\n",
        "1. f_draw_TP_max_deduplication : various results\n",
        "\n",
        "---\n",
        "__References__\n",
        "1. https://www.tutorialspoint.com/jupyter/jupyter_notebook_editing.htm\n",
        "1. https://matplotlib.org/3.1.1/gallery/color/named_colors.html\n",
        "1. https://networkx.github.io/documentation/stable/auto_examples/drawing/plot_labels_and_colors.html\n",
        "1. https://networkx.github.io/documentation/stable/reference/generated/networkx.drawing.nx_pylab.draw_networkx_labels.html\n",
        "1. https://networkx.github.io/documentation/stable/auto_examples/drawing/plot_weighted_graph.html?highlight=weights\n",
        "1. https://pandas.pydata.org/pandas-docs/stable/reference/api/pandas.Series.tolist.html\n",
        "1. https://www.datacamp.com/community/tutorials/tutorial-jupyter-notebook\n",
        "1. https://github.com/jupyter/jupyter/wiki/A-gallery-of-interesting-Jupyter-Notebooks\n",
        "\n",
        "-----"
      ]
    },
    {
      "cell_type": "markdown",
      "metadata": {
        "id": "aEhdcr7SokE8"
      },
      "source": [
        "{\n",
        "“@context”: “http://schema.org”,\n",
        "“@type”: “Person”,\n",
        "“name”: “Daniel S. Katz”,\n",
        "“@id”: “http://orcid.org/0000-0001-5934-7525”\n",
        "}"
      ]
    },
    {
      "cell_type": "markdown",
      "metadata": {
        "id": "_yLerSx-okE9"
      },
      "source": [
        "## Introduction and basic definitions"
      ]
    },
    {
      "cell_type": "markdown",
      "metadata": {
        "id": "qyAzsIofokE9"
      },
      "source": [
        "### Execution time measurement"
      ]
    },
    {
      "cell_type": "code",
      "execution_count": 1,
      "metadata": {
        "id": "3zwCsEDcokE9"
      },
      "outputs": [],
      "source": [
        "# Masure Time\n",
        "import time\n",
        "import datetime\n",
        "notebook_start_time = time.time()"
      ]
    },
    {
      "cell_type": "markdown",
      "metadata": {
        "id": "7fbaUsFtokE-"
      },
      "source": [
        "### Ignore Mathlab Warnings\n",
        "Error example:\n",
        "```\n",
        "C:\\ProgramData\\Anaconda3\\lib\\site-packages\\networkx\\drawing\\nx_pylab.py:579: MatplotlibDeprecationWarning: \n",
        "The iterable function was deprecated in Matplotlib 3.1 and will be removed in 3.3. Use np.iterable instead.\n",
        "  if not cb.iterable(width):\n",
        "```"
      ]
    },
    {
      "cell_type": "code",
      "execution_count": 2,
      "metadata": {
        "id": "_4uPo2SQokE-"
      },
      "outputs": [],
      "source": [
        "#\n",
        "# to avoid Mathlab warning\n",
        "#\n",
        "import warnings\n",
        "warnings.filterwarnings(\"ignore\", category=UserWarning)"
      ]
    },
    {
      "cell_type": "markdown",
      "metadata": {
        "id": "DVTsa_NvokE-"
      },
      "source": [
        "### Unit testing"
      ]
    },
    {
      "cell_type": "code",
      "execution_count": 3,
      "metadata": {
        "id": "sXhq0HsSokE-"
      },
      "outputs": [],
      "source": [
        "import unittest"
      ]
    },
    {
      "cell_type": "markdown",
      "metadata": {
        "id": "GF9fGxxsokE-"
      },
      "source": [
        "### Debug"
      ]
    },
    {
      "cell_type": "code",
      "execution_count": 4,
      "metadata": {
        "pixiedust": {
          "displayParams": {}
        },
        "id": "wXXX8us6okE-"
      },
      "outputs": [],
      "source": [
        "from IPython.core.debugger import set_trace\n"
      ]
    },
    {
      "cell_type": "markdown",
      "metadata": {
        "id": "oxzuBuQRokE-"
      },
      "source": [
        "### Logging"
      ]
    },
    {
      "cell_type": "code",
      "execution_count": 5,
      "metadata": {
        "id": "flMseHlwokE_"
      },
      "outputs": [],
      "source": [
        "import logging\n",
        "\n",
        "# name for the logging (logger) and handler to the logger\n",
        "logger = logging.getLogger(__name__)\n",
        "\n",
        "# the logger's level\n",
        "#    10 DEBUG: Detailed debug information, typically of interest only when diagnosing problems\n",
        "#    20 INFO: Confirmation that things are working as expected\n",
        "#    30 WARNING: An indication that something unexpected happened, or indicative of some problem in the near future (e.g. ‘disk space low’). The software is still working as expected\n",
        "#    40 ERROR: Due to a more serious problem, the software has not been able to perform some function\n",
        "#    50 CRITICAL: A serious error, indicating that the program itself may be unable to continue running\n",
        "logger.setLevel(logging.WARNING)\n",
        "\n",
        "# logger file\n",
        "file_handler = logging.FileHandler('MinImplCosts.log')\n",
        "logger.addHandler(file_handler)\n",
        "\n",
        "# format - see https://docs.python.org/3/library/logging.html#logging.LogRecord\n",
        "formatter = logging.Formatter('%(asctime)s - %(levelname)s - %(message)s')\n",
        "file_handler.setFormatter(formatter)\n",
        "\n",
        "#\n",
        "# Debug individual cell ONLY\n",
        "#\n",
        "cell_log_level = logging.WARNING\n",
        "\n",
        "#\n",
        "# Debug individual section ONLY\n",
        "#\n",
        "section_log_level = logging.DEBUG\n",
        "section_log_level = logging.WARNING\n"
      ]
    },
    {
      "cell_type": "code",
      "execution_count": 6,
      "metadata": {
        "id": "nja_YrkTokE_"
      },
      "outputs": [],
      "source": [
        "#\n",
        "# Draw test suites condition to \"draw graphs\"\n",
        "#\n",
        "bool_draw_TS = True\n",
        "# bool_draw_TS = False\n",
        "\n",
        "#\n",
        "# print to console\n",
        "#\n",
        "\n",
        "#ch = logging.StreamHandler()\n",
        "#ch.setLevel(logging.DEBUG)\n",
        "#ch.setFormatter(formatter)\n",
        "#logger.addHandler(ch)"
      ]
    },
    {
      "cell_type": "markdown",
      "metadata": {
        "id": "cbuAfXQTokE_"
      },
      "source": [
        "### Install Packages"
      ]
    },
    {
      "cell_type": "code",
      "execution_count": 7,
      "metadata": {
        "id": "g3QcTpM8okE_",
        "outputId": "6ef5d4b5-6781-430a-b91a-59d3b1259f3c",
        "colab": {
          "base_uri": "https://localhost:8080/"
        }
      },
      "outputs": [
        {
          "output_type": "stream",
          "name": "stdout",
          "text": [
            "Looking in indexes: https://pypi.org/simple, https://us-python.pkg.dev/colab-wheels/public/simple/\n",
            "Collecting pandas==1.3.5\n",
            "  Downloading pandas-1.3.5-cp310-cp310-manylinux_2_17_x86_64.manylinux2014_x86_64.whl (11.5 MB)\n",
            "\u001b[2K     \u001b[90m━━━━━━━━━━━━━━━━━━━━━━━━━━━━━━━━━━━━━━━━\u001b[0m \u001b[32m11.5/11.5 MB\u001b[0m \u001b[31m55.3 MB/s\u001b[0m eta \u001b[36m0:00:00\u001b[0m\n",
            "\u001b[?25hRequirement already satisfied: python-dateutil>=2.7.3 in /usr/local/lib/python3.10/dist-packages (from pandas==1.3.5) (2.8.2)\n",
            "Requirement already satisfied: pytz>=2017.3 in /usr/local/lib/python3.10/dist-packages (from pandas==1.3.5) (2022.7.1)\n",
            "Requirement already satisfied: numpy>=1.21.0 in /usr/local/lib/python3.10/dist-packages (from pandas==1.3.5) (1.22.4)\n",
            "Requirement already satisfied: six>=1.5 in /usr/local/lib/python3.10/dist-packages (from python-dateutil>=2.7.3->pandas==1.3.5) (1.16.0)\n",
            "Installing collected packages: pandas\n",
            "  Attempting uninstall: pandas\n",
            "    Found existing installation: pandas 1.5.3\n",
            "    Uninstalling pandas-1.5.3:\n",
            "      Successfully uninstalled pandas-1.5.3\n",
            "\u001b[31mERROR: pip's dependency resolver does not currently take into account all the packages that are installed. This behaviour is the source of the following dependency conflicts.\n",
            "google-colab 1.0.0 requires pandas~=1.5.3, but you have pandas 1.3.5 which is incompatible.\u001b[0m\u001b[31m\n",
            "\u001b[0mSuccessfully installed pandas-1.3.5\n"
          ]
        }
      ],
      "source": [
        "pip install pandas==1.3.5"
      ]
    },
    {
      "cell_type": "code",
      "execution_count": 8,
      "metadata": {
        "id": "j3831t2ookE_",
        "outputId": "f1969c62-4144-46f7-8f6d-5bab675d6370",
        "colab": {
          "base_uri": "https://localhost:8080/"
        }
      },
      "outputs": [
        {
          "output_type": "stream",
          "name": "stdout",
          "text": [
            "Looking in indexes: https://pypi.org/simple, https://us-python.pkg.dev/colab-wheels/public/simple/\n",
            "Collecting networkx==2.6\n",
            "  Downloading networkx-2.6-py3-none-any.whl (1.9 MB)\n",
            "\u001b[2K     \u001b[90m━━━━━━━━━━━━━━━━━━━━━━━━━━━━━━━━━━━━━━━━\u001b[0m \u001b[32m1.9/1.9 MB\u001b[0m \u001b[31m22.1 MB/s\u001b[0m eta \u001b[36m0:00:00\u001b[0m\n",
            "\u001b[?25hRequirement already satisfied: numpy>=1.19 in /usr/local/lib/python3.10/dist-packages (from networkx==2.6) (1.22.4)\n",
            "Requirement already satisfied: scipy!=1.6.1,>=1.5 in /usr/local/lib/python3.10/dist-packages (from networkx==2.6) (1.10.1)\n",
            "Requirement already satisfied: matplotlib>=3.3 in /usr/local/lib/python3.10/dist-packages (from networkx==2.6) (3.7.1)\n",
            "Requirement already satisfied: pandas>=1.1 in /usr/local/lib/python3.10/dist-packages (from networkx==2.6) (1.3.5)\n",
            "Requirement already satisfied: contourpy>=1.0.1 in /usr/local/lib/python3.10/dist-packages (from matplotlib>=3.3->networkx==2.6) (1.0.7)\n",
            "Requirement already satisfied: cycler>=0.10 in /usr/local/lib/python3.10/dist-packages (from matplotlib>=3.3->networkx==2.6) (0.11.0)\n",
            "Requirement already satisfied: fonttools>=4.22.0 in /usr/local/lib/python3.10/dist-packages (from matplotlib>=3.3->networkx==2.6) (4.39.3)\n",
            "Requirement already satisfied: kiwisolver>=1.0.1 in /usr/local/lib/python3.10/dist-packages (from matplotlib>=3.3->networkx==2.6) (1.4.4)\n",
            "Requirement already satisfied: packaging>=20.0 in /usr/local/lib/python3.10/dist-packages (from matplotlib>=3.3->networkx==2.6) (23.1)\n",
            "Requirement already satisfied: pillow>=6.2.0 in /usr/local/lib/python3.10/dist-packages (from matplotlib>=3.3->networkx==2.6) (8.4.0)\n",
            "Requirement already satisfied: pyparsing>=2.3.1 in /usr/local/lib/python3.10/dist-packages (from matplotlib>=3.3->networkx==2.6) (3.0.9)\n",
            "Requirement already satisfied: python-dateutil>=2.7 in /usr/local/lib/python3.10/dist-packages (from matplotlib>=3.3->networkx==2.6) (2.8.2)\n",
            "Requirement already satisfied: pytz>=2017.3 in /usr/local/lib/python3.10/dist-packages (from pandas>=1.1->networkx==2.6) (2022.7.1)\n",
            "Requirement already satisfied: six>=1.5 in /usr/local/lib/python3.10/dist-packages (from python-dateutil>=2.7->matplotlib>=3.3->networkx==2.6) (1.16.0)\n",
            "\u001b[33mWARNING: The candidate selected for download or install is a yanked version: 'networkx' candidate (version 2.6 at https://files.pythonhosted.org/packages/b2/87/30ed9e62d5459bbf22b335fc2d9d1faf979d44b1c55a1f0455da0afd756e/networkx-2.6-py3-none-any.whl (from https://pypi.org/simple/networkx/) (requires-python:>=3.7))\n",
            "Reason for being yanked: Need to resolve: https://github.com/networkx/networkx/pull/4967\u001b[0m\u001b[33m\n",
            "\u001b[0mInstalling collected packages: networkx\n",
            "  Attempting uninstall: networkx\n",
            "    Found existing installation: networkx 3.1\n",
            "    Uninstalling networkx-3.1:\n",
            "      Successfully uninstalled networkx-3.1\n",
            "Successfully installed networkx-2.6\n"
          ]
        }
      ],
      "source": [
        "pip install networkx==2.6"
      ]
    },
    {
      "cell_type": "code",
      "execution_count": 9,
      "metadata": {
        "id": "GS2GoOMfokE_",
        "outputId": "1f0364a9-9dbb-4ab8-9409-f54ff68ec213",
        "colab": {
          "base_uri": "https://localhost:8080/",
          "height": 538
        }
      },
      "outputs": [
        {
          "output_type": "stream",
          "name": "stdout",
          "text": [
            "Looking in indexes: https://pypi.org/simple, https://us-python.pkg.dev/colab-wheels/public/simple/\n",
            "Collecting matplotlib==3.5.0\n",
            "  Downloading matplotlib-3.5.0-cp310-cp310-manylinux_2_17_x86_64.manylinux2014_x86_64.whl (11.9 MB)\n",
            "\u001b[2K     \u001b[90m━━━━━━━━━━━━━━━━━━━━━━━━━━━━━━━━━━━━━━━━\u001b[0m \u001b[32m11.9/11.9 MB\u001b[0m \u001b[31m47.7 MB/s\u001b[0m eta \u001b[36m0:00:00\u001b[0m\n",
            "\u001b[?25hRequirement already satisfied: cycler>=0.10 in /usr/local/lib/python3.10/dist-packages (from matplotlib==3.5.0) (0.11.0)\n",
            "Requirement already satisfied: fonttools>=4.22.0 in /usr/local/lib/python3.10/dist-packages (from matplotlib==3.5.0) (4.39.3)\n",
            "Requirement already satisfied: kiwisolver>=1.0.1 in /usr/local/lib/python3.10/dist-packages (from matplotlib==3.5.0) (1.4.4)\n",
            "Requirement already satisfied: numpy>=1.17 in /usr/local/lib/python3.10/dist-packages (from matplotlib==3.5.0) (1.22.4)\n",
            "Requirement already satisfied: packaging>=20.0 in /usr/local/lib/python3.10/dist-packages (from matplotlib==3.5.0) (23.1)\n",
            "Requirement already satisfied: pillow>=6.2.0 in /usr/local/lib/python3.10/dist-packages (from matplotlib==3.5.0) (8.4.0)\n",
            "Requirement already satisfied: pyparsing>=2.2.1 in /usr/local/lib/python3.10/dist-packages (from matplotlib==3.5.0) (3.0.9)\n",
            "Requirement already satisfied: python-dateutil>=2.7 in /usr/local/lib/python3.10/dist-packages (from matplotlib==3.5.0) (2.8.2)\n",
            "Collecting setuptools-scm>=4 (from matplotlib==3.5.0)\n",
            "  Downloading setuptools_scm-7.1.0-py3-none-any.whl (43 kB)\n",
            "\u001b[2K     \u001b[90m━━━━━━━━━━━━━━━━━━━━━━━━━━━━━━━━━━━━━━━━\u001b[0m \u001b[32m43.8/43.8 kB\u001b[0m \u001b[31m4.7 MB/s\u001b[0m eta \u001b[36m0:00:00\u001b[0m\n",
            "\u001b[?25hRequirement already satisfied: six>=1.5 in /usr/local/lib/python3.10/dist-packages (from python-dateutil>=2.7->matplotlib==3.5.0) (1.16.0)\n",
            "Requirement already satisfied: setuptools in /usr/local/lib/python3.10/dist-packages (from setuptools-scm>=4->matplotlib==3.5.0) (67.7.2)\n",
            "Requirement already satisfied: typing-extensions in /usr/local/lib/python3.10/dist-packages (from setuptools-scm>=4->matplotlib==3.5.0) (4.5.0)\n",
            "Requirement already satisfied: tomli>=1.0.0 in /usr/local/lib/python3.10/dist-packages (from setuptools-scm>=4->matplotlib==3.5.0) (2.0.1)\n",
            "Installing collected packages: setuptools-scm, matplotlib\n",
            "  Attempting uninstall: matplotlib\n",
            "    Found existing installation: matplotlib 3.7.1\n",
            "    Uninstalling matplotlib-3.7.1:\n",
            "      Successfully uninstalled matplotlib-3.7.1\n",
            "Successfully installed matplotlib-3.5.0 setuptools-scm-7.1.0\n"
          ]
        },
        {
          "output_type": "display_data",
          "data": {
            "application/vnd.colab-display-data+json": {
              "pip_warning": {
                "packages": [
                  "matplotlib",
                  "mpl_toolkits"
                ]
              }
            }
          },
          "metadata": {}
        }
      ],
      "source": [
        "pip install matplotlib==3.5.0"
      ]
    },
    {
      "cell_type": "markdown",
      "metadata": {
        "id": "MubBWVVEokE_"
      },
      "source": [
        "### Basic Imports"
      ]
    },
    {
      "cell_type": "code",
      "execution_count": 10,
      "metadata": {
        "id": "l2kYRzrnokE_"
      },
      "outputs": [],
      "source": [
        "#\n",
        "# Imports\n",
        "#\n",
        "\n",
        "import pandas\n",
        "import networkx\n",
        "from matplotlib import pyplot\n",
        "import matplotlib"
      ]
    },
    {
      "cell_type": "code",
      "execution_count": 11,
      "metadata": {
        "id": "GAoHgUx3okFA"
      },
      "outputs": [],
      "source": [
        "# To create directory\n",
        "import errno\n",
        "import os"
      ]
    },
    {
      "cell_type": "code",
      "execution_count": 12,
      "metadata": {
        "id": "5nDkCa5pokFA"
      },
      "outputs": [],
      "source": [
        "#\n",
        "# to get display function for Python without Jupyter notebook\n",
        "#\n",
        "from IPython.display import display, Math"
      ]
    },
    {
      "cell_type": "code",
      "execution_count": 13,
      "metadata": {
        "id": "bpy-DoohokFA",
        "outputId": "7fa640da-621f-4b68-927b-abf210db0b89",
        "colab": {
          "base_uri": "https://localhost:8080/"
        }
      },
      "outputs": [
        {
          "output_type": "stream",
          "name": "stderr",
          "text": [
            "<ipython-input-13-5fc1b54f3084>:7: FutureWarning: Passing a negative integer is deprecated in version 1.0 and will not be supported in future version. Instead, use None to not limit the column width.\n",
            "  pandas.set_option('max_colwidth', -1)\n"
          ]
        }
      ],
      "source": [
        "#\n",
        "# to display wide columns\n",
        "#\n",
        "\n",
        "pandas.set_option('display.max_columns', None)  \n",
        "pandas.set_option('display.expand_frame_repr', False)\n",
        "pandas.set_option('max_colwidth', -1)\n"
      ]
    },
    {
      "cell_type": "markdown",
      "metadata": {
        "id": "X6--jOXJokFA"
      },
      "source": [
        "### Note about Representation Error\n",
        "\n",
        "On the https://docs.python.org/3/tutorial/floatingpoint.html:\n",
        "\n",
        "_Also, since the 0.1 cannot get any closer to the exact value of 1/10 and 0.3 cannot get any closer to the exact value of 3/10, then pre-rounding with ```round()``` function cannot help:_\n",
        "\n",
        "```python\n",
        ">>> round(.1, 1) + round(.1, 1) + round(.1, 1) == round(.3, 1)\n",
        "False\n",
        "```"
      ]
    },
    {
      "cell_type": "code",
      "execution_count": 14,
      "metadata": {
        "id": "9SzsDCxHokFA",
        "outputId": "76e4e566-0f12-4e9b-e127-3c5059246ae2",
        "colab": {
          "base_uri": "https://localhost:8080/"
        }
      },
      "outputs": [
        {
          "output_type": "stream",
          "name": "stdout",
          "text": [
            "Notebook execution: 0:01:02.608076\n"
          ]
        }
      ],
      "source": [
        "str(datetime.timedelta(seconds=666))\n",
        "print(\"Notebook execution: \" + str(datetime.timedelta(seconds=(time.time()-notebook_start_time)))) "
      ]
    },
    {
      "cell_type": "markdown",
      "metadata": {
        "id": "GWFB4qAPokFA"
      },
      "source": [
        "## Input Data"
      ]
    },
    {
      "cell_type": "markdown",
      "metadata": {
        "id": "XE6C1XlgokFA"
      },
      "source": [
        "### Constants"
      ]
    },
    {
      "cell_type": "code",
      "execution_count": 15,
      "metadata": {
        "id": "e9JQ9CrQokFA"
      },
      "outputs": [],
      "source": [
        "# constant for \"Excel\" file delimiter\n",
        "s_c_graph_data_delimiter = ',';"
      ]
    },
    {
      "cell_type": "code",
      "execution_count": 16,
      "metadata": {
        "id": "0sTV7aEpokFA"
      },
      "outputs": [],
      "source": [
        "# folder for results for article\n",
        "s_c_results = 'results/';\n",
        "# folder for other results not needed for article\n",
        "s_c_results_other = 'pdf/';"
      ]
    },
    {
      "cell_type": "code",
      "execution_count": 17,
      "metadata": {
        "id": "HWaggbzTokFA"
      },
      "outputs": [],
      "source": [
        "# constants for figure dimensions (t_c ... tuple constant)\n",
        "t_c_test_phase_dim = (50,6);\n",
        "t_c_test_phase_dim = (110,6);\n",
        "t_c_test_phase_dim = (70,7);"
      ]
    },
    {
      "cell_type": "markdown",
      "metadata": {
        "id": "22_HQrs3okFA"
      },
      "source": [
        "### Create output directories"
      ]
    },
    {
      "cell_type": "code",
      "execution_count": 18,
      "metadata": {
        "id": "gaxWV67PokFA"
      },
      "outputs": [],
      "source": [
        "os.makedirs(s_c_results, exist_ok=True);\n",
        "os.makedirs(s_c_results+s_c_results_other, exist_ok=True);"
      ]
    },
    {
      "cell_type": "markdown",
      "metadata": {
        "id": "K6TNocJAokFA"
      },
      "source": [
        "### Definition ```d_position```"
      ]
    },
    {
      "cell_type": "markdown",
      "metadata": {
        "id": "hQffLdzFokFA"
      },
      "source": [
        "Variable d_position is (should be) written in a file for definition of graph nodes"
      ]
    },
    {
      "cell_type": "code",
      "execution_count": 19,
      "metadata": {
        "id": "cTQeDviHokFA"
      },
      "outputs": [],
      "source": [
        "# Explicitly defined positions\n",
        "# d_position = {1: (0,0), 2: (1,0), 3: (1,1), 4: (0,1), 5: (-0.5,0.5), 6:(1.5,0.5)}"
      ]
    },
    {
      "cell_type": "markdown",
      "metadata": {
        "id": "d2_vPHBmokFA"
      },
      "source": [
        "### Definition ```d_node_label```"
      ]
    },
    {
      "cell_type": "markdown",
      "metadata": {
        "id": "EGFIS4YKokFA"
      },
      "source": [
        "Done: add d_node_label to file - ```f_read_data_from_files``` generates globals: ```d_edge_label```,  ```d_node_label```"
      ]
    },
    {
      "cell_type": "raw",
      "metadata": {
        "id": "jAW0iA--okFD"
      },
      "source": [
        "# labels for nodes in LaTeX math\n",
        "# Raw string format r'string' assures that all backslashes are left in the string\n",
        "d_node_label = {};\n",
        "d_node_label[1] = r'$v_1$';\n",
        "d_node_label[2] = r'$v_2$';\n",
        "d_node_label[3] = r'$v_3$';\n",
        "d_node_label[4] = r'$v_4$';\n",
        "d_node_label[5] = r'$v_5$';\n",
        "d_node_label[6] = r'$v_6$';\n",
        "\n",
        "# graph values for labels for nodes\n",
        "# d_node_label = df_node[\"delta\"]"
      ]
    },
    {
      "cell_type": "markdown",
      "metadata": {
        "id": "y8UXMhfSokFD"
      },
      "source": [
        "### Definition ```d_edge_label```"
      ]
    },
    {
      "cell_type": "markdown",
      "metadata": {
        "id": "1yAHDwZookFD"
      },
      "source": [
        "Done: add d_edge_label to file - ```f_read_data_from_files``` generates globals: ```d_edge_label```,  ```d_node_label```"
      ]
    },
    {
      "cell_type": "raw",
      "metadata": {
        "id": "a09_jtTookFD"
      },
      "source": [
        "# labels for edges in LaTeX math\n",
        "# d_edge_label = {};\n",
        "d_edge_label={\n",
        "    (1,2):r'$e_{1,2}$',\n",
        "    (1,3):r'$e_{1,3}$',\n",
        "    (1,4):r'$e_{1,4}$',\n",
        "    (2,3):r'$e_{2,3}$',\n",
        "    (3,4):r'$e_{3,4}$',\n",
        "};\n",
        "\n",
        "d_edge_label={\n",
        "    (1,2):r'$e_1$',\n",
        "    (1,3):r'$e_2$',\n",
        "    (1,4):r'$e_5$',\n",
        "    (2,3):r'$e_3$',\n",
        "    (3,4):r'$e_4$',\n",
        "};\n",
        "\n",
        "d_edge_label={\n",
        "    (1,2):r'$e_1$',\n",
        "    (1,3):r'$e_2$',\n",
        "    (1,4):r'$e_5$',\n",
        "    (2,3):r'$e_3$',\n",
        "    (3,4):r'$e_4$',\n",
        "    (5,2):r'$e_6$',\n",
        "    (5,4):r'$e_7$',\n",
        "    (6,2):r'$e_8$',\n",
        "    (6,4):r'$e_9$',\n",
        "};\n",
        "\n",
        "# graph values for labels for edges\n",
        "# d_edge_label=df_edge[\"delta\"];"
      ]
    },
    {
      "cell_type": "markdown",
      "metadata": {
        "id": "l1YZX7-_okFE"
      },
      "source": [
        "### Definition ```n_font_size```\n",
        "Size of font for drawing."
      ]
    },
    {
      "cell_type": "code",
      "execution_count": 20,
      "metadata": {
        "id": "eapMzLHzokFE"
      },
      "outputs": [],
      "source": [
        "# Font size for labels\n",
        "# n_font_size = 36;\n",
        "n_font_size = 50;"
      ]
    },
    {
      "cell_type": "code",
      "execution_count": 21,
      "metadata": {
        "id": "qoMAoEFHokFE",
        "outputId": "3869c4c8-8e04-4083-e5e8-f36d0358adf8",
        "colab": {
          "base_uri": "https://localhost:8080/"
        }
      },
      "outputs": [
        {
          "output_type": "stream",
          "name": "stdout",
          "text": [
            "Notebook execution: 0:01:02.724239\n"
          ]
        }
      ],
      "source": [
        "str(datetime.timedelta(seconds=666))\n",
        "print(\"Notebook execution: \" + str(datetime.timedelta(seconds=(time.time()-notebook_start_time)))) "
      ]
    },
    {
      "cell_type": "markdown",
      "metadata": {
        "id": "CplRBFOnokFE"
      },
      "source": [
        "## Definition of Functions"
      ]
    },
    {
      "cell_type": "markdown",
      "metadata": {
        "id": "du9phoD_okFE"
      },
      "source": [
        "Unit testing\n",
        "* [f_draw_TP_min_deduplication](#f_draw_TP_min_deduplication)\n"
      ]
    },
    {
      "cell_type": "markdown",
      "metadata": {
        "id": "l2IVtkm8okFE"
      },
      "source": [
        "### Function ```f_debug_start_with_function``` ```f_debug_end_with_function```"
      ]
    },
    {
      "cell_type": "code",
      "execution_count": 22,
      "metadata": {
        "id": "QEtLtJYdokFE"
      },
      "outputs": [],
      "source": [
        "def f_debug_start_with_function(s_function_name):\n",
        "    logger.info('~~~~~~~~~~~~~~~~~~~~~~~~~~~~~~~~~~~~~~~~~~~~~~~~~~~~~~~~~~> ' + str(s_function_name))"
      ]
    },
    {
      "cell_type": "code",
      "execution_count": 23,
      "metadata": {
        "id": "XSL5pF6XokFE"
      },
      "outputs": [],
      "source": [
        "def f_debug_end_with_function(s_function_name):\n",
        "    logger.info('<.......................................................... ' + str(s_function_name))"
      ]
    },
    {
      "cell_type": "markdown",
      "metadata": {
        "id": "wGXCWlCHokFE"
      },
      "source": [
        "### Function ```f_set_from_list_list```"
      ]
    },
    {
      "cell_type": "code",
      "execution_count": 24,
      "metadata": {
        "id": "oycW00cdokFE"
      },
      "outputs": [],
      "source": [
        "#\n",
        "# Function f_set_from_list_list\n",
        "#\n",
        "# Input\n",
        "#  list of lists\n",
        "#\n",
        "# Return\n",
        "#  Set of elemetns from flatten list for 1 level\n",
        "#\n",
        "f_set_from_list_list = lambda l: set(\n",
        "    [\n",
        "        item\n",
        "        for sublist in l\n",
        "        for item in sublist\n",
        "    ]\n",
        ")"
      ]
    },
    {
      "cell_type": "markdown",
      "metadata": {
        "id": "hoBZ7R0pokFE"
      },
      "source": [
        "### Function ```f_set_nodes(d_TP, s_suite_name)```"
      ]
    },
    {
      "cell_type": "code",
      "execution_count": 25,
      "metadata": {
        "id": "7ZoGZ_zKokFE"
      },
      "outputs": [],
      "source": [
        "#\n",
        "# Function f_set_nodes\n",
        "#\n",
        "# Input\n",
        "#   d_TP         .. test phases presented as a dictionary of test suites\n",
        "#   s_suite_name .. test suite name\n",
        "#\n",
        "# Return\n",
        "#  Set of nodes in test suite\n",
        "#\n",
        "def f_set_nodes(d_TP, s_suite_name):\n",
        "    return(\n",
        "        set.union(*list(map(set,d_TP[s_suite_name])))\n",
        "    )"
      ]
    },
    {
      "cell_type": "markdown",
      "metadata": {
        "id": "qetsXm9fokFE"
      },
      "source": [
        "### Function ```f_list_nodes(d_TP, s_suite_name)```"
      ]
    },
    {
      "cell_type": "code",
      "execution_count": 26,
      "metadata": {
        "id": "6g3JxdjHokFE"
      },
      "outputs": [],
      "source": [
        "#\n",
        "# Function f_list_nodes\n",
        "#\n",
        "# Input\n",
        "#   d_TP         .. test phases presented as a dictionary of test suites\n",
        "#   s_suite_name .. test suite name\n",
        "#\n",
        "# Return\n",
        "#  List of nodes in test suite\n",
        "#\n",
        "def f_list_nodes(d_TP, s_suite_name):\n",
        "    l_tmp_list = [];\n",
        "    \n",
        "    l_tmp_list = list(map(set,d_TP[s_suite_name]));\n",
        "    \n",
        "    # check empty list\n",
        "    if not l_tmp_list:\n",
        "        return(l_tmp_list);\n",
        "    else:\n",
        "        return(\n",
        "            list(set.union(*l_tmp_list))\n",
        "        )"
      ]
    },
    {
      "cell_type": "markdown",
      "metadata": {
        "id": "e7sQzUZTokFE"
      },
      "source": [
        "### Function ```f_set_edges(d_TP, s_suite_name)```"
      ]
    },
    {
      "cell_type": "code",
      "execution_count": 27,
      "metadata": {
        "id": "gyqb14njokFE"
      },
      "outputs": [],
      "source": [
        "#\n",
        "# Function f_set_edges\n",
        "#\n",
        "# Input\n",
        "#   d_TP         .. test phases presented as a dictionary of test suites\n",
        "#   s_suite_name .. test suite name\n",
        "#\n",
        "# Return\n",
        "#  Set of edges in test suite\n",
        "#\n",
        "def f_set_edges(d_TP, s_suite_name):\n",
        "    return(\n",
        "        set(d_TP[s_suite_name])\n",
        "    )"
      ]
    },
    {
      "cell_type": "markdown",
      "metadata": {
        "id": "PCdS5Q6xokFE"
      },
      "source": [
        "### Function ```f_list_edges(d_TP, s_suite_name)```"
      ]
    },
    {
      "cell_type": "code",
      "execution_count": 28,
      "metadata": {
        "id": "X8oc171bokFF"
      },
      "outputs": [],
      "source": [
        "#\n",
        "# Function f_list_edges\n",
        "#\n",
        "# Input\n",
        "#   d_TP         .. test phases presented as a dictionary of test suites\n",
        "#   s_suite_name .. test suite name\n",
        "#\n",
        "# Return\n",
        "#  List of edges in test suite\n",
        "#\n",
        "def f_list_edges(d_TP, s_suite_name):\n",
        "    return(\n",
        "        d_TP[s_suite_name]\n",
        "    )"
      ]
    },
    {
      "cell_type": "markdown",
      "metadata": {
        "id": "Y9llzAu-okFF"
      },
      "source": [
        "### Function ```f_get_TS_weight```"
      ]
    },
    {
      "cell_type": "markdown",
      "metadata": {
        "id": "9ezvMk_WokFF"
      },
      "source": [
        "Note about the implementation: Warning referenced to __Returning a view versus a copy__\n",
        "\n",
        "Solution:\n",
        "Reference to an element in data frame ```df.at['line','column']``` and not ```df['column'].loc[line]``` or ```df['column']['line']```\n"
      ]
    },
    {
      "cell_type": "code",
      "execution_count": 29,
      "metadata": {
        "id": "n-Hb2ndFokFF"
      },
      "outputs": [],
      "source": [
        "#\n",
        "# f_get_TS_weight\n",
        "#\n",
        "# Results:\n",
        "#  1. Creates data frame with weighted TS that defines test phase\n",
        "#  4. Dictionary weights values for test phase\n",
        "#\n",
        "# GLOBAL results:\n",
        "#  2. In df_node and df_edge update (or add) values (columns)\n",
        "#   - delta\n",
        "#   - epsilon    \n",
        "#  3. In df_node and df_edge set values to 0 for t_kappa and t_theta for nodes and edges\n",
        "#     that are not a part of d_TP\n",
        "\n",
        "# 2019-12-18\n",
        "# problem: access to df_edge['kappa']\n",
        "\n",
        "\n",
        "def f_get_TS_weight(d_TP):\n",
        "    global df_node\n",
        "    global df_edge\n",
        "    f_debug_start_with_function(\"f_get_TS_weight\")\n",
        "\n",
        "    # set_trace()\n",
        "    \n",
        "    # -----------------------------------------\n",
        "    # 1.\n",
        "    # Add (or update) values for \n",
        "    #    delta\n",
        "    #    epsilon    \n",
        "    f_get_graph_weights(df_node,df_edge)\n",
        "    #\n",
        "    # -----------------------------------------\n",
        "    \n",
        "    # -----------------------------------------\n",
        "    # 2.\n",
        "    \n",
        "    # create data frame with set of TS\n",
        "    df_TPs_weight = f_get_dataframe_from_dictionary(d_TP)\n",
        "\n",
        "    logger.debug(\"df_TPs_weight from dictionary d_TP:\")\n",
        "    logger.debug(df_TPs_weight)\n",
        "    \n",
        "    # Definition of columns\n",
        "    df_TPs_weight[\"kappa\"] = 0\n",
        "    df_TPs_weight[\"theta\"] = 0\n",
        "    df_TPs_weight[\"delta\"] = 0\n",
        "    df_TPs_weight[\"epsilon\"] = 0.0 # IMPORTANT: define float64 data type\n",
        "    df_TPs_weight[\"size\"] = 0\n",
        "\n",
        "    # kappa measure for test suite = kappa measure for test phase\n",
        "#    n_TP_kappa = f_kappa_measure(d_TP)\n",
        "\n",
        "    for s_TS_name in list(d_TP.keys()):\n",
        "        logger.debug(str(s_TS_name) + \":\")\n",
        "        df_TPs_weight.at[s_TS_name,'theta'  ]=     f_theta_measure(d_TP, s_TS_name)\n",
        "        df_TPs_weight.at[s_TS_name,'delta']=f_delta_measure_TS(d_TP, s_TS_name)\n",
        "\n",
        "        # 2020-04-25\n",
        "        df_TPs_weight.at[s_TS_name,'epsilon']=   f_epsilon_measure(d_TP, s_TS_name)\n",
        "        df_TPs_weight.at[s_TS_name,'kappa'  ]=     f_kappa_measure(d_TP, s_TS_name)\n",
        "        \n",
        "        # add weight \"size of TP\" (it is number of edges)\n",
        "        df_TPs_weight.at[s_TS_name, 'size']=len(df_TPs_weight['TS_edges'].loc[s_TS_name])\n",
        "        logger.debug(\" edges=\"+str(df_TPs_weight['size'].loc[s_TS_name]))\n",
        "\n",
        "    # kappa measure for test suite = kappa measure for test phase\n",
        "#    for s_TS_name in list(d_TP.keys()):\n",
        "#        df_TPs_weight.at[s_TS_name,'kappa'  ]=n_TP_kappa\n",
        "    \n",
        "    logger.debug(\"df_TPs_weight with calculated weights:\")\n",
        "    logger.debug(df_TPs_weight)\n",
        "    \n",
        "    #\n",
        "    # -----------------------------------------\n",
        "    \n",
        "    # -----------------------------------------\n",
        "    # 3.\n",
        "    #\n",
        "    # Nodes and edges that are not a part of ```d_TP```\n",
        "    # should have a special value for test (implementation) status: 0\n",
        "    # It means that they should not be developed and should not be tested - they are out of scope.\n",
        "    #\n",
        "    \n",
        "    #\n",
        "    # get set of edges from dictionary ```d_TS_H```\n",
        "    #\n",
        "    set_edges_d_TS = f_set_from_list_list(\n",
        "        list(d_TS_H.values())\n",
        "    )\n",
        "\n",
        "    #\n",
        "    # get set of edges from data frame ```df_edge```\n",
        "    #\n",
        "    set_edges_df_edge = set((list(df_edge.to_dict().values())[0]).keys())\n",
        "\n",
        "    #\n",
        "    # get set of edges from data frame ```df_edge``` and not from dictionary ```d_TS_H```\n",
        "    #\n",
        "    set_edges_only_df_edge = set_edges_df_edge - set_edges_d_TS\n",
        "    \n",
        "    #\n",
        "    # update data frame ```df_edge``` according to edges that are not in ```d_TS_H```\n",
        "    #\n",
        "    for t_the_edge in set_edges_only_df_edge:\n",
        "        logger.debug(\"t_theta(\"+str(t_the_edge)+\") = 0\")\n",
        "        df_edge.at[t_the_edge,'t_theta'] = 0\n",
        "        logger.debug(\"t_kappa(\"+str(t_the_edge)+\") = 0\")\n",
        "        df_edge.at[t_the_edge,'t_kappa'] = 0\n",
        "\n",
        "    #\n",
        "    # get set of nodes from dictionary ```d_TS_H```\n",
        "    #\n",
        "    set_nodes_d_TS = f_set_from_list_list(set_edges_d_TS)\n",
        "#    f_print_var_value('set_nodes_d_TS')\n",
        "    \n",
        "    #\n",
        "    # get set of nodes from data frame ```df_node```\n",
        "    #\n",
        "    set_nodes_df_node = set((list(df_node.to_dict().values())[0]).keys())\n",
        "#    f_print_var_value('set_nodes_df_node')\n",
        "    \n",
        "    #\n",
        "    # get set of nodes from data frame ```df_node``` and not from dictionary ```d_TS_H```\n",
        "    #\n",
        "    set_nodes_only_df_node = set_nodes_df_node - set_nodes_d_TS\n",
        "#    f_print_var_value('set_nodes_only_df_node')\n",
        "    #\n",
        "    # update data frame ```df_node``` according to nodes that are not in ```d_TS_H```\n",
        "    #\n",
        "    for n_the_node in set_nodes_only_df_node:\n",
        "        logger.debug(\"t_theta(\"+str(n_the_node)+\") = 0\")\n",
        "        df_node.at[n_the_node,'t_theta'] = 0\n",
        "        logger.debug(\"t_kappa(\"+str(n_the_node)+\") = 0\")\n",
        "        df_node.at[n_the_node,'t_kappa'] = 0\n",
        "    #\n",
        "    # -----------------------------------------\n",
        "\n",
        "    # -----------------------------------------\n",
        "    # 4.\n",
        "    # Add a special row named TP_WEIGHT = \"TP_weight\" for measure values for test phase\n",
        "    # kappa measure for test suite = kappa measure for test phase\n",
        "    # d_TP_weight\n",
        "    \n",
        "    d_TP_weight = {}\n",
        "    \n",
        "    # 'kappa' weights for all/each test suites are the same: take/get the first one\n",
        "#    d_TP_weight['kappa'] = n_TP_kappa\n",
        "    \n",
        "    d_TP_weight['theta'] = 0\n",
        "    for s_TS_name in list(d_TP.keys()):\n",
        "        d_TP_weight['theta'] += df_TPs_weight.at[s_TS_name,'theta']\n",
        "\n",
        "    d_TP_weight['delta'] = f_delta_measure_TP(d_TP)\n",
        "                                                    \n",
        "    d_TP_weight['epsilon'] = 0\n",
        "    for n_e in df_edge['epsilon']:\n",
        "        d_TP_weight['epsilon'] += n_e\n",
        "    for n_v in df_node['epsilon']:\n",
        "        d_TP_weight['epsilon'] += n_v\n",
        "    \n",
        "    #\n",
        "    # -----------------------------------------\n",
        "\n",
        "    f_debug_end_with_function(\"f_get_TS_weight\")\n",
        "    return(df_TPs_weight,d_TP_weight)"
      ]
    },
    {
      "cell_type": "markdown",
      "metadata": {
        "id": "nOgkUCq1okFF"
      },
      "source": [
        "### Function ```f_get_dataframe_from_dictionary(d_x)```\n",
        "Function ```f_get_dataframe_from_dictionary``` creates test phase presented as data frame with test suites from ```d_x```."
      ]
    },
    {
      "cell_type": "code",
      "execution_count": 30,
      "metadata": {
        "id": "HmePW1shokFF"
      },
      "outputs": [],
      "source": [
        "#\n",
        "# f_get_dataframe_from_dictionary\n",
        "#\n",
        "# Create data frame with set of test suites defined in dictionary d_x\n",
        "#\n",
        "# input\n",
        "#  d_x\n",
        "#\n",
        "# output/return\n",
        "#  df_TP_edges_H with infos about graph edges\n",
        "#\n",
        "\n",
        "def f_get_dataframe_from_dictionary(d_x):\n",
        "    f_debug_start_with_function(\"f_get_dataframe_from_dictionary\")\n",
        "    \n",
        "    #\n",
        "    # Definition of dataframe ```df_TP_edges_H``` reate local variabl\n",
        "    #\n",
        "    df_TP_edges_H = pandas.DataFrame(index=d_x)\n",
        "\n",
        "    #\n",
        "    # Add column 'TS_edges' to data frame\n",
        "    #\n",
        "    df_TP_edges_H['TS_edges'] = list(d_x.values())\n",
        "\n",
        "    f_debug_end_with_function(\"f_get_dataframe_from_dictionary\")\n",
        "    return(df_TP_edges_H)"
      ]
    },
    {
      "cell_type": "markdown",
      "metadata": {
        "id": "7cHPZ7EjokFF"
      },
      "source": [
        "### Function ```f_draw_graph_TP_pure(.,.,.,.,.,.,.)```"
      ]
    },
    {
      "cell_type": "code",
      "execution_count": 31,
      "metadata": {
        "id": "D4bNn8cwokFF"
      },
      "outputs": [],
      "source": [
        "#\n",
        "# input parameter:\n",
        "# * Hx ... index (string, name) to supbraph edges in d_TS_H[] dictionary\n",
        "# * d_TS_H ... edges for TS stored as Python dictionary Output\n",
        "# * df_edge ... graph edges for functionality graph\n",
        "# * d_node_label ... labels for all nodes\n",
        "# * d_edge_label ... labels for all edges\n",
        "# * n_font_size ... font size\n",
        "# * my_base_file_name\n",
        "# * d_position ... dictionary for possition of drawing\n",
        "#\n",
        "def f_draw_graph_TP_pure(\n",
        "    my_Hx,\n",
        "    d_TS_H,\n",
        "    df_edge,\n",
        "    d_local_node_label,\n",
        "    d_local_edge_label,\n",
        "    n_font_size,\n",
        "    d_position,\n",
        "    s_node_color,\n",
        "    s_edge_color,\n",
        "    n_alpha=1,\n",
        "    t_c_test_phase_dim=t_c_test_phase_dim,\n",
        "    bool_print_to_terminal = True\n",
        "):\n",
        "    f_debug_start_with_function(\"f_draw_graph_TP_pure\")\n",
        "    \n",
        "    logger.debug(str(type(d_TS_H)))\n",
        "    \n",
        "    n_graph_node_size = 8000\n",
        "    \n",
        "    # sub graph and complement to sub graph\n",
        "    nxg_G = networkx.Graph(df_edge.index.tolist())\n",
        "    nxg_sub_graph = networkx.Graph(df_edge.index.tolist()).edge_subgraph(d_TS_H[my_Hx])\n",
        "    nxg_complementary_sub_graph = nxg_G.edge_subgraph(list(set(df_edge.index.tolist()) - set(d_TS_H[my_Hx])))\n",
        "    \n",
        "    # specify the size (and the proportion)\n",
        "    pyplot.figure(1,figsize=t_c_test_phase_dim)\n",
        "    \n",
        "    '''\n",
        "    logger.debug('TP (nodes - edges):' +\n",
        "          str(nxg_sub_graph.nodes) + '-' +\n",
        "          str(nxg_sub_graph.edges)\n",
        "    )\n",
        "    logger.debug('Complementary TP (nodes - edges):' +\n",
        "          str(nxg_complementary_sub_graph.nodes) + '-' +\n",
        "          str(nxg_complementary_sub_graph.edges)\n",
        "    )\n",
        "    '''\n",
        "    d_pos = d_position;\n",
        "    \n",
        "    # -------------------------------------------------\n",
        "    # draw TP edges - blue 99%\n",
        "    \n",
        "#     Gedges = networkx.Graph()\n",
        "#     Gedges.add_edges_from(nxg_G)\n",
        "    # draw edges and nodes - no need to draw nodes (TODO: don't draw nodes)\n",
        "    networkx.draw(\n",
        "        nxg_sub_graph,\n",
        "        d_pos,\n",
        "        labels={},\n",
        "        node_color=s_node_color, #'lightskyblue',\n",
        "#        edge_color='lightskyblue',\n",
        "        edge_color = s_edge_color, #'aliceblue', #'lightbluegrey',\n",
        "        width=8,\n",
        "        node_size=n_graph_node_size*0.8,\n",
        "        alpha=n_alpha, # transparency (default=1.0)\n",
        "    );\n",
        "    \n",
        "    # draw complementary graph edges - silver 100%\n",
        "    networkx.draw(\n",
        "        nxg_complementary_sub_graph,\n",
        "        d_pos,\n",
        "        labels={},\n",
        "        node_color='silver',\n",
        "        edge_color='silver',\n",
        "        style='dotted', # (solid|dashed|dotted|dashdot)\n",
        "        width=8,\n",
        "        node_size=n_graph_node_size,\n",
        "        # alpha=0.4,\n",
        "    );\n",
        "\n",
        "    # draw all nodes silver 99%, alpha=1\n",
        "    # noded only from TP\n",
        "    Gnodes = networkx.Graph()\n",
        "    Gnodes.add_nodes_from(nxg_G)    \n",
        "    networkx.draw(\n",
        "        Gnodes,\n",
        "        d_pos,\n",
        "        labels={},\n",
        "        node_color = 'silver',\n",
        "        edge_color = 'silver',\n",
        "        node_size=n_graph_node_size*1,\n",
        "        # alpha=0.4,\n",
        "    );\n",
        "    \n",
        "    '''\n",
        "    # 2019-12-17: no complementary graph nodes\n",
        "    # draw complementary graph nodes 80%\n",
        "    Gnodes = networkx.Graph()\n",
        "    # Gnodes.add_nodes_from(nxg_complementary_sub_graph)    \n",
        "    Gnodes.add_nodes_from(nxg_G)\n",
        "    networkx.draw(\n",
        "        Gnodes,\n",
        "        d_pos,\n",
        "        labels={},\n",
        "        node_color = 'white',\n",
        "        node_size=n_graph_node_size*0.8,\n",
        "        # alpha=0.4,\n",
        "    );\n",
        "    '''\n",
        "    \n",
        "    # draw TP graph nodes 80%\n",
        "    Gnodes = networkx.Graph()\n",
        "    # 2019-12-17: Gnodes.add_nodes_from(nxg_sub_graph)\n",
        "    Gnodes.add_nodes_from(nxg_G) # 2019-12-17\n",
        "    networkx.draw(\n",
        "        Gnodes,\n",
        "        d_pos,\n",
        "        labels={},\n",
        "        font_size = n_font_size,\n",
        "        font_color = 'black',\n",
        "#        node_color = 'lightskyblue',\n",
        "#        node_color = '#B7C9E2', #'lightbluegrey',\n",
        "        node_color = s_node_color, #'aliceblue', #'lightbluegrey',\n",
        "        node_size=n_graph_node_size*0.8,\n",
        "        alpha=n_alpha, # transparency (default=1.0)\n",
        "    );\n",
        "    \n",
        "    # -------------------------------------------------\n",
        "    # Labels\n",
        "    # Problem: cannot draw labels for TS only\n",
        "    # -------------------------------------------------\n",
        "    \n",
        "    #\n",
        "    # remove labels from 'd_local_node_label' for nodes that are not in TP 'nxg_sub_graph'\n",
        "    #\n",
        "    logger.debug('d_local_node_label = ' + str(d_local_node_label))\n",
        "    d_node_label_copy = d_local_node_label.copy()\n",
        "    logger.debug('d_node_label_copy = ' + str(d_node_label_copy))\n",
        "    for n_v in d_local_node_label:\n",
        "        if n_v not in nxg_sub_graph.nodes:\n",
        "            logger.debug(n_v)\n",
        "            #d_local_node_label = d_local_node_label.drop(labels=n_v)    \n",
        "            del d_node_label_copy[n_v]\n",
        "    \n",
        "    # node labels\n",
        "    networkx.draw_networkx_labels(\n",
        "        # 2019-12-17: no complementary graph nodes\n",
        "        # 2019-12-17: nxg_sub_graph, # TP\n",
        "        nxg_G,\n",
        "        #Gnodes, # all graphs\n",
        "        d_pos,\n",
        "        font_family = 'Times New Roman',\n",
        "        # 2019-12-17: no complementary graph nodes\n",
        "        # 2019-12-17: labels=d_node_label_copy,\n",
        "        labels=d_local_node_label,\n",
        "        font_size = n_font_size,\n",
        "        font_color = 'black',\n",
        "    );\n",
        "    \n",
        "    #\n",
        "    # remove labels from 'd_local_edge_label' for nodes that are not in TP 'nxg_sub_graph'\n",
        "    #\n",
        "    logger.debug('d_local_edge_label = ' + str(d_local_edge_label))\n",
        "    d_edge_label_copy = d_local_edge_label.copy()\n",
        "    logger.debug('d_edge_label_copy = ' + str(d_edge_label_copy))\n",
        "    for n_e in d_local_edge_label:\n",
        "        if n_e not in nxg_sub_graph.edges:\n",
        "            logger.debug(n_e)\n",
        "            #d_local_edge_label = d_local_edge_label.drop(labels=n_e)\n",
        "            del d_edge_label_copy[n_e]\n",
        "\n",
        "    # edge labels\n",
        "    networkx.draw_networkx_edge_labels(\n",
        "        nxg_sub_graph, # TP\n",
        "        #Gnodes, # all graphs\n",
        "#        nxg_G,\n",
        "        d_pos,\n",
        "        d_edge_label_copy,\n",
        "        0.5, # label_pos (float) – Position of edge label along edge (0=head, 0.5=center, 1=tail)\n",
        "        font_size = n_font_size,\n",
        "        font_family = 'Times New Roman',\n",
        "        bbox=dict(boxstyle=\"circle,pad=0.1\",fc=\"w\",ec=\"w\"), # style for edge labels\n",
        "    );\n",
        "    # valid strings are ['dejavusans', 'dejavuserif', 'cm', 'stix', 'stixsans', 'custom']\n",
        "    pyplot.rcParams['mathtext.fontset'] = 'stix';\n",
        "    \n",
        "    f_debug_end_with_function(\"f_draw_graph_TP_pure\")"
      ]
    },
    {
      "cell_type": "code",
      "execution_count": 32,
      "metadata": {
        "id": "E7ZrK9n_okFF"
      },
      "outputs": [],
      "source": [
        "#\n",
        "# input parameter:\n",
        "# * Hx ... index (string, name) to supbraph edges in d_TS_H[] dictionary\n",
        "# * d_TS_H ... edges for TS stored as Python dictionary Output\n",
        "# * df_edge ... graph edges for functionality graph\n",
        "# * d_node_label ... labels for all nodes\n",
        "# * d_edge_label ... labels for all edges\n",
        "# * n_font_size ... font size\n",
        "# * my_base_file_name\n",
        "# * d_position ... dictionary for possition of drawing\n",
        "#\n",
        "# 2020-07-31\n",
        "#\n",
        "def f_draw_graph_TP_pure(\n",
        "    my_Hx,\n",
        "    d_TS_H,\n",
        "    df_edge,\n",
        "    d_local_node_label,\n",
        "    d_local_edge_label,\n",
        "    n_font_size,\n",
        "    d_position,\n",
        "    s_node_color,\n",
        "    s_edge_color,\n",
        "    n_alpha=1,\n",
        "    t_c_test_phase_dim=t_c_test_phase_dim,\n",
        "    bool_print_to_terminal = True\n",
        "):\n",
        "    f_debug_start_with_function(\"f_draw_graph_TP_pure\")\n",
        "    \n",
        "    logger.debug(str(type(d_TS_H)))\n",
        "    \n",
        "    n_graph_node_size = 8000\n",
        "    \n",
        "    # sub graph and complement to sub graph\n",
        "    nxg_G = networkx.Graph(df_edge.index.tolist())\n",
        "    nxg_sub_graph = networkx.Graph(df_edge.index.tolist()).edge_subgraph(d_TS_H[my_Hx])\n",
        "    nxg_complementary_sub_graph = nxg_G.edge_subgraph(list(set(df_edge.index.tolist()) - set(d_TS_H[my_Hx])))\n",
        "    \n",
        "    # specify the size (and the proportion)\n",
        "    pyplot.figure(1,figsize=t_c_test_phase_dim)\n",
        "    \n",
        "    '''\n",
        "    logger.debug('TP (nodes - edges):' +\n",
        "          str(nxg_sub_graph.nodes) + '-' +\n",
        "          str(nxg_sub_graph.edges)\n",
        "    )\n",
        "    logger.debug('Complementary TP (nodes - edges):' +\n",
        "          str(nxg_complementary_sub_graph.nodes) + '-' +\n",
        "          str(nxg_complementary_sub_graph.edges)\n",
        "    )\n",
        "    '''\n",
        "    d_pos = d_position;\n",
        "    \n",
        "    # -------------------------------------------------\n",
        "    # (1) draw graph that presents not TC\n",
        "    # Node color: silver for border color\n",
        "    # Edge stype: dotted\n",
        "    networkx.draw(\n",
        "        nxg_complementary_sub_graph,\n",
        "        d_pos,\n",
        "        labels={},\n",
        "        edge_color='silver',\n",
        "        style='dotted', # (solid|dashed|dotted|dashdot)\n",
        "        width=8,\n",
        "        node_size=n_graph_node_size,\n",
        "        node_color = 'silver',\n",
        "    );\n",
        "\n",
        "    \n",
        "    # -------------------------------------------------\n",
        "    # (2) draw nodes from TS black = border color\n",
        "    # draw nodes - no need to draw edges: edgelist ={}\n",
        "    Gnodes = networkx.Graph()\n",
        "    Gnodes.add_nodes_from(nxg_sub_graph)    \n",
        "    networkx.draw(\n",
        "        Gnodes,\n",
        "        d_pos,\n",
        "        labels={},\n",
        "        node_color = 'black',\n",
        "        node_size=n_graph_node_size*1,\n",
        "        edgelist ={}, # no need to draw edges\n",
        "    );\n",
        "    \n",
        "    # -------------------------------------------------\n",
        "    # (3) draw graph nodes from not TC - inside color, 80% of node size\n",
        "    Gnodes = networkx.Graph()\n",
        "    Gnodes.add_nodes_from(nxg_complementary_sub_graph) # 2020-07-31\n",
        "    networkx.draw(\n",
        "        Gnodes,\n",
        "        d_pos,\n",
        "        labels={},\n",
        "        font_size = n_font_size,\n",
        "        font_color = 'black',\n",
        "        node_color = 'aliceblue', #'lightbluegrey',\n",
        "        node_size=n_graph_node_size*0.8,\n",
        "        alpha=n_alpha, # transparency (default=1.0)\n",
        "    );\n",
        "    \n",
        "    # -------------------------------------------------\n",
        "    # (4) draw graph nodes and edges from TC - inside blue color, 80% of node size\n",
        "    networkx.draw(\n",
        "        nxg_sub_graph,\n",
        "        d_pos,\n",
        "        labels={},\n",
        "        node_color = s_node_color,\n",
        "        edge_color = s_edge_color, #'aliceblue', #'lightbluegrey',\n",
        "        width=8,\n",
        "        node_size=n_graph_node_size*0.8,\n",
        "        alpha=n_alpha, # transparency (default=1.0)\n",
        "    );\n",
        "    \n",
        "    # -------------------------------------------------\n",
        "    # Labels\n",
        "    # Problem: cannot draw labels for TS only\n",
        "    # -------------------------------------------------\n",
        "    \n",
        "    #\n",
        "    # remove labels from 'd_local_node_label' for nodes that are not in TP 'nxg_sub_graph'\n",
        "    #\n",
        "    logger.debug('d_local_node_label = ' + str(d_local_node_label))\n",
        "    d_node_label_copy = d_local_node_label.copy()\n",
        "    logger.debug('d_node_label_copy = ' + str(d_node_label_copy))\n",
        "    for n_v in d_local_node_label:\n",
        "        if n_v not in nxg_sub_graph.nodes:\n",
        "            logger.debug(n_v)\n",
        "            #d_local_node_label = d_local_node_label.drop(labels=n_v)    \n",
        "            del d_node_label_copy[n_v]\n",
        "    \n",
        "    # -------------------------------------------------\n",
        "    # (5) print node labels\n",
        "    networkx.draw_networkx_labels(\n",
        "        # 2019-12-17: no complementary graph nodes\n",
        "        # 2019-12-17: nxg_sub_graph, # TP\n",
        "        nxg_G,\n",
        "        #Gnodes, # all graphs\n",
        "        d_pos,\n",
        "        font_family = 'Times New Roman',\n",
        "        # 2019-12-17: no complementary graph nodes\n",
        "        # 2019-12-17: labels=d_node_label_copy,\n",
        "        labels=d_local_node_label,\n",
        "        font_size = n_font_size,\n",
        "        nodelist = {},\n",
        "        font_color = 'black',\n",
        "    );\n",
        "    \n",
        "    #\n",
        "    # remove labels from 'd_local_edge_label' for nodes that are not in TP 'nxg_sub_graph'\n",
        "    #\n",
        "    logger.debug('d_local_edge_label = ' + str(d_local_edge_label))\n",
        "    d_edge_label_copy = d_local_edge_label.copy()\n",
        "    logger.debug('d_edge_label_copy = ' + str(d_edge_label_copy))\n",
        "    for n_e in d_local_edge_label:\n",
        "        if n_e not in nxg_sub_graph.edges:\n",
        "            logger.debug(n_e)\n",
        "            #d_local_edge_label = d_local_edge_label.drop(labels=n_e)\n",
        "            del d_edge_label_copy[n_e]\n",
        "\n",
        "    # -------------------------------------------------\n",
        "    # (6) edge labels\n",
        "    networkx.draw_networkx_edge_labels(\n",
        "        nxg_sub_graph, # TP\n",
        "        #Gnodes, # all graphs\n",
        "#        nxg_G,\n",
        "        d_pos,\n",
        "        d_edge_label_copy,\n",
        "        0.5, # label_pos (float) – Position of edge label along edge (0=head, 0.5=center, 1=tail)\n",
        "        font_size = n_font_size,\n",
        "        font_family = 'Times New Roman',\n",
        "        nodelist = {},\n",
        "        bbox=dict(boxstyle=\"circle,pad=0.1\",fc=\"w\",ec=\"w\"), # style for edge labels\n",
        "    );\n",
        "    # valid strings are ['dejavusans', 'dejavuserif', 'cm', 'stix', 'stixsans', 'custom']\n",
        "    pyplot.rcParams['mathtext.fontset'] = 'stix';\n",
        "    \n",
        "    f_debug_end_with_function(\"f_draw_graph_TP_pure\")"
      ]
    },
    {
      "cell_type": "raw",
      "metadata": {
        "id": "IZPr__i5okFG"
      },
      "source": [
        "\n",
        "f_draw_graph_TP_pure(\n",
        "            'H3', # supbraph (string name) of edges in d_TS_H[] dictionary\n",
        "            df_TP.to_dict()['TS_edges'],\n",
        "            df_edge,\n",
        "            d_local_node_label,\n",
        "            d_local_edge_label,\n",
        "            n_font_size,\n",
        "            d_position,\n",
        "            'lightskyblue',\n",
        "            'lightskyblue',\n",
        "            t_c_test_phase_dim = (10,5)\n",
        "        );\n"
      ]
    },
    {
      "cell_type": "markdown",
      "metadata": {
        "id": "BbdWouDeokFG"
      },
      "source": [
        "### Function ```f_get_graph_weights(dfN,dfE)```\n",
        "\n",
        "Calculating graph weights\n",
        "* implementation cost (delta $\\lambda$)\n",
        "* value (epsilon $\\epsilon$)\n",
        "\n",
        "It is important not to use variable name ```lambda``` - it is used for lambda function in Python. Instead of ```lambda``` variable name is ```delta```, *graph* lambda.\n",
        "\n",
        "The function is included in f_get_TS_weight"
      ]
    },
    {
      "cell_type": "code",
      "execution_count": 33,
      "metadata": {
        "id": "ng3nakchokFG"
      },
      "outputs": [],
      "source": [
        "#\n",
        "# f_get_graph_weights\n",
        "#\n",
        "# Creates data frame with new columns\n",
        "#  delta\n",
        "#  epsilon\n",
        "#\n",
        "# input data frames\n",
        "#  df_node\n",
        "#  df_edge\n",
        "#\n",
        "# output\n",
        "#  df_node with new columns\n",
        "#  df_edge with new columns\n",
        "#\n",
        "def f_get_graph_weights(dfN,dfE):\n",
        "    f_debug_start_with_function(\"f_get_graph_weights\")\n",
        "    # Nodes\n",
        "    dfN[\"delta\"] = (dfN[\"kappa\"] * abs(dfN[\"t_kappa\"])) + (dfN[\"theta\"] * abs(dfN[\"t_theta\"]))\n",
        "    dfN[\"epsilon\"] = abs(dfN[\"t_kappa\"] * dfN[\"t_theta\"]) * dfN[\"sigma\"]\n",
        "\n",
        "    #Edges\n",
        "    dfE[\"delta\"] = (dfE[\"kappa\"] * abs(dfE[\"t_kappa\"])) + (dfE[\"theta\"] * abs(dfE[\"t_theta\"]))\n",
        "    dfE[\"epsilon\"] = abs(dfE[\"t_kappa\"] * dfE[\"t_theta\"]) * dfE[\"sigma\"]\n",
        "    \n",
        "    f_debug_end_with_function(\"f_get_graph_weights\")"
      ]
    },
    {
      "cell_type": "markdown",
      "metadata": {
        "id": "GT5vwn4RokFG"
      },
      "source": [
        "### Function ```f_draw_TS```"
      ]
    },
    {
      "cell_type": "code",
      "execution_count": 34,
      "metadata": {
        "id": "1o4BIK0BokFH"
      },
      "outputs": [],
      "source": [
        "# Input algorithm:\n",
        "#   f_draw_set_TS ... draw set of TS with a use of f_draw_graph_TP_pure\n",
        "#\n",
        "# Input data:\n",
        "#   d_TP  ... dictionary of TS\n",
        "#   s_weight      ... OPTIONAL: string - given graph weight name for in \"df_node\"\n",
        "#   fig_file_name ... OPTIONAL: string - file name of the output file of drawing\n",
        "#   s_title       ... OPTIONAL: string - title of drawing\n",
        "#\n",
        "def f_draw_TS(\n",
        "    d_TP, \n",
        "    s_weight=\"\", \n",
        "    s_file_name=\"\", \n",
        "    s_title=\"\",\n",
        "    bool_print_to_terminal = True,\n",
        "    t_test_phase_dim=t_c_test_phase_dim\n",
        "):\n",
        "    global bool_draw_TS;\n",
        "    \n",
        "    f_debug_start_with_function(\"f_draw_TS\")\n",
        "#    print(type(d_TS_H))\n",
        "\n",
        "    #\n",
        "    # Draw test suites condition.\n",
        "    #  bool_draw_TS\n",
        "    #\n",
        "    if bool_draw_TS:\n",
        "    \n",
        "        d_local_node_label = d_node_label.copy()\n",
        "        d_local_edge_label = d_edge_label.copy()\n",
        "\n",
        "        if s_weight:\n",
        "            # there is given graph weight name for in \"df_node\"\n",
        "\n",
        "            # update values to format it as LaTeX number\n",
        "            for key in d_node_label:\n",
        "                d_local_node_label[key]=\"$\"+str(df_node[s_weight].to_dict()[key])+\"$\"\n",
        "\n",
        "            for key in d_edge_label:\n",
        "                d_local_edge_label[key]=\"$\"+str(df_edge[s_weight].to_dict()[key])+\"$\"\n",
        "\n",
        "        logger.debug(\"f_draw_TS :\" + str(s_weight))\n",
        "#        display(d_local_node_label)\n",
        "#        display(d_local_edge_label)\n",
        "\n",
        "        #\n",
        "        # original TP definitnion 'd_TS_H'\n",
        "        #\n",
        "        pyplot.figure(figsize=t_test_phase_dim); # different figsize proportion for on screen and to file\n",
        "        f_draw_set_TS(\n",
        "            d_TP,\n",
        "            df_edge,\n",
        "            d_local_node_label,\n",
        "            d_local_edge_label,\n",
        "            n_font_size,\n",
        "            d_position,\n",
        "            s_file_name,\n",
        "            s_title,\n",
        "            bool_print_to_terminal\n",
        "        )\n",
        "        \n",
        "    f_debug_end_with_function(\"f_draw_TS\")"
      ]
    },
    {
      "cell_type": "markdown",
      "metadata": {
        "id": "urSOqTsJokFH"
      },
      "source": [
        "### Function ```f_draw_set_TS(.,.,.,.,.,.,.)```"
      ]
    },
    {
      "cell_type": "code",
      "execution_count": 35,
      "metadata": {
        "id": "U_K4BzY_okFH"
      },
      "outputs": [],
      "source": [
        "# Input algorithm:\n",
        "#   f_draw_set_TS ... draw TS on the default figure (with a use of f_draw_graph_TP_pure)\n",
        "#\n",
        "# Input data:\n",
        "#   d_TP    ... dictionary of TS\n",
        "#   fig_file_name ... OPTIONAL: string - file name of the output file of drawing\n",
        "#   s_title       ... OPTIONAL: string - title of drawing\n",
        "#\n",
        "def f_draw_set_TS(\n",
        "    d_TP,\n",
        "    df_edge,\n",
        "    d_local_node_label,\n",
        "    d_local_edge_label,\n",
        "    n_font_size,\n",
        "    d_position,\n",
        "    fig_file_name = \"\",\n",
        "    s_title = \"\",\n",
        "    bool_print_to_terminal = True\n",
        "):\n",
        "    f_debug_start_with_function(\"f_draw_set_TS\")\n",
        "    \n",
        "    # adjust space between graphs - remove vertical space between figures\n",
        "    pyplot.subplots_adjust(wspace=0);\n",
        "       \n",
        "    # size (width) of test phase figure, where hight is 1\n",
        "    n_tp_fig_cols = len(d_TP);\n",
        "\n",
        "    #\n",
        "    i = 0\n",
        "    for s_TS in d_TP:\n",
        "        i=i+1\n",
        "#        print(s_TS,i)\n",
        "#        print(type(s_TS))\n",
        "#        print(s_TS.index)\n",
        "        pyplot.subplot(1, n_tp_fig_cols, i); # subplot(nrows, ncols, index,)\n",
        "#        pyplot.title(\"Title:\")\n",
        "        f_draw_graph_TP_pure(\n",
        "            s_TS, # supbraph (string name) of edges in d_TS_H[] dictionary\n",
        "            d_TP,\n",
        "            df_edge,\n",
        "            d_local_node_label,\n",
        "            d_local_edge_label,\n",
        "            n_font_size,\n",
        "            d_position,\n",
        "            'lightskyblue',\n",
        "            'lightskyblue'\n",
        "        );\n",
        "    \n",
        "    if fig_file_name:\n",
        "        # https://matplotlib.org/api/_as_gen/matplotlib.pyplot.savefig.html\n",
        "        pyplot.savefig(s_c_results+fig_file_name, transparent=True, optimize=True, bbox_inches='tight');# PDF\n",
        "   \n",
        "    pyplot.suptitle(s_title, fontsize=36)\n",
        "    if bool_print_to_terminal:\n",
        "#        print(\"bool_print_to_terminal =\", bool_print_to_terminal);\n",
        "        pyplot.show();\n",
        "    else:\n",
        "#        print(\"bool_print_to_terminal =\", bool_print_to_terminal);\n",
        "        pyplot.close();\n",
        "            \n",
        "    f_debug_end_with_function(\"f_draw_set_TS\")"
      ]
    },
    {
      "cell_type": "markdown",
      "metadata": {
        "id": "p2Us957vokFH"
      },
      "source": [
        "### Function ```f_TS_nodes(d_TS_local,s_TS_local)```"
      ]
    },
    {
      "cell_type": "code",
      "execution_count": 36,
      "metadata": {
        "id": "f3J6uxdEokFH"
      },
      "outputs": [],
      "source": [
        "#\n",
        "# create set of nodes for test suite s_TS_local\n",
        "#\n",
        "# 2019-12-01: Fix - added parameter d_TS_local (and not d_TS_H)\n",
        "#\n",
        "def f_TS_nodes(d_TS_local,s_TS_local):\n",
        "    f_debug_start_with_function(\"f_TS_nodes\")\n",
        "    \n",
        "    set_nodes = set()\n",
        "    for elt in d_TS_local[s_TS_local]:\n",
        "        set_nodes.add(elt[0])\n",
        "        set_nodes.add(elt[1])\n",
        "\n",
        "    f_debug_end_with_function(\"f_TS_nodes\")\n",
        "    return(set_nodes)"
      ]
    },
    {
      "cell_type": "markdown",
      "metadata": {
        "id": "F1UnKZfYokFH"
      },
      "source": [
        "### Function ```f_kappa_measure(d_sH)``` - development cost"
      ]
    },
    {
      "cell_type": "markdown",
      "metadata": {
        "id": "u3JmHdfhokFH"
      },
      "source": [
        "$\\kappa$ .. _the **development** cost for test phase $\\mathcal H$:\n",
        " \t\\begin{eqnarray}\n",
        "\t\t&& \\kappa(H) = \n",
        "\t\t\\!\\!\\!\\! \\sum_{v_j\\in V(H)} \\kappa(v_j)\\;\\tilde{\\kappa}_{vj} +\n",
        "\t\t\\!\\!\\!\\! \\sum_{e_j\\in E(H)} \\kappa(e_j)\\;\\tilde{\\kappa}_{ej}\n",
        "\t\\end{eqnarray}\n",
        "$\\kappa$ .. the **development cost** for test phase $\\mathcal H$:\n",
        "\t\\begin{eqnarray}\n",
        "\t\t&& \\kappa({\\mathcal H}) =\n",
        "\t\t\\!\\!\\!\\! \\sum_{v_j\\in V({\\mathcal H})} \\kappa(v_j)\\;\\tilde{\\kappa}_{vj} +\n",
        "\t\t\\!\\!\\!\\! \\sum_{e_j\\in E({\\mathcal H})} \\kappa(e_j)\\;\\tilde{\\kappa}_{ej}\n",
        "\t\\end{eqnarray}"
      ]
    },
    {
      "cell_type": "code",
      "execution_count": 37,
      "metadata": {
        "id": "-Msq_NPjokFH"
      },
      "outputs": [],
      "source": [
        "#\n",
        "# Test Cost value (kappa) 2020-04-25\n",
        "#\n",
        "def f_kappa_measure(\n",
        "    d_TS_H,\n",
        "    s_TS_name\n",
        "):\n",
        "    f_debug_start_with_function(\"f_kappa_measure\")\n",
        "    global df_edge\n",
        "    global df_node\n",
        "    \n",
        "    n_kappa = sum(\n",
        "        df_edge[\"kappa\"][f_list_edges(d_TS_H,s_TS_name)] * df_edge[\"t_kappa\"][f_list_edges(d_TS_H,s_TS_name)]\n",
        "    ) + sum(\n",
        "        df_node[\"kappa\"][f_list_nodes(d_TS_H,s_TS_name)] * df_node[\"t_kappa\"][f_list_nodes(d_TS_H,s_TS_name)] +\n",
        "        df_node[\"theta\"][f_list_nodes(d_TS_H,s_TS_name)] * df_node[\"t_theta\"][f_list_nodes(d_TS_H,s_TS_name)]\n",
        "    );\n",
        "\n",
        "    logger.debug(\" n_kappa(nodes,edges)=(\"+str(n_kappa)+\")\" )\n",
        "    f_debug_end_with_function(\"f_kappa_measure\")\n",
        "    return(n_kappa)\n"
      ]
    },
    {
      "cell_type": "markdown",
      "metadata": {
        "id": "_gYxZIt2okFH"
      },
      "source": [
        "```python\n",
        "#\n",
        "# Development cost value (kappa) for test suite\n",
        "# Important: \"kappa for test suite\" = \"kappa for test phase\"\n",
        "#\n",
        "def f_kappa_measure(\n",
        "    d_TS_H\n",
        "):\n",
        "    f_debug_start_with_function(\"f_kappa_measure\")\n",
        "    # set debug: set_strace()\n",
        "    # set_trace()\n",
        "    \n",
        "    #\n",
        "    # Create set of edges and set of nodes from all TS in dictionary\n",
        "    #\n",
        "    set_edge = set()\n",
        "    set_node = set()\n",
        "    for l_i in list(d_TS_H.values()): # get list of edges from test suite\n",
        "        logger.debug(\"list of edges from test suite = \"+str(l_i))\n",
        "        for t_i in l_i: #  get tuple (edge) from list of edges\n",
        "            logger.debug(\"  \"+str(t_i)+\"  -  \"+str(t_i[0])+\",\"+str(t_i[1]))\n",
        "            set_edge.add(t_i)\n",
        "            set_node.add(t_i[0])\n",
        "            set_node.add(t_i[1])\n",
        "    logger.debug(\"Set of all edges in test phase =\"+str(set_edge))\n",
        "    logger.debug(\"Set od all nodes in test phase =\"+str(set_node))\n",
        "\n",
        "    #\n",
        "    # Sum of kappa measures for vertices and edges\n",
        "    # and sum of theta measure for vertices (unit tests are part of development)\n",
        "    #\n",
        "    n_kappa_nodes = 0\n",
        "    n_theta_nodes = 0\n",
        "    for n_i in set_node:\n",
        "        logger.debug(\"kappa(\"+str(n_i)+\")=\"+str(df_node[\"kappa\"][n_i])+\",\n",
        "                     theta(\"+str(n_i)+\")=\"+str(df_node[\"theta\"][n_i]))\n",
        "        n_kappa_nodes += df_node[\"kappa\"][n_i] * abs(df_node[\"t_kappa\"][n_i])\n",
        "        n_theta_nodes += df_node[\"theta\"][n_i] * abs(df_node[\"t_theta\"][n_i])\n",
        "    logger.debug(\"n_kappa_n=\"+str(n_kappa_nodes))\n",
        "    logger.debug(\"n_theta_n=\"+str(n_theta_nodes))\n",
        "    n_kappa_edges = 0\n",
        "    for t_i in set_edge:\n",
        "        logger.debug(\"kappa(\"+str(t_i[0])+\",\"+str(t_i[1])+\")=\"+str(df_edge[\"kappa\"][t_i]))\n",
        "        n_kappa_edges += df_edge[\"kappa\"][t_i] * abs(df_edge[\"t_kappa\"][t_i])\n",
        "    logger.debug(\"n_kappa_edges=\"+str(n_kappa_edges))\n",
        "    \n",
        "    n_sum = n_kappa_nodes + n_theta_nodes + n_kappa_edges\n",
        "    logger.debug(\" n_kappa(nodes,edges)=(\"+str(n_kappa_nodes)+\",\"+str(n_theta_nodes)+\",\n",
        "                 \"+str(n_kappa_edges)+\")\" + str(n_sum))\n",
        "    f_debug_end_with_function(\"f_kappa_measure\")\n",
        "    return(n_sum)\n",
        "```"
      ]
    },
    {
      "cell_type": "markdown",
      "metadata": {
        "id": "j-mMRhJcokFH"
      },
      "source": [
        "### Function ```f_theta_measure(d_sH,s_TS)``` - test cost"
      ]
    },
    {
      "cell_type": "markdown",
      "metadata": {
        "id": "s6LbsfLYokFH"
      },
      "source": [
        "$\\theta$ .. _the test cost for test suite_ $H$ and _test phase_ $\\mathcal H$:\n",
        " \t\\begin{eqnarray}\n",
        "\t\t% \\label{eq:PhaseTestingCost}\n",
        "\t\t \\theta(H) = \\!\\!\\!\\! \\sum_{e\\in E(H)} \\theta(e)\\;|\\tilde{\\theta}(e)| \n",
        "\t\t % + \\sum_{v\\in V(H)} \\theta(v)\\;|\\tilde{\\theta}(v)| \\!\\!\\! % \\\\\n",
        "\t\t \\quad \\textrm{ and } \\quad \\theta({\\mathcal H}) = \\sum_{H^i \\in {\\mathcal H}} \\theta(H^i). % \\nonumber\n",
        "   \\end{eqnarray}\n"
      ]
    },
    {
      "cell_type": "code",
      "execution_count": 38,
      "metadata": {
        "id": "UlRz1NqpokFH"
      },
      "outputs": [],
      "source": [
        "#\n",
        "# Test Cost value (theta)\n",
        "#\n",
        "def f_theta_measure(\n",
        "    d_TS_H,\n",
        "    s_TS_name\n",
        "):\n",
        "    f_debug_start_with_function(\"f_theta_measure\")\n",
        "    global df_edge\n",
        "\n",
        "    n_theta_edges = sum(\n",
        "        df_edge[\"theta\"][d_TS_H[s_TS_name]] * abs(df_edge[\"t_theta\"][d_TS_H[s_TS_name]])\n",
        "    )\n",
        "\n",
        "    logger.debug(\" n_theta(nodes,edges)=(\"+str(n_theta_edges)+\")\" )\n",
        "    f_debug_end_with_function(\"f_theta_measure\")\n",
        "    return(n_theta_edges)\n"
      ]
    },
    {
      "cell_type": "markdown",
      "metadata": {
        "id": "iA7z2_SjokFH"
      },
      "source": [
        "### Function ```f_delta_measure_T[S|P](d_sH[,s_TS])``` - implementation cost"
      ]
    },
    {
      "cell_type": "markdown",
      "metadata": {
        "id": "SOJFM6v2okFH"
      },
      "source": [
        "$\\lambda$ .. the _implementation cost for test suite_ $H$ and _test phase_ $\\mathcal H$:\n",
        " \t\\begin{eqnarray}\n",
        "\t\\label{eq:ImplementationCost}\n",
        "\t  \\lambda(H)=\\sum_{v\\in V(\\mathcal H)} \\lambda(v) + \\sum_{e\\in E(H)} \\lambda(e) \\quad \\textrm{ and } \\quad % \\\\\n",
        "\t  \\lambda(\\mathcal H)=\\sum_{v\\in V(\\mathcal H)} \\lambda(v) + \\sum_{H\\in V(\\mathcal H)}\\sum_{e\\in E(H)} \\lambda(e). % \\nonumber\n",
        "\t\\end{eqnarray}\n"
      ]
    },
    {
      "cell_type": "markdown",
      "metadata": {
        "id": "cIMDPzcWokFH"
      },
      "source": [
        "Function \"delta\" ($\\lambda$) is a sum of measures \"kappa\" and \"theta\" for vertices and edges:\n",
        "\t\\begin{equation}\n",
        "\t\\label{eq:ImplementationCostVerticesEdges}\n",
        "\t\\begin{aligned}\n",
        "\t& \\lambda : V(G^P)\\cup E(G^P)\\to{\\mathbb R}^+ \\cup \\{0\\} \\\\\n",
        "\t& \\lambda(v)=\\kappa(v)+\\theta(v) \\quad \\textrm{ and } \\quad\n",
        "\t     \\lambda(e)=\\kappa(e)+\\theta(e).\n",
        "\t\\end{aligned}\n",
        "\t\\end{equation}\n"
      ]
    },
    {
      "cell_type": "code",
      "execution_count": 39,
      "metadata": {
        "id": "No_u-BnGokFH"
      },
      "outputs": [],
      "source": [
        "#\n",
        "# Implementation cost value (lambda) for test suite\n",
        "#\n",
        "def f_delta_measure_TS(\n",
        "    d_TS_H,\n",
        "    s_TS_name\n",
        "):\n",
        "    f_debug_start_with_function(\"f_delta_measure_TS\")\n",
        "    global df_edge\n",
        "    global df_node\n",
        "\n",
        "    n_delta_v = df_node['delta'][f_list_nodes(d_TS_H,s_TS_name)].sum()\n",
        "    n_delta_e = df_edge['delta'][f_list_edges(d_TS_H,s_TS_name)].sum()\n",
        "    n_delta_test_suite = n_delta_v + n_delta_e\n",
        "\n",
        "    logger.debug(\" n_delta_test_suite(test_suite)=(\"+str(n_delta_v)+\"+\"+str(n_delta_e)+\")\" )\n",
        "    f_debug_end_with_function(\"f_delta_measure_TS\")\n",
        "    return(n_delta_test_suite)\n"
      ]
    },
    {
      "cell_type": "code",
      "execution_count": 40,
      "metadata": {
        "id": "XVbD-CJCokFH"
      },
      "outputs": [],
      "source": [
        "#\n",
        "# Implementation cost value (lambda) for test phase\n",
        "#\n",
        "def f_delta_measure_TP(\n",
        "    d_TS_H\n",
        "):\n",
        "    f_debug_start_with_function(\"f_delta_measure_TP\")\n",
        "    global df_edge\n",
        "    global df_node\n",
        "\n",
        "    n_delta_v = df_node['delta'].sum()\n",
        "    \n",
        "    n_delta_e = 0\n",
        "    for s_H in d_TS_H:\n",
        "        n_tmp_delta_H = df_edge['delta'][d_TS_H[s_H]].sum()\n",
        "        logger.debug(\"  delta(\"+str(s_H)+\")=\"+str(n_tmp_delta_H))\n",
        "        n_delta_e += n_tmp_delta_H\n",
        "    \n",
        "    n_delta_test_suite = n_delta_v + n_delta_e\n",
        "\n",
        "    logger.debug(\" n_delta_test_suite(test_suite)=(\"+str(n_delta_v)+\"+\"+str(n_delta_e)+\")\" )\n",
        "    f_debug_end_with_function(\"f_delta_measure_TP\")\n",
        "    return(n_delta_test_suite)\n"
      ]
    },
    {
      "cell_type": "markdown",
      "metadata": {
        "id": "TUGLkQibokFI"
      },
      "source": [
        "### Function ```f_epsilon_measure(d_TS_H,s_TS_name)``` - implementation value"
      ]
    },
    {
      "cell_type": "markdown",
      "metadata": {
        "id": "sWfpHwGfokFI"
      },
      "source": [
        "$\\epsilon$ .. the _implementation value for test suite_ $H$ and _test phase_ $\\mathcal H$:\n",
        "\t\\begin{eqnarray}\n",
        "\t\\epsilon(H) = \\!\\!\\!\\! \\sum_{v\\in V(H)} \\epsilon(v) + \\!\\!\\!\\sum_{e\\in E(H)} \\epsilon(e)\n",
        "\t\\quad \\textrm{ and } \\quad\n",
        "\t\\epsilon({\\mathcal H}) = \\!\\!\\!\\! \\sum_{v\\in V({{G^P}})} \\epsilon(v) + \\!\\!\\!\\sum_{e\\in E({{\\mathcal H}})} \\epsilon(e).  \n",
        "\t\\end{eqnarray}\n",
        "    where\n",
        "\t\\begin{eqnarray}\n",
        "    \t& \\epsilon(v)=|\\tilde{\\theta}(v)\\cdot\\tilde{\\kappa}(v)|\\cdot \\sigma(v) \\quad \\textrm{ and } \\quad % \\in V({\\mathcal H})\\cup E({\\mathcal H})\n",
        "\t   \\epsilon(e)=|\\tilde{\\theta}(e)\\cdot\\tilde{\\kappa}(e)|\\cdot \\sigma(e) %, \\quad \\in V({\\mathcal H})\\cup E({\\mathcal H})\n",
        "\t\\end{eqnarray}"
      ]
    },
    {
      "cell_type": "code",
      "execution_count": 41,
      "metadata": {
        "id": "7vG2b1IYokFI"
      },
      "outputs": [],
      "source": [
        "#\n",
        "# Test Cost value (epsilon) 2020-04-25\n",
        "#\n",
        "def f_epsilon_measure(\n",
        "    d_TS_H,\n",
        "    s_TS_name\n",
        "):\n",
        "    f_debug_start_with_function(\"f_epsilon_measure\")\n",
        "    global df_edge\n",
        "    global df_node\n",
        "    \n",
        "    n_epsilon = sum(\n",
        "        df_edge[\"epsilon\"][f_list_edges(d_TS_H,s_TS_name)]\n",
        "    ) + sum(\n",
        "        df_node[\"epsilon\"][f_list_nodes(d_TS_H,s_TS_name)]\n",
        "    );\n",
        "\n",
        "    logger.debug(\" n_epsilon(nodes,edges)=(\"+str(n_epsilon)+\")\" )\n",
        "    f_debug_end_with_function(\"f_epsilon_measure\")\n",
        "    return(n_epsilon)\n"
      ]
    },
    {
      "cell_type": "markdown",
      "metadata": {
        "id": "P9TA63MBokFI"
      },
      "source": [
        "```python\n",
        "#\n",
        "# Implementation cost value (epsilon)\n",
        "#\n",
        "def f_epsilon_measure(\n",
        "    d_TS_H,\n",
        "    s_TS_name\n",
        "):\n",
        "    global df_node\n",
        "    global df_edge\n",
        "    \n",
        "    f_debug_start_with_function(\"f_epsilon_measure\")\n",
        "\n",
        "    #\n",
        "    # Create set of edges and set of nodes from all TS in dictionary\n",
        "    #\n",
        "    set_edge = set()\n",
        "    set_node = set()\n",
        "    for l_i in list(d_TS_H.values()): # get list of edges from test suite\n",
        "        logger.debug(\"list of edges from test suite = \"+str(l_i))\n",
        "        for t_i in l_i: #  get tuple (edge) from list of edges\n",
        "            logger.debug(\"  \"+str(t_i)+\"  -  \"+str(t_i[0])+\",\"+str(t_i[1]))\n",
        "            set_edge.add(t_i)\n",
        "            set_node.add(t_i[0])\n",
        "            set_node.add(t_i[1])\n",
        "    logger.debug(\"Set of all edges in test phase =\"+str(set_edge))\n",
        "    logger.debug(\"Set od all nodes in test phase =\"+str(set_node))\n",
        "\n",
        "    #\n",
        "    # Sum of kappa measures for vertices and edges\n",
        "    # and sum of theta measure for vertices (unit tests are part of development)\n",
        "    #\n",
        "    n_epsilon_nodes = 0\n",
        "    for n_i in set_node:\n",
        "        n_epsilon_nodes += df_node[\"epsilon\"][n_i]\n",
        "        logger.debug(\"epsilon(\"+str(n_i)+\")=\"+str(df_node[\"epsilon\"][n_i]))\n",
        "    logger.debug(\"n_epsilon_nodes=\"+str(n_epsilon_nodes))\n",
        "    n_epsilon_edges = 0\n",
        "    for t_i in set_edge:\n",
        "        logger.debug(\"epsilon(\"+str(t_i[0])+\",\"+str(t_i[1])+\")=\"+str(df_edge[\"epsilon\"][t_i]))\n",
        "        n_epsilon_edges += df_edge[\"epsilon\"][t_i]\n",
        "    logger.debug(\"n_epsilon_edges=\"+str(n_epsilon_edges))\n",
        "    \n",
        "    # nodes that are endnodes of edges in test suite, ONLY\n",
        "#     n_epsilon_nodes = sum(\n",
        "#         df_node[\"epsilon\"][list(f_TS_nodes(d_TS_H,s_TS_name))]\n",
        "#     )\n",
        "    n_sum = n_epsilon_nodes + n_epsilon_edges\n",
        "    logger.debug(\" n_epsilon(nodes,edges)=(\"+str(n_epsilon_nodes)+\",\"+str(n_epsilon_edges)+\")=\" + str(n_sum))\n",
        "    f_debug_end_with_function(\"f_epsilon_measure\")\n",
        "    return(n_sum)\n",
        "```"
      ]
    },
    {
      "cell_type": "markdown",
      "metadata": {
        "id": "z3oCfuBVokFI"
      },
      "source": [
        "### Function ```f_sort_TS_in_TP(df_TP,s_weight,d_TS_H,ascending)```\n",
        "Function ```f_sort_TS_in_TP``` creates TP presented as data frame with TS from ```d_TS_H``` __sorted__ by given weight ```s_weight```."
      ]
    },
    {
      "cell_type": "code",
      "execution_count": 42,
      "metadata": {
        "id": "MsXivz-_okFI"
      },
      "outputs": [],
      "source": [
        "#\n",
        "# f_sort_TS_in_TP\n",
        "#\n",
        "#\n",
        "# input\n",
        "#  df_TP\n",
        "#  s_weight\n",
        "#  d_TS_H\n",
        "#\n",
        "# output\n",
        "#  df_TP with infos about graph edges\n",
        "#\n",
        "# return\n",
        "#  data frame sorted by \"l_weight\" (list of weights)\n",
        "#\n",
        "\n",
        "def f_sort_TS_in_TP(df_TP,l_weight,d_TS_H,bool_local_sort_order_ascending=True):\n",
        "\n",
        "    f_debug_start_with_function(\"f_sort_TS_in_TP\")\n",
        "    logger.debug(d_TS_H)\n",
        "    #\n",
        "    # Add column 'TS_edges' to data frame\n",
        "    #\n",
        "    df_loc_sorted_TS_H = df_TP # create local variable\n",
        "##    df_loc_sorted_TS_H['TS_edges'] = list(d_TS_H.values())\n",
        "    logger.debug(\"df_loc_sorted_TS_H (with edges from d_subgraps_H):\")\n",
        "    logger.debug(df_loc_sorted_TS_H)\n",
        "\n",
        "    #\n",
        "    # Sort data frame by 'delta'\n",
        "    #\n",
        "    df_loc_sorted_TS_H = df_loc_sorted_TS_H.sort_values(by=l_weight,ascending=bool_local_sort_order_ascending)\n",
        "    logger.debug(\"df_loc_sorted_TS_H (sorted by s_weight):\")\n",
        "    logger.debug(df_loc_sorted_TS_H)\n",
        "    \n",
        "    #\n",
        "    # Update TP names (indexes): lambda(H1) <= lambda(H2) ...\n",
        "    #\n",
        "    df_loc_sorted_TS_H.index = list(d_TS_H.keys())\n",
        "    logger.debug(\"df_loc_sorted_TS_H (updated indexes):\")\n",
        "    logger.debug(df_loc_sorted_TS_H)\n",
        "\n",
        "    f_debug_end_with_function(\"f_sort_TS_in_TP\")\n",
        "    return(df_loc_sorted_TS_H)"
      ]
    },
    {
      "cell_type": "markdown",
      "metadata": {
        "id": "jLtjKhOnokFI"
      },
      "source": [
        "### Function ```f_rename_df_index_values(df_TP_sorted,s_old_name,s_new_name)```\n",
        "Function ```f_rename_df_index_values()``` renames index values ```s_old_name``` with ```s_new_name```."
      ]
    },
    {
      "cell_type": "code",
      "execution_count": 43,
      "metadata": {
        "id": "1uTN6TeVokFI"
      },
      "outputs": [],
      "source": [
        "#\n",
        "# Create new df with new TP names\n",
        "#\n",
        "# Input\n",
        "#  df_TP_sorted\n",
        "#  s_old_name\n",
        "#  s_new_name\n",
        "#\n",
        "# Output\n",
        "#  df_wgraphs_M\n",
        "#\n",
        "def f_rename_df_index_values(df_TP_sorted,s_old_name,s_new_name):\n",
        "    f_debug_start_with_function(\"f_rename_df_index_values\")\n",
        "    \n",
        "    # create new data frame\n",
        "    df_wgraphs_M = df_TP_sorted\n",
        "    \n",
        "    # replace name in existing index ```list(df_TP_sorted.index)```\n",
        "    l_new_TS_names = [s_i.replace(s_old_name,s_new_name) for s_i in list(df_TP_sorted.index)]\n",
        "    \n",
        "    # create new index with l_new_TS_names\n",
        "    df_wgraphs_M[\"new_index\"]=l_new_TS_names\n",
        "    \n",
        "    # set index as the column \"new_index\"\n",
        "    df_wgraphs_M = df_wgraphs_M.set_index('new_index')\n",
        "    \n",
        "    # clear index name\n",
        "    df_wgraphs_M.index.name = ''\n",
        "    \n",
        "    f_debug_end_with_function(\"f_rename_df_index_values\")\n",
        "    return(df_wgraphs_M)"
      ]
    },
    {
      "cell_type": "markdown",
      "metadata": {
        "id": "HWB9-3mrokFI"
      },
      "source": [
        "### Function ```f_remove_common_edges(df_TP,s_Hi,s_Hj)```"
      ]
    },
    {
      "cell_type": "markdown",
      "metadata": {
        "id": "nvP8CPT2okFI"
      },
      "source": [
        "* Input data:\n",
        " * __data frame```df_TP```__\n",
        " * __TP ```H_i```__\n",
        " * __TP ```H_j```__\n",
        "\n",
        "* Output\n",
        " * Implicit output: __new TP ```df_TP['TS_edges'][M_i]```__\n",
        " * Return value: __list of removed edges__"
      ]
    },
    {
      "cell_type": "code",
      "execution_count": 44,
      "metadata": {
        "pixiedust": {
          "displayParams": {}
        },
        "id": "RORScIw-okFI"
      },
      "outputs": [],
      "source": [
        "#\n",
        "# From the s_Hi removes edges that are in s_Hj from dataframe df_TP, where size(s_Hi) >= 1.\n",
        "# \n",
        "# Input: df_TP_, s_Hi, s_Hj\n",
        "#\n",
        "# Return:\n",
        "#     Value is the \"list\" of edges in s_Hi as a result of after edges removal\n",
        "#     OR return an empty list [] if \"no edges removed\"\n",
        "#     As function argument is data frame df_TP_ and it is a 'reference' to data frame,\n",
        "#     data frame is updated with this function. Test cases (edges) are removed from test suites in test phase.\n",
        "#\n",
        "\n",
        "# %pixie_debugger\n",
        "\n",
        "def f_remove_common_edges(df_TP_,s_Hi,s_Hj,\n",
        "                            bool_sort_order_ascending=False,\n",
        "                            bool_allow_empty=True):\n",
        "    f_debug_start_with_function(\"f_remove_common_edges\")\n",
        "    \n",
        "    if bool_allow_empty:\n",
        "        if (len(df_TP_['TS_edges'][s_Hi]) <= 1):\n",
        "            logger.debug(\"no edges removed - size of \" + str(s_Hi) + \" is too small\")\n",
        "            return(list())\n",
        "    set_Hi = sorted(df_TP_['TS_edges'][s_Hi],key=None,reverse=bool_sort_order_ascending)\n",
        "    set_Hj = set(df_TP_['TS_edges'][s_Hj])\n",
        "    for elt in set_Hi.copy(): # iterating over a copy of set_Hi to allow chnage of set_Hi\n",
        "        if bool_allow_empty:\n",
        "            if (len(set_Hi) <= 1):\n",
        "                logger.debug(\"stop edge removal - size of \" + str(set_Hi) + \" is too small\")\n",
        "                break\n",
        "        if elt in set_Hj:\n",
        "            set_Hi.remove(elt)\n",
        "            logger.debug('*' + str(elt) + '* ')\n",
        "    # Remove edges also in the graph df_TP_\n",
        "    #  Wrong: df_TP_['TS_edges'][s_Hi] = set_Hi\n",
        "    #  Wrong: df_TP_.loc[:,('TS_edges')][s_Hi] = list(set_Hi)\n",
        "    #  Correct: Use the format \".at\"\n",
        "    df_TP_.at[s_Hi,'TS_edges'] = list(set_Hi)\n",
        "    f_debug_end_with_function(\"f_remove_common_edges\")\n",
        "    return(list(set_Hi))"
      ]
    },
    {
      "cell_type": "markdown",
      "metadata": {
        "id": "kvsSGvL-okFI"
      },
      "source": [
        "### Function ```f_leave_one_edge(df_TP,s_Hi)```"
      ]
    },
    {
      "cell_type": "markdown",
      "metadata": {
        "id": "ApWG5iYbokFI"
      },
      "source": [
        "Leave exactly one edge on ```H_i``` and return that one edge\n",
        "\n",
        "* Input data:\n",
        " * __data frame```df_TP```__\n",
        " * __TP ```H_i```__\n",
        "\n",
        "* Output\n",
        " * Return value: __the one remaining edge__ - the edge is remainder after deletion of more than one edges in the TP ```H_i```"
      ]
    },
    {
      "cell_type": "code",
      "execution_count": 45,
      "metadata": {
        "pixiedust": {
          "displayParams": {}
        },
        "id": "ibFdhY6hokFI"
      },
      "outputs": [],
      "source": [
        "#\n",
        "# \n",
        "# Input: df_TP, s_Hi\n",
        "#\n",
        "# In the s_Hi not more than one edge.\n",
        "# Return value is the one remaining edge in Hi. The format of the edge is tuple.\n",
        "#\n",
        "\n",
        "def f_leave_one_edge(df_TP,s_Hi):\n",
        "    f_debug_start_with_function(\"f_leave_one_edge\")\n",
        "    # set_trace()\n",
        "    set_Hi = set(df_TP['TS_edges'][s_Hi])\n",
        "    for elt in set_Hi.copy(): # iterating over a copy of set_Hi to allow chnage of set_Hi\n",
        "        logger.debug(len(set_Hi))\n",
        "        if len(set_Hi) < 2:\n",
        "            break\n",
        "            logger.debug(\"One\")\n",
        "        set_Hi.remove(elt)\n",
        "        logger.debug(\"*\" + str(elt) + \"* \")\n",
        "    # remove edges also in the graph df_TP\n",
        "    # Use the format \".at\"\n",
        "    df_TP.at[s_Hi,'TS_edges'] = list(set_Hi)\n",
        "    # df_TP.loc[:,('TS_edges')][s_Hi] = list(set_Hi)\n",
        "    # print(df_TP.at[s_Hi,'TS_edges'])\n",
        "    \n",
        "    # there should be only 1 elt in the set_Hi\n",
        "    # Two ways to get the elt from set\n",
        "    # 1. next(iter(set_Hi))\n",
        "    # 2. list(set_Hi)[0]\n",
        "    \n",
        "    f_debug_end_with_function(\"f_leave_one_edge\")\n",
        "    return(next(iter(set_Hi)))"
      ]
    },
    {
      "cell_type": "markdown",
      "metadata": {
        "id": "YXFg19yookFI"
      },
      "source": [
        "### Support functions ```f_size_Hx``` and ```f_TS_Hx```, ```f_read_data_from_files```, ```f_print_var_value```\n",
        "These support functions are needed for ```f_TP_min_deduplication``` and ```f_TP_max_deduplication```"
      ]
    },
    {
      "cell_type": "code",
      "execution_count": 46,
      "metadata": {
        "id": "J3ZCWXrLokFI"
      },
      "outputs": [],
      "source": [
        "#\n",
        "# Return size of graph s_Hx - it is number of edges\n",
        "#\n",
        "def f_size_Hx(df_TP,s_Hx):\n",
        "    f_debug_start_with_function(\"f_size_Hx\")\n",
        "    \n",
        "    return(\n",
        "        len(\n",
        "            df_TP.truncate(before=s_Hx, after=s_Hx).to_dict()['TS_edges'][s_Hx]\n",
        "        )\n",
        "    )"
      ]
    },
    {
      "cell_type": "code",
      "execution_count": 47,
      "metadata": {
        "id": "iFN6Bfe0okFJ"
      },
      "outputs": [],
      "source": [
        "#\n",
        "# Return 'TS_edges' for s_Hx from df_TP\n",
        "#\n",
        "def f_TS_Hx(df_TP,s_Hx):\n",
        "    f_debug_start_with_function(\"f_TS_Hx\")\n",
        "    \n",
        "    return(\n",
        "        df_TP.truncate(\n",
        "            before=s_Hx, after=s_Hx)\n",
        "        .to_dict()['TS_edges']\n",
        "    )"
      ]
    },
    {
      "cell_type": "code",
      "execution_count": 48,
      "metadata": {
        "scrolled": true,
        "id": "nhZzxhi1okFJ"
      },
      "outputs": [],
      "source": [
        "#\n",
        "# Read all data about testing from files\n",
        "#\n",
        "# Input\n",
        "#  s_file_graphN\n",
        "#  s_file_graphE\n",
        "#  s_file_TS\n",
        "#\n",
        "# Return \n",
        "#   df_TP\n",
        "#   d_TP_weight\n",
        "#\n",
        "# Return values as 'global' variables:\n",
        "#   df_node\n",
        "#   df_edge\n",
        "#   d_TS_H\n",
        "#   d_position\n",
        "#   d_node_label\n",
        "#   d_edge_label\n",
        "#\n",
        "def f_read_data_from_files(s_file_graphN, s_file_graphE, s_file_TS):\n",
        "    global df_node\n",
        "    global df_edge\n",
        "    global d_TS_H\n",
        "    global d_position\n",
        "    global d_node_label;\n",
        "    global d_edge_label;\n",
        "    \n",
        "    f_debug_start_with_function(\"f_read_data_from_files\")\n",
        "    \n",
        "    # Read Graph nodes from File\n",
        "    df_node = pandas.read_csv(\"data/\"+s_file_graphN, sep=s_c_graph_data_delimiter, index_col = 0)\n",
        "\n",
        "    logger.debug(df_node)\n",
        "    \n",
        "    # are there data for node position in the df_node\n",
        "    if(('x_position' and 'y_position') in df_node.columns):\n",
        "        d_xpos = df_node['x_position'].to_dict()\n",
        "        d_ypos = df_node['y_position'].to_dict()\n",
        "\n",
        "        d_position = {}\n",
        "        for key in d_xpos.keys():\n",
        "            d_position[key] = tuple(d_position[key] for d_position in [d_xpos,d_ypos])\n",
        "        # global variable d_position is updated\n",
        "\n",
        "    # Read Graph edges from File\n",
        "    df_edge = pandas.read_csv(\"data/\"+s_file_graphE, sep=s_c_graph_data_delimiter, index_col = [0,1])\n",
        "\n",
        "    logger.debug(df_edge)\n",
        "    \n",
        "    #\n",
        "    # Read dictionary from file with error checking\n",
        "    # Raise error to stop execution - cannot continue without data.\n",
        "    #\n",
        "    try:\n",
        "        d_TS_H = eval(open(\"data/\"+s_file_TS, 'r').read())\n",
        "    except:\n",
        "        logger.exception(\"Error reading file: \" + s_file_TS)\n",
        "        raise ValueError(\"Error reading file: \" + s_file_TS)\n",
        "        d_TS_H = {}\n",
        "\n",
        "    logger.debug(d_TS_H);\n",
        "    \n",
        "    #\n",
        "    # create global variable d_edge_label\n",
        "    #\n",
        "    logger.debug(\"Generated edge labels:\");\n",
        "    d_edge_label = {};\n",
        "    n_edge_label = 1;\n",
        "    for n_e,_ in df_edge.iterrows():\n",
        "        # edge label in a form 'e_(u,v)'\n",
        "    #    d_edge_label[n_e] = r'$e_{('+str(n_e[0])+','+str(n_e[1]) +')}$';\n",
        "        # edge label in a form 'e_x'\n",
        "        d_edge_label[n_e] = r'$e_{'+str(n_edge_label) +'}$';\n",
        "        n_edge_label = n_edge_label+1;\n",
        "\n",
        "        logger.debug(d_edge_label[n_e]);\n",
        "\n",
        "    #\n",
        "    # create global variable d_node_label\n",
        "    #\n",
        "    logger.debug(\"Generated node labels:\");\n",
        "    d_node_label = {};\n",
        "    for n_v,_ in df_node.iterrows():\n",
        "        d_node_label[n_v] = r'$v_'+str(n_v)+'$';\n",
        "\n",
        "        logger.debug(d_node_label[n_v]);\n",
        "        \n",
        "    f_debug_end_with_function(\"f_read_data_from_files\")\n",
        "    # Create and return data frame of TS with weights for all TS.\n",
        "    return(\n",
        "        f_get_TS_weight(d_TS_H)\n",
        "    )"
      ]
    },
    {
      "cell_type": "code",
      "execution_count": 49,
      "metadata": {
        "id": "94H-JO_0okFJ"
      },
      "outputs": [],
      "source": [
        "#\n",
        "# Print variable value with heading line\n",
        "# The 2nd parameter for variable description is optional.\n",
        "#\n",
        "def f_print_var_value(*s_all_var_names):\n",
        "    # print(s_all_var_names,len(s_all_var_names));\n",
        "    s_var_name = s_all_var_names[0];\n",
        "    if len(s_all_var_names) == 2:\n",
        "        if s_var_name:\n",
        "            print((' '+s_var_name+' .. \\''+s_all_var_names[1]+'\\' ').center(127, '='));\n",
        "        else:\n",
        "            print((' \\''+s_all_var_names[1]+'\\' ').center(127, '='));\n",
        "    else:\n",
        "        print((' '+s_var_name+' ').center(127, '='));\n",
        "\n",
        "    #\n",
        "    # print s_var_name value only if the first argument is not an empty string\n",
        "    #\n",
        "    if s_var_name:\n",
        "        if isinstance(eval(s_var_name),pandas.DataFrame):\n",
        "            display(eval(s_var_name));\n",
        "        else:\n",
        "            print(eval(s_var_name));"
      ]
    },
    {
      "cell_type": "markdown",
      "metadata": {
        "id": "B4g0PV3-okFJ"
      },
      "source": [
        "### Function ```f_TP_max_deduplication```\n",
        "\n",
        "2020-07-30: min --> small number of test suites"
      ]
    },
    {
      "cell_type": "code",
      "execution_count": 50,
      "metadata": {
        "id": "l6GhCfyPokFJ"
      },
      "outputs": [],
      "source": [
        "#\n",
        "# Test Phase Deduplication\n",
        "#\n",
        "#\n",
        "# input\n",
        "#  df_TP_sorted ... TP test phase (test suites are in dataframe rows) with test suite names in the format \"Hn\"\n",
        "#                   Test suites have to be sorted by \"glabmda\" and \"size\"\n",
        "#  bool_ij      ... Remove common edges from (H_i,H_j) or from (H_j,H_i)\n",
        "#\n",
        "\n",
        "\n",
        "def f_TP_max_deduplication(\n",
        "    df_TP_sorted,\n",
        "    bool_ij = True,\n",
        "):\n",
        "    \n",
        "    f_debug_start_with_function(\"f_TP_max_deduplication\")\n",
        "    \n",
        "    # create data frame local to function domain\n",
        "    df_TP_local = df_TP_sorted.copy()\n",
        "    \n",
        "    logger.debug(\"s_Hi s_Hj\")\n",
        "    logger.debug(\"---------\")\n",
        "\n",
        "#    time.sleep(1)\n",
        "    for s_Hi in df_TP_local.index:\n",
        "#        time.sleep(1)\n",
        "        for s_Hj in df_TP_local.truncate(s_Hi).iloc[1:].index:\n",
        "            if bool_ij:\n",
        "                l_edges_new = f_remove_common_edges(df_TP_local,s_Hi,s_Hj,\n",
        "                                                  bool_sort_order_ascending=False,\n",
        "                                                  bool_allow_empty=False);\n",
        "            else:\n",
        "                l_edges_new = f_remove_common_edges(df_TP_local,s_Hj,s_Hi,\n",
        "                                                  bool_sort_order_ascending=False,\n",
        "                                                  bool_allow_empty=False);\n",
        "\n",
        "#            time.sleep(1)\n",
        "            logger.debug(str(s_Hi) + \" \" + str(s_Hj) + \" : Current edges \")\n",
        "            logger.debug(str(l_edges_new))\n",
        "\n",
        "            \n",
        "\n",
        "    # rename dataframe index (row labels) from \"H\" to \"M\"\n",
        "    df_TP_local = f_rename_df_index_values(df_TP_local,\"H\",\"M\")\n",
        "    \n",
        "#    # data frame has upodated column 'TS_edges' and not columns 'kappa', 'theta', 'delta', 'epsilon', 'size'\n",
        "#    # df_updated_wTP has updated all columns - all weights\n",
        "#    df_updated_wTP, d_TP_weight = f_get_TS_weight(df_TP_local.to_dict()['TS_edges'])\n",
        "#\n",
        "#    # Sort set of test suites (df_updated_wTP) with info about test phase (df_updated_wTP)\n",
        "#    df_TP_Min_sorted = f_sort_TS_in_TP(\n",
        "#        df_updated_wTP,\n",
        "#        ['delta'],\n",
        "#        df_updated_wTP.to_dict()['TS_edges'],\n",
        "#        bool_local_sort_order_ascending=False\n",
        "#    );\n",
        "#\n",
        "    f_debug_end_with_function(\"f_TP_max_deduplication\")\n",
        "#    return(df_TP_Min_sorted);\n",
        "    return(df_TP_local);\n"
      ]
    },
    {
      "cell_type": "code",
      "execution_count": 51,
      "metadata": {
        "id": "7ujQ3lbpokFJ"
      },
      "outputs": [],
      "source": [
        "def f_TP_max_deduplication_ij(\n",
        "    df_TP_sorted\n",
        "):\n",
        "    return(\n",
        "        f_TP_max_deduplication(\n",
        "            df_TP_sorted,\n",
        "            bool_ij = True\n",
        "        )\n",
        "    )"
      ]
    },
    {
      "cell_type": "code",
      "execution_count": 52,
      "metadata": {
        "id": "GCzzGpvsokFJ"
      },
      "outputs": [],
      "source": [
        "def f_TP_max_deduplication_ji(\n",
        "    df_TP_sorted\n",
        "):\n",
        "    return(\n",
        "        f_TP_max_deduplication(\n",
        "            df_TP_sorted,\n",
        "            bool_ij = False\n",
        "        )\n",
        "    )"
      ]
    },
    {
      "cell_type": "markdown",
      "metadata": {
        "id": "kiyjjxYFokFJ"
      },
      "source": [
        "### Function ```f_TP_min_deduplication```\n",
        "\n",
        "2019-11-26: removed debug print - ## before debug prints"
      ]
    },
    {
      "cell_type": "code",
      "execution_count": 53,
      "metadata": {
        "id": "VTi6hFkfokFJ"
      },
      "outputs": [],
      "source": [
        "#\n",
        "# Test Phase Min Deduplication\n",
        "#\n",
        "#\n",
        "# input\n",
        "#  df_TP_sorted ... TP test phase (test suites are in dataframe rows) with test suite names in the format \"Hn\"\n",
        "#                   Test suites have to be sorted by \"glabmda\" and \"size\"\n",
        "#\n",
        "#                   Example:\n",
        "#                       TS_edges                                                  kappa  theta  delta  epsilon  size\n",
        "#                   H1  [(1, 3)]                                                  85     40     125      0.15     1   \n",
        "#                   H2  [(1, 4), (1, 3), (3, 4), (5, 4)]                          176    80     256      0.68     4   \n",
        "#                   H3  [(1, 2), (1, 4), (2, 3), (6, 4), (6, 2)]                  274    81     355      1.35     5   \n",
        "#                   H4  [(1, 3), (1, 4), (2, 3), (5, 4), (5, 2), (6, 4), (6, 2)]  327    149    476      1.61     7   \n",
        "#\n",
        "# output\n",
        "#  df_TP_Min_sorted ... TP with test suites with deduplicated test cases\n",
        "#\n",
        "#                   Example:\n",
        "#                       TS_edges                                                  kappa  theta  delta  epsilon  size\n",
        "#                   M1  [(1, 3), (1, 4), (2, 3), (5, 4), (5, 2), (6, 4), (6, 2)]  327    149    476      1.61     7   \n",
        "#                   M2  [(1, 2)]                                                  91     2      93       0.25     1   \n",
        "#                   M3  [(3, 4)]                                                  47     0      47       0.30     1   \n",
        "#                   M4  []                                                        0      0      0        0.00     0   \n",
        "\n",
        "\n",
        "def f_TP_min_deduplication(df_TP_sorted):\n",
        "    f_debug_start_with_function(\"f_TP_min_deduplication\")\n",
        "    \n",
        "    # create data frame local to function domain\n",
        "    df_TP_local = df_TP_sorted.copy()\n",
        "    \n",
        "    logger.debug(\"s_Hi s_Hj\")\n",
        "    logger.debug(\"---------\")\n",
        "\n",
        "#    time.sleep(1)\n",
        "    for s_Hi in df_TP_local.index:\n",
        "#        time.sleep(1)\n",
        "        for s_Hj in df_TP_local.truncate(s_Hi).iloc[1:].index:\n",
        "            l_edges_new = f_remove_common_edges(df_TP_local,s_Hi,s_Hj,\n",
        "                                                  bool_sort_order_ascending=False,\n",
        "                                                  bool_allow_empty=False);\n",
        "\n",
        "#            time.sleep(1)\n",
        "            logger.debug(str(s_Hi) + \" \" + str(s_Hj) + \" : Current edges \")\n",
        "            logger.debug(str(l_edges_new))\n",
        "\n",
        "            \n",
        "\n",
        "    # rename dataframe index (row labels) from \"H\" to \"M\"\n",
        "    df_TP_local = f_rename_df_index_values(df_TP_local,\"H\",\"M\")\n",
        "    \n",
        "#    # data frame has upodated column 'TS_edges' and not columns 'kappa', 'theta', 'delta', 'epsilon', 'size'\n",
        "#    # df_updated_wTP has updated all columns - all weights\n",
        "#    df_updated_wTP, d_TP_weight = f_get_TS_weight(df_TP_local.to_dict()['TS_edges'])\n",
        "#\n",
        "#    # Sort set of test suites (df_updated_wTP) with info about test phase (df_updated_wTP)\n",
        "#    df_TP_Min_sorted = f_sort_TS_in_TP(\n",
        "#        df_updated_wTP,\n",
        "#        ['delta'],\n",
        "#        df_updated_wTP.to_dict()['TS_edges'],\n",
        "#        bool_local_sort_order_ascending=False\n",
        "#    );\n",
        "#\n",
        "    f_debug_end_with_function(\"f_TP_min_deduplication\")\n",
        "#    return(df_TP_Min_sorted);\n",
        "    return(df_TP_local);\n"
      ]
    },
    {
      "cell_type": "markdown",
      "metadata": {
        "id": "19fBBstAokFJ"
      },
      "source": [
        "### Function ```f_draw_TP_min_deduplication```\n",
        "<a id='f_draw_TP_min_deduplication'></a>\n"
      ]
    },
    {
      "cell_type": "code",
      "execution_count": 54,
      "metadata": {
        "id": "ETqMVFkvokFJ"
      },
      "outputs": [],
      "source": [
        "def f_draw_TP_min_deduplication(s_TS_file_name):\n",
        "    '''\n",
        "    Unit testing\n",
        "    \n",
        "    Testing TS_H_001.txt\n",
        "    >>> f_draw_TP_min_deduplication(\"H_001.TestSuites\")\n",
        "    {'M1': [(1, 2), (1, 3), (1, 4), (2, 3)], 'M2': [(3, 4)], 'M3': [], 'M4': [], 'M5': [], 'M6': []}\n",
        "    \n",
        "    Testing TS_H_002.txt\n",
        "    >>> f_draw_TP_min_deduplication(\"H_002.TestSuites\")\n",
        "    {'M1': [(1, 2), (1, 3), (1, 4), (2, 3), (3, 4)], 'M2': [], 'M3': [], 'M4': [], 'M5': [], 'M6': []}\n",
        "    \n",
        "    Testing TS_H_003.txt\n",
        "    >>> f_draw_TP_min_deduplication(\"H_003.TestSuites\")\n",
        "    {'M1': [(1, 2), (1, 3), (1, 4), (2, 3), (3, 4)], 'M2': [], 'M3': [], 'M4': [], 'M5': [], 'M6': []}\n",
        "    \n",
        "    Testing TS_H_004.txt\n",
        "    >>> f_draw_TP_min_deduplication(\"H_004.TestSuites\")\n",
        "    {'M1': [(3, 4)], 'M2': [], 'M3': [], 'M4': [], 'M5': [], 'M6': []}\n",
        "    \n",
        "    Testing TS_H_005.txt\n",
        "    >>> f_draw_TP_min_deduplication(\"H_005.TestSuites\")\n",
        "    {'M1': [(1, 3)], 'M2': [(1, 4)], 'M3': [(2, 3)], 'M4': [], 'M5': [], 'M6': []}\n",
        "    \n",
        "    Testing TS_H_006.txt\n",
        "    >>> f_draw_TP_min_deduplication(\"H_006.TestSuites\")\n",
        "    {'M1': [(1, 2), (1, 3)], 'M2': [(1, 4)], 'M3': [], 'M4': [], 'M5': [], 'M6': []}\n",
        "    \n",
        "    Testing TS_H_007.txt\n",
        "    >>> f_draw_TP_min_deduplication(\"H_007.TestSuites\")\n",
        "    {'M1': [(1, 2), (1, 3), (2, 3)], 'M2': [], 'M3': [], 'M4': [], 'M5': [], 'M6': []}\n",
        "    \n",
        "    Testing TS_H_008.txt\n",
        "    >>> f_draw_TP_min_deduplication(\"H_008.TestSuites\")\n",
        "    {'M1': [(1, 2), (1, 3), (1, 4), (2, 3), (3, 4)], 'M2': [], 'M3': [], 'M4': [], 'M5': [], 'M6': []}\n",
        "    \n",
        "    Testing TS_H_009.txt\n",
        "    >>> f_draw_TP_min_deduplication(\"H_008.TestSuites\")\n",
        "    {'M1': [(1, 2), (1, 3), (1, 4), (2, 3), (3, 4)], 'M2': [], 'M3': [], 'M4': [], 'M5': [], 'M6': []}\n",
        "    '''\n",
        "    f_debug_start_with_function(\"f_draw_TP_min_deduplication\")\n",
        "    \n",
        "    logger.info(s_TS_file_name)\n",
        "    \n",
        "    #\n",
        "    # Read data frame\n",
        "    #\n",
        "    df_TP, d_TP_weight = f_read_data_from_files(\"graphV.csv\", \"graphE.csv\", s_TS_file_name)\n",
        "\n",
        "    #\n",
        "    # Sort data frame: bool_sort_order_ascending=True - 2020-01-20 it has to by ascending sorted = True\n",
        "    #\n",
        "    df_TP_sorted = f_sort_TS_in_TP(\n",
        "        df_TP,\n",
        "        ['delta','size'],\n",
        "        d_TS_H,\n",
        "        bool_local_sort_order_ascending=True\n",
        "    );\n",
        "    \n",
        "    #\n",
        "    # Execute Test Phase Max Deduplication\n",
        "    #\n",
        "    df_TP_Min_raw = f_TP_min_deduplication(df_TP_sorted)\n",
        "\n",
        "    #\n",
        "    # Sort resulted data frame df_TP_Max_raw as 'bool_sort_order_ascending=False'\n",
        "    #\n",
        "    df_TP_Min = f_sort_TS_in_TP(\n",
        "        df_TP_Min_raw,\n",
        "        ['delta','size'],\n",
        "        d_TS_H,\n",
        "        bool_local_sort_order_ascending=False\n",
        "    );\n",
        "    #\n",
        "    # Draw data frames\n",
        "    #\n",
        "    f_draw_TS(df_TP.to_dict()['TS_edges'], \"delta\", \"\", s_TS_file_name + \": source graphs for min_dedupe\")\n",
        "    f_draw_TS(df_TP_sorted.to_dict()['TS_edges'], \"delta\", \"\", s_TS_file_name + \": source graphs sorted for min_dedupe\")\n",
        "    f_draw_TS(df_TP_Min.to_dict()['TS_edges'], \"delta\", \"\", s_TS_file_name + \": minimal test suites\")\n",
        "\n",
        "    #\n",
        "    # Return value: dictionary with test suite edges\n",
        "    #\n",
        "    d_return_TS_edges = df_TP_Min['TS_edges'].to_dict()\n",
        "    \n",
        "    f_debug_end_with_function(\"f_draw_TP_min_deduplication\")\n",
        "    return(d_return_TS_edges)"
      ]
    },
    {
      "cell_type": "markdown",
      "metadata": {
        "id": "mtaFvGf4okFJ"
      },
      "source": [
        "### Function ```f_generate_fun_graph```\n",
        "<a id='f_test_weight_redesign_wrapper'></a>"
      ]
    },
    {
      "cell_type": "code",
      "execution_count": 55,
      "metadata": {
        "id": "daAYq_pZokFJ"
      },
      "outputs": [],
      "source": [
        "#\n",
        "# Generate functionality graph from given test suites.\n",
        "# Generated functionality graph is in a form of 1 test suite.\n",
        "#\n",
        "\n",
        "def f_generate_fun_graph(\n",
        "    d_TS_H\n",
        "):\n",
        "    \n",
        "    f_debug_start_with_function(\"f_generate_fun_graph\");\n",
        "\n",
        "    #\n",
        "    # Loop through KEY of dictionary\n",
        "    #\n",
        "\n",
        "    l_test_cases = [];\n",
        "\n",
        "    for key in d_TS_H:\n",
        "        logger.debug(\" \", key, d_TS_H[key]);\n",
        "        l_test_cases = list(set(l_test_cases + d_TS_H[key]));\n",
        "        logger.debug(\"  - list: \", l_test_cases);\n",
        "\n",
        "    d_new_TP = {'TP':l_test_cases};\n",
        "    \n",
        "    f_debug_end_with_function(\"f_generate_fun_graph\");\n",
        "    return(d_new_TP)"
      ]
    },
    {
      "cell_type": "raw",
      "metadata": {
        "id": "-wNkmj8eokFJ"
      },
      "source": [
        "d_my_new_TP = f_generate_fun_graph(d_TS_H);"
      ]
    },
    {
      "cell_type": "raw",
      "metadata": {
        "id": "9SpRapnUokFJ"
      },
      "source": [
        "d_my_new_TP"
      ]
    },
    {
      "cell_type": "code",
      "execution_count": 56,
      "metadata": {
        "id": "_nst8UY2okFJ",
        "outputId": "4e584f4f-fd9b-4bea-b222-b762d13ada69",
        "colab": {
          "base_uri": "https://localhost:8080/"
        }
      },
      "outputs": [
        {
          "output_type": "stream",
          "name": "stdout",
          "text": [
            "Notebook execution: 0:01:03.287115\n"
          ]
        }
      ],
      "source": [
        "str(datetime.timedelta(seconds=666))\n",
        "print(\"Notebook execution: \" + str(datetime.timedelta(seconds=(time.time()-notebook_start_time)))) "
      ]
    },
    {
      "cell_type": "markdown",
      "metadata": {
        "id": "sdCGAht4okFK"
      },
      "source": [
        "### Function ```f_dynamic01Knapsack```"
      ]
    },
    {
      "cell_type": "code",
      "execution_count": 57,
      "metadata": {
        "id": "t2TWa6OKokFK"
      },
      "outputs": [],
      "source": [
        "#\n",
        "# temp function for f_dynamic01Knapsack debugging\n",
        "#\n",
        "def f_printTableK(K):\n",
        "    print(\"Table K[i][w]\")\n",
        "    for i in range(n + 1):\n",
        "        for w in range(W +1 ):\n",
        "            print(K[i][w],end=\" \");\n",
        "        print(\"\");\n",
        "        \n",
        "#\n",
        "# 0-1 Knapsack solution with dynamic programming\n",
        "#\n",
        "# Input:\n",
        "#  W   .. knapsack weight capacity\n",
        "#  wt  .. items weights (sorted increasingly)\n",
        "#  val .. items values (sorted increasingly)\n",
        "#  n   .. number of items (should be distinct)\n",
        "#\n",
        "# Output:\n",
        "#  knVal .. sum of weights in knapsack\n",
        "#  knit  .. knit[i] = 1 .. item i is included\n",
        "#\n",
        "def f_dynamic01Knapsack(W, wt, val, n):\n",
        "    # knit ... knapsack items\n",
        "    # knit[i] = 1 if item i is in knapsack\n",
        "    # default: no items in knapsack\n",
        "    knit = [0 for i in range(n)];\n",
        "    \n",
        "    # Initialize table K[n][W]\n",
        "    K = [[0 for w in range(W + 1)]\n",
        "            for i in range(n + 1)];\n",
        "    \n",
        "#    f_printTableK(K);\n",
        "        \n",
        "    # Build table K[n][W] for weight W\n",
        "    # and number of items n in bottom\n",
        "    # up manner\n",
        "    for i in range(n + 1):\n",
        "        for w in range(W + 1):\n",
        "#            print(\"i =\",i,\" w =\",w,\": \", end=\"\")\n",
        "#            f_printTableK(K);\n",
        "            if i == 0 or w == 0:\n",
        "                K[i][w] = 0\n",
        "            elif wt[i - 1] <= w:\n",
        "                K[i][w] = max(val[i - 1]\n",
        "                  + K[i - 1][w - wt[i - 1]],\n",
        "                               K[i - 1][w])\n",
        "            else:\n",
        "                K[i][w] = K[i - 1][w]\n",
        " \n",
        "    # stores the result of Knapsack\n",
        "    knVal = K[n][W]\n",
        "#    print(knVal)\n",
        "     \n",
        "    # input is knapsack full of items\n",
        "    w = W\n",
        "    # check items from largest to smallest\n",
        "    for i in range(n, 0, -1):\n",
        "        # all items are removed from knapsack\n",
        "        if knVal <= 0:\n",
        "            break\n",
        "        # either the result comes from the\n",
        "        # top (K[i-1][w]) or from (val[i-1]\n",
        "        # + K[i-1] [w-wt[i-1]]) as in Knapsackb\n",
        "        # table. If it comes from the latter\n",
        "        # one/ it means the item is included.\n",
        "        if knVal == K[i - 1][w]:\n",
        "            continue\n",
        "        else:\n",
        " \n",
        "            # This item is included.\n",
        "            knit[i-1] = 1;\n",
        "#            print(\"wt[\",i-1,\"] =\",wt[i - 1])\n",
        "             \n",
        "            # Since this weight is included\n",
        "            # its value is deducted\n",
        "            knVal = knVal - val[i - 1]\n",
        "            w = w - wt[i - 1]\n",
        "            \n",
        "    return(knVal, knit)"
      ]
    },
    {
      "cell_type": "code",
      "execution_count": 58,
      "metadata": {
        "id": "ZauI88WvokFK",
        "outputId": "9277e208-7950-40b1-d1df-735b3a9b8586",
        "colab": {
          "base_uri": "https://localhost:8080/"
        }
      },
      "outputs": [
        {
          "output_type": "execute_result",
          "data": {
            "text/plain": [
              "(0, [1, 0, 1])"
            ]
          },
          "metadata": {},
          "execution_count": 58
        }
      ],
      "source": [
        "# Driver code\n",
        "l_val = [ 60, 100, 120 ]\n",
        "l_wt = [ 1, 2, 4 ]\n",
        "n_W = 5\n",
        "n = len(l_val)\n",
        "     \n",
        "f_dynamic01Knapsack(n_W, l_wt, l_val, n)"
      ]
    },
    {
      "cell_type": "markdown",
      "metadata": {
        "id": "s0z8PMfiokFK"
      },
      "source": [
        "* To stop here change this cell to __Code__\n",
        "* To continue change this cell to __Markdown__"
      ]
    },
    {
      "cell_type": "markdown",
      "metadata": {
        "id": "N8Tw7wP7okFK"
      },
      "source": [
        "## Definitions overview"
      ]
    },
    {
      "cell_type": "code",
      "execution_count": 59,
      "metadata": {
        "id": "bxMmoXH1okFK",
        "outputId": "ff60b841-37be-4e70-c7a9-1a6e0cad0a1b",
        "colab": {
          "base_uri": "https://localhost:8080/"
        }
      },
      "outputs": [
        {
          "output_type": "stream",
          "name": "stdout",
          "text": [
            "Variable                          Type           Data/Info\n",
            "----------------------------------------------------------\n",
            "Math                              type           <class 'IPython.core.display.Math'>\n",
            "bool_draw_TS                      bool           True\n",
            "cell_log_level                    int            30\n",
            "datetime                          module         <module 'datetime' from '<...>/python3.10/datetime.py'>\n",
            "display                           function       <function display at 0x7f5b663549d0>\n",
            "errno                             module         <module 'errno' (built-in)>\n",
            "f_TP_max_deduplication            function       <function f_TP_max_dedupl<...>cation at 0x7f5b1b453370>\n",
            "f_TP_max_deduplication_ij         function       <function f_TP_max_dedupl<...>ion_ij at 0x7f5b1b453910>\n",
            "f_TP_max_deduplication_ji         function       <function f_TP_max_dedupl<...>ion_ji at 0x7f5b1b453d00>\n",
            "f_TP_min_deduplication            function       <function f_TP_min_dedupl<...>cation at 0x7f5b1b453eb0>\n",
            "f_TS_Hx                           function       <function f_TS_Hx at 0x7f5b1b452830>\n",
            "f_TS_nodes                        function       <function f_TS_nodes at 0x7f5b1b417910>\n",
            "f_debug_end_with_function         function       <function f_debug_end_wit<...>nction at 0x7f5b1b415990>\n",
            "f_debug_start_with_function       function       <function f_debug_start_w<...>nction at 0x7f5b1b4156c0>\n",
            "f_delta_measure_TP                function       <function f_delta_measure_TP at 0x7f5b1b450820>\n",
            "f_delta_measure_TS                function       <function f_delta_measure_TS at 0x7f5b1b450430>\n",
            "f_draw_TP_min_deduplication       function       <function f_draw_TP_min_d<...>cation at 0x7f5b1b480430>\n",
            "f_draw_TS                         function       <function f_draw_TS at 0x7f5b1b416cb0>\n",
            "f_draw_graph_TP_pure              function       <function f_draw_graph_TP_pure at 0x7f5b1b414ca0>\n",
            "f_draw_set_TS                     function       <function f_draw_set_TS at 0x7f5b1b417490>\n",
            "f_dynamic01Knapsack               function       <function f_dynamic01Knapsack at 0x7f5b1b481120>\n",
            "f_epsilon_measure                 function       <function f_epsilon_measure at 0x7f5b1b450c10>\n",
            "f_generate_fun_graph              function       <function f_generate_fun_graph at 0x7f5b1b480a60>\n",
            "f_get_TS_weight                   function       <function f_get_TS_weight at 0x7f5b1b4144c0>\n",
            "f_get_dataframe_from_dictionary   function       <function f_get_dataframe<...>ionary at 0x7f5b1b415090>\n",
            "f_get_graph_weights               function       <function f_get_graph_weights at 0x7f5b1b414670>\n",
            "f_kappa_measure                   function       <function f_kappa_measure at 0x7f5b1b417c70>\n",
            "f_leave_one_edge                  function       <function f_leave_one_edge at 0x7f5b1b451fc0>\n",
            "f_list_edges                      function       <function f_list_edges at 0x7f5b1b416950>\n",
            "f_list_nodes                      function       <function f_list_nodes at 0x7f5b1b416290>\n",
            "f_printTableK                     function       <function f_printTableK at 0x7f5b1b481090>\n",
            "f_print_var_value                 function       <function f_print_var_value at 0x7f5b1b453010>\n",
            "f_read_data_from_files            function       <function f_read_data_fro<...>_files at 0x7f5b1b452950>\n",
            "f_remove_common_edges             function       <function f_remove_common<...>_edges at 0x7f5b1b451750>\n",
            "f_rename_df_index_values          function       <function f_rename_df_ind<...>values at 0x7f5b1b451360>\n",
            "f_set_edges                       function       <function f_set_edges at 0x7f5b1b416830>\n",
            "f_set_from_list_list              function       <function <lambda> at 0x7f5b1b415bd0>\n",
            "f_set_nodes                       function       <function f_set_nodes at 0x7f5b1b415f30>\n",
            "f_size_Hx                         function       <function f_size_Hx at 0x7f5b1b4523b0>\n",
            "f_sort_TS_in_TP                   function       <function f_sort_TS_in_TP at 0x7f5b1b450f70>\n",
            "f_theta_measure                   function       <function f_theta_measure at 0x7f5b1b450040>\n",
            "file_handler                      FileHandler    <FileHandler /content/MinImplCosts.log (NOTSET)>\n",
            "formatter                         Formatter      <logging.Formatter object at 0x7f5b49a2d900>\n",
            "l_val                             list           n=3\n",
            "l_wt                              list           n=3\n",
            "logger                            Logger         <Logger __main__ (WARNING)>\n",
            "logging                           module         <module 'logging' from '/<...>.10/logging/__init__.py'>\n",
            "matplotlib                        module         <module 'matplotlib' from<...>/matplotlib/__init__.py'>\n",
            "n                                 int            3\n",
            "n_W                               int            5\n",
            "n_font_size                       int            50\n",
            "networkx                          module         <module 'networkx' from '<...>es/networkx/__init__.py'>\n",
            "notebook_start_time               float          1683978010.840781\n",
            "os                                module         <module 'os' from '/usr/lib/python3.10/os.py'>\n",
            "pandas                            module         <module 'pandas' from '/u<...>ages/pandas/__init__.py'>\n",
            "pyplot                            module         <module 'matplotlib.pyplo<...>es/matplotlib/pyplot.py'>\n",
            "s_c_graph_data_delimiter          str            ,\n",
            "s_c_results                       str            results/\n",
            "s_c_results_other                 str            pdf/\n",
            "section_log_level                 int            30\n",
            "set_trace                         function       <function set_trace at 0x7f5b664efbe0>\n",
            "t_c_test_phase_dim                tuple          n=2\n",
            "time                              module         <module 'time' (built-in)>\n",
            "unittest                          module         <module 'unittest' from '<...>10/unittest/__init__.py'>\n",
            "warnings                          module         <module 'warnings' from '<...>/python3.10/warnings.py'>\n"
          ]
        }
      ],
      "source": [
        "#\n",
        "# Extra information about each variable (int, str, bool, float, tuple, dict, module, function, DataFrame, ...)\n",
        "#\n",
        "\n",
        "%whos"
      ]
    },
    {
      "cell_type": "markdown",
      "metadata": {
        "id": "MijzzP7zokFK"
      },
      "source": [
        "\n",
        "## Read data from file"
      ]
    },
    {
      "cell_type": "markdown",
      "metadata": {
        "id": "e80F2yeDokFK"
      },
      "source": [
        "### Content of input data"
      ]
    },
    {
      "cell_type": "code",
      "execution_count": 60,
      "metadata": {
        "id": "JrTVfxDXokFK"
      },
      "outputs": [],
      "source": [
        "# local variables for file names\n",
        "s_file_graphN = \"graphV.csv\";\n",
        "s_file_graphE = \"graphE.csv\";\n",
        "s_file_TS     = \"H_010.TestSuites\";"
      ]
    },
    {
      "cell_type": "code",
      "execution_count": 61,
      "metadata": {
        "id": "lMmuD_myokFK"
      },
      "outputs": [],
      "source": [
        "def f_tmp_dump_file(s_file_name):\n",
        "    tmp_file = open(\"data/\"+s_file_name, \"r\");\n",
        "\n",
        "    print(\"Content of the file \\\"\"+s_file_name+\"\\\"\");\n",
        "    print(\"------------------------------------------------------------------------------\")\n",
        "    print(tmp_file.read())\n"
      ]
    },
    {
      "cell_type": "code",
      "execution_count": 62,
      "metadata": {
        "id": "2vR5nP3tokFK",
        "outputId": "f1c32390-51e0-4a84-c830-8dfb76905e4b",
        "colab": {
          "base_uri": "https://localhost:8080/"
        }
      },
      "outputs": [
        {
          "output_type": "stream",
          "name": "stdout",
          "text": [
            "Content of the file \"graphV.csv\"\n",
            "------------------------------------------------------------------------------\n",
            "v,kappa,t_kappa,theta,t_theta,sigma,x_position,y_position\n",
            "1,30,1,10,0,0.15,1,1\n",
            "2,25,1,8,1,0.15,1.5,0\n",
            "3,15,1,5,1,0.1,2,1\n",
            "4,20,1,7,1,0.2,1.5,2\n",
            "5,20,1,6,1,0.15,0.2,1\n",
            "6,35,1,12,1,0.25,2.8,1\n",
            "\n",
            "Content of the file \"graphE.csv\"\n",
            "------------------------------------------------------------------------------\n",
            "u,v,kappa,t_kappa,theta,t_theta,sigma\n",
            "1,2,28,1,2,1,0.1\n",
            "1,3,35,1,40,1,0.05\n",
            "2,3,27,1,11,0,0.07\n",
            "3,4,15,0,10,0,0.07\n",
            "1,4,28,1,25,1,0.1\n",
            "5,2,10,1,15,1,0.08\n",
            "5,4,10,1,15,1,0.08\n",
            "6,2,17,1,27,1,0.2\n",
            "6,4,17,1,27,1,0.25\n",
            "\n",
            "Content of the file \"H_010.TestSuites\"\n",
            "------------------------------------------------------------------------------\n",
            "{\n",
            "\t'H1': [(1, 3), (5,4), (5,2)],\n",
            "\t'H2': [(1, 4), (1, 3), (3, 4)],\n",
            "\t'H3': [(3, 4), (6,2)],\n",
            "\t'H4': [(1, 2), (1, 3), (1, 4), (2, 3), (3, 4)],\n",
            "\t'H5': [(1, 2), (1, 4), (2, 3)],\n",
            "\t'H6': [(2, 3), (3, 4)],\n",
            "}\n"
          ]
        }
      ],
      "source": [
        "f_tmp_dump_file(s_file_graphN);\n",
        "f_tmp_dump_file(s_file_graphE);\n",
        "f_tmp_dump_file(s_file_TS);"
      ]
    },
    {
      "cell_type": "code",
      "execution_count": 63,
      "metadata": {
        "id": "WbE9hp96okFK"
      },
      "outputs": [],
      "source": [
        "# Read graph nodes from File\n",
        "df_node = pandas.read_csv(\"data/\"+s_file_graphN, sep=s_c_graph_data_delimiter, index_col = 0)\n",
        "# Results in global variables\n",
        "#   global df_node\n",
        "#   global df_edge\n",
        "#   global d_TS_H\n",
        "#   global d_position\n",
        "#   global d_node_label;\n",
        "#   global d_edge_label;\n",
        "\n",
        "# are there data for node position in the df_node\n",
        "if(('x_position' and 'y_position') in df_node.columns):\n",
        "    d_xpos = df_node['x_position'].to_dict()\n",
        "    d_ypos = df_node['y_position'].to_dict()\n",
        "\n",
        "    d_position = {}\n",
        "    for key in d_xpos.keys():\n",
        "        d_position[key] = tuple(d_position[key] for d_position in [d_xpos,d_ypos])\n",
        "    # global variable d_position is updated\n",
        "\n",
        "# Read graph edges from File\n",
        "df_edge = pandas.read_csv(\"data/\"+s_file_graphE, sep=s_c_graph_data_delimiter, index_col = [0,1])\n"
      ]
    },
    {
      "cell_type": "code",
      "execution_count": 64,
      "metadata": {
        "id": "gO_4k9YsokFK",
        "outputId": "b82e7e20-9fad-4b16-8f01-b5836b2552d8",
        "colab": {
          "base_uri": "https://localhost:8080/",
          "height": 269
        }
      },
      "outputs": [
        {
          "output_type": "execute_result",
          "data": {
            "text/plain": [
              "   kappa  t_kappa  theta  t_theta  sigma  x_position  y_position\n",
              "v                                                               \n",
              "1  30     1        10     0        0.15   1.0         1         \n",
              "2  25     1        8      1        0.15   1.5         0         \n",
              "3  15     1        5      1        0.10   2.0         1         \n",
              "4  20     1        7      1        0.20   1.5         2         \n",
              "5  20     1        6      1        0.15   0.2         1         \n",
              "6  35     1        12     1        0.25   2.8         1         "
            ],
            "text/html": [
              "\n",
              "  <div id=\"df-c9d15811-baa4-4ef8-b14a-a39a5ac1c452\">\n",
              "    <div class=\"colab-df-container\">\n",
              "      <div>\n",
              "<style scoped>\n",
              "    .dataframe tbody tr th:only-of-type {\n",
              "        vertical-align: middle;\n",
              "    }\n",
              "\n",
              "    .dataframe tbody tr th {\n",
              "        vertical-align: top;\n",
              "    }\n",
              "\n",
              "    .dataframe thead th {\n",
              "        text-align: right;\n",
              "    }\n",
              "</style>\n",
              "<table border=\"1\" class=\"dataframe\">\n",
              "  <thead>\n",
              "    <tr style=\"text-align: right;\">\n",
              "      <th></th>\n",
              "      <th>kappa</th>\n",
              "      <th>t_kappa</th>\n",
              "      <th>theta</th>\n",
              "      <th>t_theta</th>\n",
              "      <th>sigma</th>\n",
              "      <th>x_position</th>\n",
              "      <th>y_position</th>\n",
              "    </tr>\n",
              "    <tr>\n",
              "      <th>v</th>\n",
              "      <th></th>\n",
              "      <th></th>\n",
              "      <th></th>\n",
              "      <th></th>\n",
              "      <th></th>\n",
              "      <th></th>\n",
              "      <th></th>\n",
              "    </tr>\n",
              "  </thead>\n",
              "  <tbody>\n",
              "    <tr>\n",
              "      <th>1</th>\n",
              "      <td>30</td>\n",
              "      <td>1</td>\n",
              "      <td>10</td>\n",
              "      <td>0</td>\n",
              "      <td>0.15</td>\n",
              "      <td>1.0</td>\n",
              "      <td>1</td>\n",
              "    </tr>\n",
              "    <tr>\n",
              "      <th>2</th>\n",
              "      <td>25</td>\n",
              "      <td>1</td>\n",
              "      <td>8</td>\n",
              "      <td>1</td>\n",
              "      <td>0.15</td>\n",
              "      <td>1.5</td>\n",
              "      <td>0</td>\n",
              "    </tr>\n",
              "    <tr>\n",
              "      <th>3</th>\n",
              "      <td>15</td>\n",
              "      <td>1</td>\n",
              "      <td>5</td>\n",
              "      <td>1</td>\n",
              "      <td>0.10</td>\n",
              "      <td>2.0</td>\n",
              "      <td>1</td>\n",
              "    </tr>\n",
              "    <tr>\n",
              "      <th>4</th>\n",
              "      <td>20</td>\n",
              "      <td>1</td>\n",
              "      <td>7</td>\n",
              "      <td>1</td>\n",
              "      <td>0.20</td>\n",
              "      <td>1.5</td>\n",
              "      <td>2</td>\n",
              "    </tr>\n",
              "    <tr>\n",
              "      <th>5</th>\n",
              "      <td>20</td>\n",
              "      <td>1</td>\n",
              "      <td>6</td>\n",
              "      <td>1</td>\n",
              "      <td>0.15</td>\n",
              "      <td>0.2</td>\n",
              "      <td>1</td>\n",
              "    </tr>\n",
              "    <tr>\n",
              "      <th>6</th>\n",
              "      <td>35</td>\n",
              "      <td>1</td>\n",
              "      <td>12</td>\n",
              "      <td>1</td>\n",
              "      <td>0.25</td>\n",
              "      <td>2.8</td>\n",
              "      <td>1</td>\n",
              "    </tr>\n",
              "  </tbody>\n",
              "</table>\n",
              "</div>\n",
              "      <button class=\"colab-df-convert\" onclick=\"convertToInteractive('df-c9d15811-baa4-4ef8-b14a-a39a5ac1c452')\"\n",
              "              title=\"Convert this dataframe to an interactive table.\"\n",
              "              style=\"display:none;\">\n",
              "        \n",
              "  <svg xmlns=\"http://www.w3.org/2000/svg\" height=\"24px\"viewBox=\"0 0 24 24\"\n",
              "       width=\"24px\">\n",
              "    <path d=\"M0 0h24v24H0V0z\" fill=\"none\"/>\n",
              "    <path d=\"M18.56 5.44l.94 2.06.94-2.06 2.06-.94-2.06-.94-.94-2.06-.94 2.06-2.06.94zm-11 1L8.5 8.5l.94-2.06 2.06-.94-2.06-.94L8.5 2.5l-.94 2.06-2.06.94zm10 10l.94 2.06.94-2.06 2.06-.94-2.06-.94-.94-2.06-.94 2.06-2.06.94z\"/><path d=\"M17.41 7.96l-1.37-1.37c-.4-.4-.92-.59-1.43-.59-.52 0-1.04.2-1.43.59L10.3 9.45l-7.72 7.72c-.78.78-.78 2.05 0 2.83L4 21.41c.39.39.9.59 1.41.59.51 0 1.02-.2 1.41-.59l7.78-7.78 2.81-2.81c.8-.78.8-2.07 0-2.86zM5.41 20L4 18.59l7.72-7.72 1.47 1.35L5.41 20z\"/>\n",
              "  </svg>\n",
              "      </button>\n",
              "      \n",
              "  <style>\n",
              "    .colab-df-container {\n",
              "      display:flex;\n",
              "      flex-wrap:wrap;\n",
              "      gap: 12px;\n",
              "    }\n",
              "\n",
              "    .colab-df-convert {\n",
              "      background-color: #E8F0FE;\n",
              "      border: none;\n",
              "      border-radius: 50%;\n",
              "      cursor: pointer;\n",
              "      display: none;\n",
              "      fill: #1967D2;\n",
              "      height: 32px;\n",
              "      padding: 0 0 0 0;\n",
              "      width: 32px;\n",
              "    }\n",
              "\n",
              "    .colab-df-convert:hover {\n",
              "      background-color: #E2EBFA;\n",
              "      box-shadow: 0px 1px 2px rgba(60, 64, 67, 0.3), 0px 1px 3px 1px rgba(60, 64, 67, 0.15);\n",
              "      fill: #174EA6;\n",
              "    }\n",
              "\n",
              "    [theme=dark] .colab-df-convert {\n",
              "      background-color: #3B4455;\n",
              "      fill: #D2E3FC;\n",
              "    }\n",
              "\n",
              "    [theme=dark] .colab-df-convert:hover {\n",
              "      background-color: #434B5C;\n",
              "      box-shadow: 0px 1px 3px 1px rgba(0, 0, 0, 0.15);\n",
              "      filter: drop-shadow(0px 1px 2px rgba(0, 0, 0, 0.3));\n",
              "      fill: #FFFFFF;\n",
              "    }\n",
              "  </style>\n",
              "\n",
              "      <script>\n",
              "        const buttonEl =\n",
              "          document.querySelector('#df-c9d15811-baa4-4ef8-b14a-a39a5ac1c452 button.colab-df-convert');\n",
              "        buttonEl.style.display =\n",
              "          google.colab.kernel.accessAllowed ? 'block' : 'none';\n",
              "\n",
              "        async function convertToInteractive(key) {\n",
              "          const element = document.querySelector('#df-c9d15811-baa4-4ef8-b14a-a39a5ac1c452');\n",
              "          const dataTable =\n",
              "            await google.colab.kernel.invokeFunction('convertToInteractive',\n",
              "                                                     [key], {});\n",
              "          if (!dataTable) return;\n",
              "\n",
              "          const docLinkHtml = 'Like what you see? Visit the ' +\n",
              "            '<a target=\"_blank\" href=https://colab.research.google.com/notebooks/data_table.ipynb>data table notebook</a>'\n",
              "            + ' to learn more about interactive tables.';\n",
              "          element.innerHTML = '';\n",
              "          dataTable['output_type'] = 'display_data';\n",
              "          await google.colab.output.renderOutput(dataTable, element);\n",
              "          const docLink = document.createElement('div');\n",
              "          docLink.innerHTML = docLinkHtml;\n",
              "          element.appendChild(docLink);\n",
              "        }\n",
              "      </script>\n",
              "    </div>\n",
              "  </div>\n",
              "  "
            ]
          },
          "metadata": {},
          "execution_count": 64
        }
      ],
      "source": [
        "df_node"
      ]
    },
    {
      "cell_type": "code",
      "execution_count": 65,
      "metadata": {
        "id": "V-OCcgjfokFK",
        "outputId": "43c2da15-5fd0-4cac-de61-77512012f0f2",
        "colab": {
          "base_uri": "https://localhost:8080/",
          "height": 269
        }
      },
      "outputs": [
        {
          "output_type": "execute_result",
          "data": {
            "text/plain": [
              "   kappa  t_kappa  theta  t_theta  sigma  x_position  y_position\n",
              "v                                                               \n",
              "1  30     1        10     0        0.15   1.0         1         \n",
              "2  25     1        8      1        0.15   1.5         0         \n",
              "3  15     1        5      1        0.10   2.0         1         \n",
              "4  20     1        7      1        0.20   1.5         2         \n",
              "5  20     1        6      1        0.15   0.2         1         \n",
              "6  35     1        12     1        0.25   2.8         1         "
            ],
            "text/html": [
              "\n",
              "  <div id=\"df-1642554f-c53c-4d85-98c2-4a9ce085e56b\">\n",
              "    <div class=\"colab-df-container\">\n",
              "      <div>\n",
              "<style scoped>\n",
              "    .dataframe tbody tr th:only-of-type {\n",
              "        vertical-align: middle;\n",
              "    }\n",
              "\n",
              "    .dataframe tbody tr th {\n",
              "        vertical-align: top;\n",
              "    }\n",
              "\n",
              "    .dataframe thead th {\n",
              "        text-align: right;\n",
              "    }\n",
              "</style>\n",
              "<table border=\"1\" class=\"dataframe\">\n",
              "  <thead>\n",
              "    <tr style=\"text-align: right;\">\n",
              "      <th></th>\n",
              "      <th>kappa</th>\n",
              "      <th>t_kappa</th>\n",
              "      <th>theta</th>\n",
              "      <th>t_theta</th>\n",
              "      <th>sigma</th>\n",
              "      <th>x_position</th>\n",
              "      <th>y_position</th>\n",
              "    </tr>\n",
              "    <tr>\n",
              "      <th>v</th>\n",
              "      <th></th>\n",
              "      <th></th>\n",
              "      <th></th>\n",
              "      <th></th>\n",
              "      <th></th>\n",
              "      <th></th>\n",
              "      <th></th>\n",
              "    </tr>\n",
              "  </thead>\n",
              "  <tbody>\n",
              "    <tr>\n",
              "      <th>1</th>\n",
              "      <td>30</td>\n",
              "      <td>1</td>\n",
              "      <td>10</td>\n",
              "      <td>0</td>\n",
              "      <td>0.15</td>\n",
              "      <td>1.0</td>\n",
              "      <td>1</td>\n",
              "    </tr>\n",
              "    <tr>\n",
              "      <th>2</th>\n",
              "      <td>25</td>\n",
              "      <td>1</td>\n",
              "      <td>8</td>\n",
              "      <td>1</td>\n",
              "      <td>0.15</td>\n",
              "      <td>1.5</td>\n",
              "      <td>0</td>\n",
              "    </tr>\n",
              "    <tr>\n",
              "      <th>3</th>\n",
              "      <td>15</td>\n",
              "      <td>1</td>\n",
              "      <td>5</td>\n",
              "      <td>1</td>\n",
              "      <td>0.10</td>\n",
              "      <td>2.0</td>\n",
              "      <td>1</td>\n",
              "    </tr>\n",
              "    <tr>\n",
              "      <th>4</th>\n",
              "      <td>20</td>\n",
              "      <td>1</td>\n",
              "      <td>7</td>\n",
              "      <td>1</td>\n",
              "      <td>0.20</td>\n",
              "      <td>1.5</td>\n",
              "      <td>2</td>\n",
              "    </tr>\n",
              "    <tr>\n",
              "      <th>5</th>\n",
              "      <td>20</td>\n",
              "      <td>1</td>\n",
              "      <td>6</td>\n",
              "      <td>1</td>\n",
              "      <td>0.15</td>\n",
              "      <td>0.2</td>\n",
              "      <td>1</td>\n",
              "    </tr>\n",
              "    <tr>\n",
              "      <th>6</th>\n",
              "      <td>35</td>\n",
              "      <td>1</td>\n",
              "      <td>12</td>\n",
              "      <td>1</td>\n",
              "      <td>0.25</td>\n",
              "      <td>2.8</td>\n",
              "      <td>1</td>\n",
              "    </tr>\n",
              "  </tbody>\n",
              "</table>\n",
              "</div>\n",
              "      <button class=\"colab-df-convert\" onclick=\"convertToInteractive('df-1642554f-c53c-4d85-98c2-4a9ce085e56b')\"\n",
              "              title=\"Convert this dataframe to an interactive table.\"\n",
              "              style=\"display:none;\">\n",
              "        \n",
              "  <svg xmlns=\"http://www.w3.org/2000/svg\" height=\"24px\"viewBox=\"0 0 24 24\"\n",
              "       width=\"24px\">\n",
              "    <path d=\"M0 0h24v24H0V0z\" fill=\"none\"/>\n",
              "    <path d=\"M18.56 5.44l.94 2.06.94-2.06 2.06-.94-2.06-.94-.94-2.06-.94 2.06-2.06.94zm-11 1L8.5 8.5l.94-2.06 2.06-.94-2.06-.94L8.5 2.5l-.94 2.06-2.06.94zm10 10l.94 2.06.94-2.06 2.06-.94-2.06-.94-.94-2.06-.94 2.06-2.06.94z\"/><path d=\"M17.41 7.96l-1.37-1.37c-.4-.4-.92-.59-1.43-.59-.52 0-1.04.2-1.43.59L10.3 9.45l-7.72 7.72c-.78.78-.78 2.05 0 2.83L4 21.41c.39.39.9.59 1.41.59.51 0 1.02-.2 1.41-.59l7.78-7.78 2.81-2.81c.8-.78.8-2.07 0-2.86zM5.41 20L4 18.59l7.72-7.72 1.47 1.35L5.41 20z\"/>\n",
              "  </svg>\n",
              "      </button>\n",
              "      \n",
              "  <style>\n",
              "    .colab-df-container {\n",
              "      display:flex;\n",
              "      flex-wrap:wrap;\n",
              "      gap: 12px;\n",
              "    }\n",
              "\n",
              "    .colab-df-convert {\n",
              "      background-color: #E8F0FE;\n",
              "      border: none;\n",
              "      border-radius: 50%;\n",
              "      cursor: pointer;\n",
              "      display: none;\n",
              "      fill: #1967D2;\n",
              "      height: 32px;\n",
              "      padding: 0 0 0 0;\n",
              "      width: 32px;\n",
              "    }\n",
              "\n",
              "    .colab-df-convert:hover {\n",
              "      background-color: #E2EBFA;\n",
              "      box-shadow: 0px 1px 2px rgba(60, 64, 67, 0.3), 0px 1px 3px 1px rgba(60, 64, 67, 0.15);\n",
              "      fill: #174EA6;\n",
              "    }\n",
              "\n",
              "    [theme=dark] .colab-df-convert {\n",
              "      background-color: #3B4455;\n",
              "      fill: #D2E3FC;\n",
              "    }\n",
              "\n",
              "    [theme=dark] .colab-df-convert:hover {\n",
              "      background-color: #434B5C;\n",
              "      box-shadow: 0px 1px 3px 1px rgba(0, 0, 0, 0.15);\n",
              "      filter: drop-shadow(0px 1px 2px rgba(0, 0, 0, 0.3));\n",
              "      fill: #FFFFFF;\n",
              "    }\n",
              "  </style>\n",
              "\n",
              "      <script>\n",
              "        const buttonEl =\n",
              "          document.querySelector('#df-1642554f-c53c-4d85-98c2-4a9ce085e56b button.colab-df-convert');\n",
              "        buttonEl.style.display =\n",
              "          google.colab.kernel.accessAllowed ? 'block' : 'none';\n",
              "\n",
              "        async function convertToInteractive(key) {\n",
              "          const element = document.querySelector('#df-1642554f-c53c-4d85-98c2-4a9ce085e56b');\n",
              "          const dataTable =\n",
              "            await google.colab.kernel.invokeFunction('convertToInteractive',\n",
              "                                                     [key], {});\n",
              "          if (!dataTable) return;\n",
              "\n",
              "          const docLinkHtml = 'Like what you see? Visit the ' +\n",
              "            '<a target=\"_blank\" href=https://colab.research.google.com/notebooks/data_table.ipynb>data table notebook</a>'\n",
              "            + ' to learn more about interactive tables.';\n",
              "          element.innerHTML = '';\n",
              "          dataTable['output_type'] = 'display_data';\n",
              "          await google.colab.output.renderOutput(dataTable, element);\n",
              "          const docLink = document.createElement('div');\n",
              "          docLink.innerHTML = docLinkHtml;\n",
              "          element.appendChild(docLink);\n",
              "        }\n",
              "      </script>\n",
              "    </div>\n",
              "  </div>\n",
              "  "
            ]
          },
          "metadata": {},
          "execution_count": 65
        }
      ],
      "source": [
        "df_node"
      ]
    },
    {
      "cell_type": "code",
      "execution_count": 66,
      "metadata": {
        "id": "i4-kT1azokFK",
        "outputId": "1ee7c937-4b79-4f89-af29-3bece393f195",
        "colab": {
          "base_uri": "https://localhost:8080/",
          "height": 363
        }
      },
      "outputs": [
        {
          "output_type": "execute_result",
          "data": {
            "text/plain": [
              "     kappa  t_kappa  theta  t_theta  sigma\n",
              "u v                                       \n",
              "1 2  28     1        2      1        0.10 \n",
              "  3  35     1        40     1        0.05 \n",
              "2 3  27     1        11     0        0.07 \n",
              "3 4  15     0        10     0        0.07 \n",
              "1 4  28     1        25     1        0.10 \n",
              "5 2  10     1        15     1        0.08 \n",
              "  4  10     1        15     1        0.08 \n",
              "6 2  17     1        27     1        0.20 \n",
              "  4  17     1        27     1        0.25 "
            ],
            "text/html": [
              "\n",
              "  <div id=\"df-c7c6b4f6-62d4-463e-b5a3-2436f6de4401\">\n",
              "    <div class=\"colab-df-container\">\n",
              "      <div>\n",
              "<style scoped>\n",
              "    .dataframe tbody tr th:only-of-type {\n",
              "        vertical-align: middle;\n",
              "    }\n",
              "\n",
              "    .dataframe tbody tr th {\n",
              "        vertical-align: top;\n",
              "    }\n",
              "\n",
              "    .dataframe thead th {\n",
              "        text-align: right;\n",
              "    }\n",
              "</style>\n",
              "<table border=\"1\" class=\"dataframe\">\n",
              "  <thead>\n",
              "    <tr style=\"text-align: right;\">\n",
              "      <th></th>\n",
              "      <th></th>\n",
              "      <th>kappa</th>\n",
              "      <th>t_kappa</th>\n",
              "      <th>theta</th>\n",
              "      <th>t_theta</th>\n",
              "      <th>sigma</th>\n",
              "    </tr>\n",
              "    <tr>\n",
              "      <th>u</th>\n",
              "      <th>v</th>\n",
              "      <th></th>\n",
              "      <th></th>\n",
              "      <th></th>\n",
              "      <th></th>\n",
              "      <th></th>\n",
              "    </tr>\n",
              "  </thead>\n",
              "  <tbody>\n",
              "    <tr>\n",
              "      <th rowspan=\"2\" valign=\"top\">1</th>\n",
              "      <th>2</th>\n",
              "      <td>28</td>\n",
              "      <td>1</td>\n",
              "      <td>2</td>\n",
              "      <td>1</td>\n",
              "      <td>0.10</td>\n",
              "    </tr>\n",
              "    <tr>\n",
              "      <th>3</th>\n",
              "      <td>35</td>\n",
              "      <td>1</td>\n",
              "      <td>40</td>\n",
              "      <td>1</td>\n",
              "      <td>0.05</td>\n",
              "    </tr>\n",
              "    <tr>\n",
              "      <th>2</th>\n",
              "      <th>3</th>\n",
              "      <td>27</td>\n",
              "      <td>1</td>\n",
              "      <td>11</td>\n",
              "      <td>0</td>\n",
              "      <td>0.07</td>\n",
              "    </tr>\n",
              "    <tr>\n",
              "      <th>3</th>\n",
              "      <th>4</th>\n",
              "      <td>15</td>\n",
              "      <td>0</td>\n",
              "      <td>10</td>\n",
              "      <td>0</td>\n",
              "      <td>0.07</td>\n",
              "    </tr>\n",
              "    <tr>\n",
              "      <th>1</th>\n",
              "      <th>4</th>\n",
              "      <td>28</td>\n",
              "      <td>1</td>\n",
              "      <td>25</td>\n",
              "      <td>1</td>\n",
              "      <td>0.10</td>\n",
              "    </tr>\n",
              "    <tr>\n",
              "      <th rowspan=\"2\" valign=\"top\">5</th>\n",
              "      <th>2</th>\n",
              "      <td>10</td>\n",
              "      <td>1</td>\n",
              "      <td>15</td>\n",
              "      <td>1</td>\n",
              "      <td>0.08</td>\n",
              "    </tr>\n",
              "    <tr>\n",
              "      <th>4</th>\n",
              "      <td>10</td>\n",
              "      <td>1</td>\n",
              "      <td>15</td>\n",
              "      <td>1</td>\n",
              "      <td>0.08</td>\n",
              "    </tr>\n",
              "    <tr>\n",
              "      <th rowspan=\"2\" valign=\"top\">6</th>\n",
              "      <th>2</th>\n",
              "      <td>17</td>\n",
              "      <td>1</td>\n",
              "      <td>27</td>\n",
              "      <td>1</td>\n",
              "      <td>0.20</td>\n",
              "    </tr>\n",
              "    <tr>\n",
              "      <th>4</th>\n",
              "      <td>17</td>\n",
              "      <td>1</td>\n",
              "      <td>27</td>\n",
              "      <td>1</td>\n",
              "      <td>0.25</td>\n",
              "    </tr>\n",
              "  </tbody>\n",
              "</table>\n",
              "</div>\n",
              "      <button class=\"colab-df-convert\" onclick=\"convertToInteractive('df-c7c6b4f6-62d4-463e-b5a3-2436f6de4401')\"\n",
              "              title=\"Convert this dataframe to an interactive table.\"\n",
              "              style=\"display:none;\">\n",
              "        \n",
              "  <svg xmlns=\"http://www.w3.org/2000/svg\" height=\"24px\"viewBox=\"0 0 24 24\"\n",
              "       width=\"24px\">\n",
              "    <path d=\"M0 0h24v24H0V0z\" fill=\"none\"/>\n",
              "    <path d=\"M18.56 5.44l.94 2.06.94-2.06 2.06-.94-2.06-.94-.94-2.06-.94 2.06-2.06.94zm-11 1L8.5 8.5l.94-2.06 2.06-.94-2.06-.94L8.5 2.5l-.94 2.06-2.06.94zm10 10l.94 2.06.94-2.06 2.06-.94-2.06-.94-.94-2.06-.94 2.06-2.06.94z\"/><path d=\"M17.41 7.96l-1.37-1.37c-.4-.4-.92-.59-1.43-.59-.52 0-1.04.2-1.43.59L10.3 9.45l-7.72 7.72c-.78.78-.78 2.05 0 2.83L4 21.41c.39.39.9.59 1.41.59.51 0 1.02-.2 1.41-.59l7.78-7.78 2.81-2.81c.8-.78.8-2.07 0-2.86zM5.41 20L4 18.59l7.72-7.72 1.47 1.35L5.41 20z\"/>\n",
              "  </svg>\n",
              "      </button>\n",
              "      \n",
              "  <style>\n",
              "    .colab-df-container {\n",
              "      display:flex;\n",
              "      flex-wrap:wrap;\n",
              "      gap: 12px;\n",
              "    }\n",
              "\n",
              "    .colab-df-convert {\n",
              "      background-color: #E8F0FE;\n",
              "      border: none;\n",
              "      border-radius: 50%;\n",
              "      cursor: pointer;\n",
              "      display: none;\n",
              "      fill: #1967D2;\n",
              "      height: 32px;\n",
              "      padding: 0 0 0 0;\n",
              "      width: 32px;\n",
              "    }\n",
              "\n",
              "    .colab-df-convert:hover {\n",
              "      background-color: #E2EBFA;\n",
              "      box-shadow: 0px 1px 2px rgba(60, 64, 67, 0.3), 0px 1px 3px 1px rgba(60, 64, 67, 0.15);\n",
              "      fill: #174EA6;\n",
              "    }\n",
              "\n",
              "    [theme=dark] .colab-df-convert {\n",
              "      background-color: #3B4455;\n",
              "      fill: #D2E3FC;\n",
              "    }\n",
              "\n",
              "    [theme=dark] .colab-df-convert:hover {\n",
              "      background-color: #434B5C;\n",
              "      box-shadow: 0px 1px 3px 1px rgba(0, 0, 0, 0.15);\n",
              "      filter: drop-shadow(0px 1px 2px rgba(0, 0, 0, 0.3));\n",
              "      fill: #FFFFFF;\n",
              "    }\n",
              "  </style>\n",
              "\n",
              "      <script>\n",
              "        const buttonEl =\n",
              "          document.querySelector('#df-c7c6b4f6-62d4-463e-b5a3-2436f6de4401 button.colab-df-convert');\n",
              "        buttonEl.style.display =\n",
              "          google.colab.kernel.accessAllowed ? 'block' : 'none';\n",
              "\n",
              "        async function convertToInteractive(key) {\n",
              "          const element = document.querySelector('#df-c7c6b4f6-62d4-463e-b5a3-2436f6de4401');\n",
              "          const dataTable =\n",
              "            await google.colab.kernel.invokeFunction('convertToInteractive',\n",
              "                                                     [key], {});\n",
              "          if (!dataTable) return;\n",
              "\n",
              "          const docLinkHtml = 'Like what you see? Visit the ' +\n",
              "            '<a target=\"_blank\" href=https://colab.research.google.com/notebooks/data_table.ipynb>data table notebook</a>'\n",
              "            + ' to learn more about interactive tables.';\n",
              "          element.innerHTML = '';\n",
              "          dataTable['output_type'] = 'display_data';\n",
              "          await google.colab.output.renderOutput(dataTable, element);\n",
              "          const docLink = document.createElement('div');\n",
              "          docLink.innerHTML = docLinkHtml;\n",
              "          element.appendChild(docLink);\n",
              "        }\n",
              "      </script>\n",
              "    </div>\n",
              "  </div>\n",
              "  "
            ]
          },
          "metadata": {},
          "execution_count": 66
        }
      ],
      "source": [
        "df_edge"
      ]
    },
    {
      "cell_type": "code",
      "execution_count": 67,
      "metadata": {
        "id": "dSI8OYndokFK",
        "outputId": "a6e9b263-679f-4d23-f23b-2fb897bf6418",
        "colab": {
          "base_uri": "https://localhost:8080/"
        }
      },
      "outputs": [
        {
          "output_type": "execute_result",
          "data": {
            "text/plain": [
              "{1: (1.0, 1), 2: (1.5, 0), 3: (2.0, 1), 4: (1.5, 2), 5: (0.2, 1), 6: (2.8, 1)}"
            ]
          },
          "metadata": {},
          "execution_count": 67
        }
      ],
      "source": [
        "d_position"
      ]
    },
    {
      "cell_type": "markdown",
      "metadata": {
        "id": "47rtYZOvokFK"
      },
      "source": [
        "### Read data from file with ```f_read_data_from_files```"
      ]
    },
    {
      "cell_type": "code",
      "execution_count": 68,
      "metadata": {
        "scrolled": true,
        "id": "TZR0DUYKokFK"
      },
      "outputs": [],
      "source": [
        "#\n",
        "# with a use of function f_read_data_from_files\n",
        "#\n",
        "\n",
        "df_TP, d_TP_weight = f_read_data_from_files(s_file_graphN, s_file_graphE, s_file_TS)"
      ]
    },
    {
      "cell_type": "code",
      "execution_count": 69,
      "metadata": {
        "id": "_xPgPCuzokFK",
        "outputId": "8dd2044c-55e0-4680-95d8-0c272f4a5012",
        "colab": {
          "base_uri": "https://localhost:8080/",
          "height": 269
        }
      },
      "outputs": [
        {
          "output_type": "execute_result",
          "data": {
            "text/plain": [
              "   kappa  t_kappa  theta  t_theta  sigma  x_position  y_position  delta  epsilon\n",
              "v                                                                               \n",
              "1  30     1        10     0        0.15   1.0         1           30     0.00   \n",
              "2  25     1        8      1        0.15   1.5         0           33     0.15   \n",
              "3  15     1        5      1        0.10   2.0         1           20     0.10   \n",
              "4  20     1        7      1        0.20   1.5         2           27     0.20   \n",
              "5  20     1        6      1        0.15   0.2         1           26     0.15   \n",
              "6  35     1        12     1        0.25   2.8         1           47     0.25   "
            ],
            "text/html": [
              "\n",
              "  <div id=\"df-a2014006-ff87-4570-8b2f-77a647eeb847\">\n",
              "    <div class=\"colab-df-container\">\n",
              "      <div>\n",
              "<style scoped>\n",
              "    .dataframe tbody tr th:only-of-type {\n",
              "        vertical-align: middle;\n",
              "    }\n",
              "\n",
              "    .dataframe tbody tr th {\n",
              "        vertical-align: top;\n",
              "    }\n",
              "\n",
              "    .dataframe thead th {\n",
              "        text-align: right;\n",
              "    }\n",
              "</style>\n",
              "<table border=\"1\" class=\"dataframe\">\n",
              "  <thead>\n",
              "    <tr style=\"text-align: right;\">\n",
              "      <th></th>\n",
              "      <th>kappa</th>\n",
              "      <th>t_kappa</th>\n",
              "      <th>theta</th>\n",
              "      <th>t_theta</th>\n",
              "      <th>sigma</th>\n",
              "      <th>x_position</th>\n",
              "      <th>y_position</th>\n",
              "      <th>delta</th>\n",
              "      <th>epsilon</th>\n",
              "    </tr>\n",
              "    <tr>\n",
              "      <th>v</th>\n",
              "      <th></th>\n",
              "      <th></th>\n",
              "      <th></th>\n",
              "      <th></th>\n",
              "      <th></th>\n",
              "      <th></th>\n",
              "      <th></th>\n",
              "      <th></th>\n",
              "      <th></th>\n",
              "    </tr>\n",
              "  </thead>\n",
              "  <tbody>\n",
              "    <tr>\n",
              "      <th>1</th>\n",
              "      <td>30</td>\n",
              "      <td>1</td>\n",
              "      <td>10</td>\n",
              "      <td>0</td>\n",
              "      <td>0.15</td>\n",
              "      <td>1.0</td>\n",
              "      <td>1</td>\n",
              "      <td>30</td>\n",
              "      <td>0.00</td>\n",
              "    </tr>\n",
              "    <tr>\n",
              "      <th>2</th>\n",
              "      <td>25</td>\n",
              "      <td>1</td>\n",
              "      <td>8</td>\n",
              "      <td>1</td>\n",
              "      <td>0.15</td>\n",
              "      <td>1.5</td>\n",
              "      <td>0</td>\n",
              "      <td>33</td>\n",
              "      <td>0.15</td>\n",
              "    </tr>\n",
              "    <tr>\n",
              "      <th>3</th>\n",
              "      <td>15</td>\n",
              "      <td>1</td>\n",
              "      <td>5</td>\n",
              "      <td>1</td>\n",
              "      <td>0.10</td>\n",
              "      <td>2.0</td>\n",
              "      <td>1</td>\n",
              "      <td>20</td>\n",
              "      <td>0.10</td>\n",
              "    </tr>\n",
              "    <tr>\n",
              "      <th>4</th>\n",
              "      <td>20</td>\n",
              "      <td>1</td>\n",
              "      <td>7</td>\n",
              "      <td>1</td>\n",
              "      <td>0.20</td>\n",
              "      <td>1.5</td>\n",
              "      <td>2</td>\n",
              "      <td>27</td>\n",
              "      <td>0.20</td>\n",
              "    </tr>\n",
              "    <tr>\n",
              "      <th>5</th>\n",
              "      <td>20</td>\n",
              "      <td>1</td>\n",
              "      <td>6</td>\n",
              "      <td>1</td>\n",
              "      <td>0.15</td>\n",
              "      <td>0.2</td>\n",
              "      <td>1</td>\n",
              "      <td>26</td>\n",
              "      <td>0.15</td>\n",
              "    </tr>\n",
              "    <tr>\n",
              "      <th>6</th>\n",
              "      <td>35</td>\n",
              "      <td>1</td>\n",
              "      <td>12</td>\n",
              "      <td>1</td>\n",
              "      <td>0.25</td>\n",
              "      <td>2.8</td>\n",
              "      <td>1</td>\n",
              "      <td>47</td>\n",
              "      <td>0.25</td>\n",
              "    </tr>\n",
              "  </tbody>\n",
              "</table>\n",
              "</div>\n",
              "      <button class=\"colab-df-convert\" onclick=\"convertToInteractive('df-a2014006-ff87-4570-8b2f-77a647eeb847')\"\n",
              "              title=\"Convert this dataframe to an interactive table.\"\n",
              "              style=\"display:none;\">\n",
              "        \n",
              "  <svg xmlns=\"http://www.w3.org/2000/svg\" height=\"24px\"viewBox=\"0 0 24 24\"\n",
              "       width=\"24px\">\n",
              "    <path d=\"M0 0h24v24H0V0z\" fill=\"none\"/>\n",
              "    <path d=\"M18.56 5.44l.94 2.06.94-2.06 2.06-.94-2.06-.94-.94-2.06-.94 2.06-2.06.94zm-11 1L8.5 8.5l.94-2.06 2.06-.94-2.06-.94L8.5 2.5l-.94 2.06-2.06.94zm10 10l.94 2.06.94-2.06 2.06-.94-2.06-.94-.94-2.06-.94 2.06-2.06.94z\"/><path d=\"M17.41 7.96l-1.37-1.37c-.4-.4-.92-.59-1.43-.59-.52 0-1.04.2-1.43.59L10.3 9.45l-7.72 7.72c-.78.78-.78 2.05 0 2.83L4 21.41c.39.39.9.59 1.41.59.51 0 1.02-.2 1.41-.59l7.78-7.78 2.81-2.81c.8-.78.8-2.07 0-2.86zM5.41 20L4 18.59l7.72-7.72 1.47 1.35L5.41 20z\"/>\n",
              "  </svg>\n",
              "      </button>\n",
              "      \n",
              "  <style>\n",
              "    .colab-df-container {\n",
              "      display:flex;\n",
              "      flex-wrap:wrap;\n",
              "      gap: 12px;\n",
              "    }\n",
              "\n",
              "    .colab-df-convert {\n",
              "      background-color: #E8F0FE;\n",
              "      border: none;\n",
              "      border-radius: 50%;\n",
              "      cursor: pointer;\n",
              "      display: none;\n",
              "      fill: #1967D2;\n",
              "      height: 32px;\n",
              "      padding: 0 0 0 0;\n",
              "      width: 32px;\n",
              "    }\n",
              "\n",
              "    .colab-df-convert:hover {\n",
              "      background-color: #E2EBFA;\n",
              "      box-shadow: 0px 1px 2px rgba(60, 64, 67, 0.3), 0px 1px 3px 1px rgba(60, 64, 67, 0.15);\n",
              "      fill: #174EA6;\n",
              "    }\n",
              "\n",
              "    [theme=dark] .colab-df-convert {\n",
              "      background-color: #3B4455;\n",
              "      fill: #D2E3FC;\n",
              "    }\n",
              "\n",
              "    [theme=dark] .colab-df-convert:hover {\n",
              "      background-color: #434B5C;\n",
              "      box-shadow: 0px 1px 3px 1px rgba(0, 0, 0, 0.15);\n",
              "      filter: drop-shadow(0px 1px 2px rgba(0, 0, 0, 0.3));\n",
              "      fill: #FFFFFF;\n",
              "    }\n",
              "  </style>\n",
              "\n",
              "      <script>\n",
              "        const buttonEl =\n",
              "          document.querySelector('#df-a2014006-ff87-4570-8b2f-77a647eeb847 button.colab-df-convert');\n",
              "        buttonEl.style.display =\n",
              "          google.colab.kernel.accessAllowed ? 'block' : 'none';\n",
              "\n",
              "        async function convertToInteractive(key) {\n",
              "          const element = document.querySelector('#df-a2014006-ff87-4570-8b2f-77a647eeb847');\n",
              "          const dataTable =\n",
              "            await google.colab.kernel.invokeFunction('convertToInteractive',\n",
              "                                                     [key], {});\n",
              "          if (!dataTable) return;\n",
              "\n",
              "          const docLinkHtml = 'Like what you see? Visit the ' +\n",
              "            '<a target=\"_blank\" href=https://colab.research.google.com/notebooks/data_table.ipynb>data table notebook</a>'\n",
              "            + ' to learn more about interactive tables.';\n",
              "          element.innerHTML = '';\n",
              "          dataTable['output_type'] = 'display_data';\n",
              "          await google.colab.output.renderOutput(dataTable, element);\n",
              "          const docLink = document.createElement('div');\n",
              "          docLink.innerHTML = docLinkHtml;\n",
              "          element.appendChild(docLink);\n",
              "        }\n",
              "      </script>\n",
              "    </div>\n",
              "  </div>\n",
              "  "
            ]
          },
          "metadata": {},
          "execution_count": 69
        }
      ],
      "source": [
        "df_node"
      ]
    },
    {
      "cell_type": "code",
      "execution_count": 70,
      "metadata": {
        "id": "sFCmx1WookFL",
        "outputId": "38a86f1f-feba-4148-a5ae-0f242bc3d92f",
        "colab": {
          "base_uri": "https://localhost:8080/",
          "height": 269
        }
      },
      "outputs": [
        {
          "output_type": "execute_result",
          "data": {
            "text/plain": [
              "   kappa  t_kappa  theta  t_theta  sigma  x_position  y_position  delta  epsilon\n",
              "v                                                                               \n",
              "1  30     1        10     0        0.15   1.0         1           30     0.00   \n",
              "2  25     1        8      1        0.15   1.5         0           33     0.15   \n",
              "3  15     1        5      1        0.10   2.0         1           20     0.10   \n",
              "4  20     1        7      1        0.20   1.5         2           27     0.20   \n",
              "5  20     1        6      1        0.15   0.2         1           26     0.15   \n",
              "6  35     1        12     1        0.25   2.8         1           47     0.25   "
            ],
            "text/html": [
              "\n",
              "  <div id=\"df-dc200828-8a78-46a4-9791-8f28d42ea475\">\n",
              "    <div class=\"colab-df-container\">\n",
              "      <div>\n",
              "<style scoped>\n",
              "    .dataframe tbody tr th:only-of-type {\n",
              "        vertical-align: middle;\n",
              "    }\n",
              "\n",
              "    .dataframe tbody tr th {\n",
              "        vertical-align: top;\n",
              "    }\n",
              "\n",
              "    .dataframe thead th {\n",
              "        text-align: right;\n",
              "    }\n",
              "</style>\n",
              "<table border=\"1\" class=\"dataframe\">\n",
              "  <thead>\n",
              "    <tr style=\"text-align: right;\">\n",
              "      <th></th>\n",
              "      <th>kappa</th>\n",
              "      <th>t_kappa</th>\n",
              "      <th>theta</th>\n",
              "      <th>t_theta</th>\n",
              "      <th>sigma</th>\n",
              "      <th>x_position</th>\n",
              "      <th>y_position</th>\n",
              "      <th>delta</th>\n",
              "      <th>epsilon</th>\n",
              "    </tr>\n",
              "    <tr>\n",
              "      <th>v</th>\n",
              "      <th></th>\n",
              "      <th></th>\n",
              "      <th></th>\n",
              "      <th></th>\n",
              "      <th></th>\n",
              "      <th></th>\n",
              "      <th></th>\n",
              "      <th></th>\n",
              "      <th></th>\n",
              "    </tr>\n",
              "  </thead>\n",
              "  <tbody>\n",
              "    <tr>\n",
              "      <th>1</th>\n",
              "      <td>30</td>\n",
              "      <td>1</td>\n",
              "      <td>10</td>\n",
              "      <td>0</td>\n",
              "      <td>0.15</td>\n",
              "      <td>1.0</td>\n",
              "      <td>1</td>\n",
              "      <td>30</td>\n",
              "      <td>0.00</td>\n",
              "    </tr>\n",
              "    <tr>\n",
              "      <th>2</th>\n",
              "      <td>25</td>\n",
              "      <td>1</td>\n",
              "      <td>8</td>\n",
              "      <td>1</td>\n",
              "      <td>0.15</td>\n",
              "      <td>1.5</td>\n",
              "      <td>0</td>\n",
              "      <td>33</td>\n",
              "      <td>0.15</td>\n",
              "    </tr>\n",
              "    <tr>\n",
              "      <th>3</th>\n",
              "      <td>15</td>\n",
              "      <td>1</td>\n",
              "      <td>5</td>\n",
              "      <td>1</td>\n",
              "      <td>0.10</td>\n",
              "      <td>2.0</td>\n",
              "      <td>1</td>\n",
              "      <td>20</td>\n",
              "      <td>0.10</td>\n",
              "    </tr>\n",
              "    <tr>\n",
              "      <th>4</th>\n",
              "      <td>20</td>\n",
              "      <td>1</td>\n",
              "      <td>7</td>\n",
              "      <td>1</td>\n",
              "      <td>0.20</td>\n",
              "      <td>1.5</td>\n",
              "      <td>2</td>\n",
              "      <td>27</td>\n",
              "      <td>0.20</td>\n",
              "    </tr>\n",
              "    <tr>\n",
              "      <th>5</th>\n",
              "      <td>20</td>\n",
              "      <td>1</td>\n",
              "      <td>6</td>\n",
              "      <td>1</td>\n",
              "      <td>0.15</td>\n",
              "      <td>0.2</td>\n",
              "      <td>1</td>\n",
              "      <td>26</td>\n",
              "      <td>0.15</td>\n",
              "    </tr>\n",
              "    <tr>\n",
              "      <th>6</th>\n",
              "      <td>35</td>\n",
              "      <td>1</td>\n",
              "      <td>12</td>\n",
              "      <td>1</td>\n",
              "      <td>0.25</td>\n",
              "      <td>2.8</td>\n",
              "      <td>1</td>\n",
              "      <td>47</td>\n",
              "      <td>0.25</td>\n",
              "    </tr>\n",
              "  </tbody>\n",
              "</table>\n",
              "</div>\n",
              "      <button class=\"colab-df-convert\" onclick=\"convertToInteractive('df-dc200828-8a78-46a4-9791-8f28d42ea475')\"\n",
              "              title=\"Convert this dataframe to an interactive table.\"\n",
              "              style=\"display:none;\">\n",
              "        \n",
              "  <svg xmlns=\"http://www.w3.org/2000/svg\" height=\"24px\"viewBox=\"0 0 24 24\"\n",
              "       width=\"24px\">\n",
              "    <path d=\"M0 0h24v24H0V0z\" fill=\"none\"/>\n",
              "    <path d=\"M18.56 5.44l.94 2.06.94-2.06 2.06-.94-2.06-.94-.94-2.06-.94 2.06-2.06.94zm-11 1L8.5 8.5l.94-2.06 2.06-.94-2.06-.94L8.5 2.5l-.94 2.06-2.06.94zm10 10l.94 2.06.94-2.06 2.06-.94-2.06-.94-.94-2.06-.94 2.06-2.06.94z\"/><path d=\"M17.41 7.96l-1.37-1.37c-.4-.4-.92-.59-1.43-.59-.52 0-1.04.2-1.43.59L10.3 9.45l-7.72 7.72c-.78.78-.78 2.05 0 2.83L4 21.41c.39.39.9.59 1.41.59.51 0 1.02-.2 1.41-.59l7.78-7.78 2.81-2.81c.8-.78.8-2.07 0-2.86zM5.41 20L4 18.59l7.72-7.72 1.47 1.35L5.41 20z\"/>\n",
              "  </svg>\n",
              "      </button>\n",
              "      \n",
              "  <style>\n",
              "    .colab-df-container {\n",
              "      display:flex;\n",
              "      flex-wrap:wrap;\n",
              "      gap: 12px;\n",
              "    }\n",
              "\n",
              "    .colab-df-convert {\n",
              "      background-color: #E8F0FE;\n",
              "      border: none;\n",
              "      border-radius: 50%;\n",
              "      cursor: pointer;\n",
              "      display: none;\n",
              "      fill: #1967D2;\n",
              "      height: 32px;\n",
              "      padding: 0 0 0 0;\n",
              "      width: 32px;\n",
              "    }\n",
              "\n",
              "    .colab-df-convert:hover {\n",
              "      background-color: #E2EBFA;\n",
              "      box-shadow: 0px 1px 2px rgba(60, 64, 67, 0.3), 0px 1px 3px 1px rgba(60, 64, 67, 0.15);\n",
              "      fill: #174EA6;\n",
              "    }\n",
              "\n",
              "    [theme=dark] .colab-df-convert {\n",
              "      background-color: #3B4455;\n",
              "      fill: #D2E3FC;\n",
              "    }\n",
              "\n",
              "    [theme=dark] .colab-df-convert:hover {\n",
              "      background-color: #434B5C;\n",
              "      box-shadow: 0px 1px 3px 1px rgba(0, 0, 0, 0.15);\n",
              "      filter: drop-shadow(0px 1px 2px rgba(0, 0, 0, 0.3));\n",
              "      fill: #FFFFFF;\n",
              "    }\n",
              "  </style>\n",
              "\n",
              "      <script>\n",
              "        const buttonEl =\n",
              "          document.querySelector('#df-dc200828-8a78-46a4-9791-8f28d42ea475 button.colab-df-convert');\n",
              "        buttonEl.style.display =\n",
              "          google.colab.kernel.accessAllowed ? 'block' : 'none';\n",
              "\n",
              "        async function convertToInteractive(key) {\n",
              "          const element = document.querySelector('#df-dc200828-8a78-46a4-9791-8f28d42ea475');\n",
              "          const dataTable =\n",
              "            await google.colab.kernel.invokeFunction('convertToInteractive',\n",
              "                                                     [key], {});\n",
              "          if (!dataTable) return;\n",
              "\n",
              "          const docLinkHtml = 'Like what you see? Visit the ' +\n",
              "            '<a target=\"_blank\" href=https://colab.research.google.com/notebooks/data_table.ipynb>data table notebook</a>'\n",
              "            + ' to learn more about interactive tables.';\n",
              "          element.innerHTML = '';\n",
              "          dataTable['output_type'] = 'display_data';\n",
              "          await google.colab.output.renderOutput(dataTable, element);\n",
              "          const docLink = document.createElement('div');\n",
              "          docLink.innerHTML = docLinkHtml;\n",
              "          element.appendChild(docLink);\n",
              "        }\n",
              "      </script>\n",
              "    </div>\n",
              "  </div>\n",
              "  "
            ]
          },
          "metadata": {},
          "execution_count": 70
        }
      ],
      "source": [
        "df_node"
      ]
    },
    {
      "cell_type": "code",
      "execution_count": 71,
      "metadata": {
        "id": "aoNXjwvsokFL",
        "outputId": "c632c52c-36f5-41a3-f65d-0fc3e61c688f",
        "colab": {
          "base_uri": "https://localhost:8080/",
          "height": 363
        }
      },
      "outputs": [
        {
          "output_type": "execute_result",
          "data": {
            "text/plain": [
              "     kappa  t_kappa  theta  t_theta  sigma  delta  epsilon\n",
              "u v                                                       \n",
              "1 2  28     1        2      1        0.10   30     0.10   \n",
              "  3  35     1        40     1        0.05   75     0.05   \n",
              "2 3  27     1        11     0        0.07   27     0.00   \n",
              "3 4  15     0        10     0        0.07   0      0.00   \n",
              "1 4  28     1        25     1        0.10   53     0.10   \n",
              "5 2  10     1        15     1        0.08   25     0.08   \n",
              "  4  10     1        15     1        0.08   25     0.08   \n",
              "6 2  17     1        27     1        0.20   44     0.20   \n",
              "  4  17     0        27     0        0.25   44     0.25   "
            ],
            "text/html": [
              "\n",
              "  <div id=\"df-48cc1676-88ad-40b5-a01e-9a51999e6763\">\n",
              "    <div class=\"colab-df-container\">\n",
              "      <div>\n",
              "<style scoped>\n",
              "    .dataframe tbody tr th:only-of-type {\n",
              "        vertical-align: middle;\n",
              "    }\n",
              "\n",
              "    .dataframe tbody tr th {\n",
              "        vertical-align: top;\n",
              "    }\n",
              "\n",
              "    .dataframe thead th {\n",
              "        text-align: right;\n",
              "    }\n",
              "</style>\n",
              "<table border=\"1\" class=\"dataframe\">\n",
              "  <thead>\n",
              "    <tr style=\"text-align: right;\">\n",
              "      <th></th>\n",
              "      <th></th>\n",
              "      <th>kappa</th>\n",
              "      <th>t_kappa</th>\n",
              "      <th>theta</th>\n",
              "      <th>t_theta</th>\n",
              "      <th>sigma</th>\n",
              "      <th>delta</th>\n",
              "      <th>epsilon</th>\n",
              "    </tr>\n",
              "    <tr>\n",
              "      <th>u</th>\n",
              "      <th>v</th>\n",
              "      <th></th>\n",
              "      <th></th>\n",
              "      <th></th>\n",
              "      <th></th>\n",
              "      <th></th>\n",
              "      <th></th>\n",
              "      <th></th>\n",
              "    </tr>\n",
              "  </thead>\n",
              "  <tbody>\n",
              "    <tr>\n",
              "      <th rowspan=\"2\" valign=\"top\">1</th>\n",
              "      <th>2</th>\n",
              "      <td>28</td>\n",
              "      <td>1</td>\n",
              "      <td>2</td>\n",
              "      <td>1</td>\n",
              "      <td>0.10</td>\n",
              "      <td>30</td>\n",
              "      <td>0.10</td>\n",
              "    </tr>\n",
              "    <tr>\n",
              "      <th>3</th>\n",
              "      <td>35</td>\n",
              "      <td>1</td>\n",
              "      <td>40</td>\n",
              "      <td>1</td>\n",
              "      <td>0.05</td>\n",
              "      <td>75</td>\n",
              "      <td>0.05</td>\n",
              "    </tr>\n",
              "    <tr>\n",
              "      <th>2</th>\n",
              "      <th>3</th>\n",
              "      <td>27</td>\n",
              "      <td>1</td>\n",
              "      <td>11</td>\n",
              "      <td>0</td>\n",
              "      <td>0.07</td>\n",
              "      <td>27</td>\n",
              "      <td>0.00</td>\n",
              "    </tr>\n",
              "    <tr>\n",
              "      <th>3</th>\n",
              "      <th>4</th>\n",
              "      <td>15</td>\n",
              "      <td>0</td>\n",
              "      <td>10</td>\n",
              "      <td>0</td>\n",
              "      <td>0.07</td>\n",
              "      <td>0</td>\n",
              "      <td>0.00</td>\n",
              "    </tr>\n",
              "    <tr>\n",
              "      <th>1</th>\n",
              "      <th>4</th>\n",
              "      <td>28</td>\n",
              "      <td>1</td>\n",
              "      <td>25</td>\n",
              "      <td>1</td>\n",
              "      <td>0.10</td>\n",
              "      <td>53</td>\n",
              "      <td>0.10</td>\n",
              "    </tr>\n",
              "    <tr>\n",
              "      <th rowspan=\"2\" valign=\"top\">5</th>\n",
              "      <th>2</th>\n",
              "      <td>10</td>\n",
              "      <td>1</td>\n",
              "      <td>15</td>\n",
              "      <td>1</td>\n",
              "      <td>0.08</td>\n",
              "      <td>25</td>\n",
              "      <td>0.08</td>\n",
              "    </tr>\n",
              "    <tr>\n",
              "      <th>4</th>\n",
              "      <td>10</td>\n",
              "      <td>1</td>\n",
              "      <td>15</td>\n",
              "      <td>1</td>\n",
              "      <td>0.08</td>\n",
              "      <td>25</td>\n",
              "      <td>0.08</td>\n",
              "    </tr>\n",
              "    <tr>\n",
              "      <th rowspan=\"2\" valign=\"top\">6</th>\n",
              "      <th>2</th>\n",
              "      <td>17</td>\n",
              "      <td>1</td>\n",
              "      <td>27</td>\n",
              "      <td>1</td>\n",
              "      <td>0.20</td>\n",
              "      <td>44</td>\n",
              "      <td>0.20</td>\n",
              "    </tr>\n",
              "    <tr>\n",
              "      <th>4</th>\n",
              "      <td>17</td>\n",
              "      <td>0</td>\n",
              "      <td>27</td>\n",
              "      <td>0</td>\n",
              "      <td>0.25</td>\n",
              "      <td>44</td>\n",
              "      <td>0.25</td>\n",
              "    </tr>\n",
              "  </tbody>\n",
              "</table>\n",
              "</div>\n",
              "      <button class=\"colab-df-convert\" onclick=\"convertToInteractive('df-48cc1676-88ad-40b5-a01e-9a51999e6763')\"\n",
              "              title=\"Convert this dataframe to an interactive table.\"\n",
              "              style=\"display:none;\">\n",
              "        \n",
              "  <svg xmlns=\"http://www.w3.org/2000/svg\" height=\"24px\"viewBox=\"0 0 24 24\"\n",
              "       width=\"24px\">\n",
              "    <path d=\"M0 0h24v24H0V0z\" fill=\"none\"/>\n",
              "    <path d=\"M18.56 5.44l.94 2.06.94-2.06 2.06-.94-2.06-.94-.94-2.06-.94 2.06-2.06.94zm-11 1L8.5 8.5l.94-2.06 2.06-.94-2.06-.94L8.5 2.5l-.94 2.06-2.06.94zm10 10l.94 2.06.94-2.06 2.06-.94-2.06-.94-.94-2.06-.94 2.06-2.06.94z\"/><path d=\"M17.41 7.96l-1.37-1.37c-.4-.4-.92-.59-1.43-.59-.52 0-1.04.2-1.43.59L10.3 9.45l-7.72 7.72c-.78.78-.78 2.05 0 2.83L4 21.41c.39.39.9.59 1.41.59.51 0 1.02-.2 1.41-.59l7.78-7.78 2.81-2.81c.8-.78.8-2.07 0-2.86zM5.41 20L4 18.59l7.72-7.72 1.47 1.35L5.41 20z\"/>\n",
              "  </svg>\n",
              "      </button>\n",
              "      \n",
              "  <style>\n",
              "    .colab-df-container {\n",
              "      display:flex;\n",
              "      flex-wrap:wrap;\n",
              "      gap: 12px;\n",
              "    }\n",
              "\n",
              "    .colab-df-convert {\n",
              "      background-color: #E8F0FE;\n",
              "      border: none;\n",
              "      border-radius: 50%;\n",
              "      cursor: pointer;\n",
              "      display: none;\n",
              "      fill: #1967D2;\n",
              "      height: 32px;\n",
              "      padding: 0 0 0 0;\n",
              "      width: 32px;\n",
              "    }\n",
              "\n",
              "    .colab-df-convert:hover {\n",
              "      background-color: #E2EBFA;\n",
              "      box-shadow: 0px 1px 2px rgba(60, 64, 67, 0.3), 0px 1px 3px 1px rgba(60, 64, 67, 0.15);\n",
              "      fill: #174EA6;\n",
              "    }\n",
              "\n",
              "    [theme=dark] .colab-df-convert {\n",
              "      background-color: #3B4455;\n",
              "      fill: #D2E3FC;\n",
              "    }\n",
              "\n",
              "    [theme=dark] .colab-df-convert:hover {\n",
              "      background-color: #434B5C;\n",
              "      box-shadow: 0px 1px 3px 1px rgba(0, 0, 0, 0.15);\n",
              "      filter: drop-shadow(0px 1px 2px rgba(0, 0, 0, 0.3));\n",
              "      fill: #FFFFFF;\n",
              "    }\n",
              "  </style>\n",
              "\n",
              "      <script>\n",
              "        const buttonEl =\n",
              "          document.querySelector('#df-48cc1676-88ad-40b5-a01e-9a51999e6763 button.colab-df-convert');\n",
              "        buttonEl.style.display =\n",
              "          google.colab.kernel.accessAllowed ? 'block' : 'none';\n",
              "\n",
              "        async function convertToInteractive(key) {\n",
              "          const element = document.querySelector('#df-48cc1676-88ad-40b5-a01e-9a51999e6763');\n",
              "          const dataTable =\n",
              "            await google.colab.kernel.invokeFunction('convertToInteractive',\n",
              "                                                     [key], {});\n",
              "          if (!dataTable) return;\n",
              "\n",
              "          const docLinkHtml = 'Like what you see? Visit the ' +\n",
              "            '<a target=\"_blank\" href=https://colab.research.google.com/notebooks/data_table.ipynb>data table notebook</a>'\n",
              "            + ' to learn more about interactive tables.';\n",
              "          element.innerHTML = '';\n",
              "          dataTable['output_type'] = 'display_data';\n",
              "          await google.colab.output.renderOutput(dataTable, element);\n",
              "          const docLink = document.createElement('div');\n",
              "          docLink.innerHTML = docLinkHtml;\n",
              "          element.appendChild(docLink);\n",
              "        }\n",
              "      </script>\n",
              "    </div>\n",
              "  </div>\n",
              "  "
            ]
          },
          "metadata": {},
          "execution_count": 71
        }
      ],
      "source": [
        "df_edge"
      ]
    },
    {
      "cell_type": "code",
      "execution_count": 72,
      "metadata": {
        "id": "uG6_lzZlokFL",
        "outputId": "2efa0bc2-0c77-46ad-84c0-d44eda269c62",
        "colab": {
          "base_uri": "https://localhost:8080/"
        }
      },
      "outputs": [
        {
          "output_type": "execute_result",
          "data": {
            "text/plain": [
              "{'H1': [(1, 3), (5, 4), (5, 2)],\n",
              " 'H2': [(1, 4), (1, 3), (3, 4)],\n",
              " 'H3': [(3, 4), (6, 2)],\n",
              " 'H4': [(1, 2), (1, 3), (1, 4), (2, 3), (3, 4)],\n",
              " 'H5': [(1, 2), (1, 4), (2, 3)],\n",
              " 'H6': [(2, 3), (3, 4)]}"
            ]
          },
          "metadata": {},
          "execution_count": 72
        }
      ],
      "source": [
        "d_TS_H"
      ]
    },
    {
      "cell_type": "code",
      "execution_count": 73,
      "metadata": {
        "id": "YeEVU2glokFL",
        "outputId": "5c1bdb93-c094-475f-dffd-fa1f7cf7dc3e",
        "colab": {
          "base_uri": "https://localhost:8080/"
        }
      },
      "outputs": [
        {
          "output_type": "execute_result",
          "data": {
            "text/plain": [
              "{1: (1.0, 1), 2: (1.5, 0), 3: (2.0, 1), 4: (1.5, 2), 5: (0.2, 1), 6: (2.8, 1)}"
            ]
          },
          "metadata": {},
          "execution_count": 73
        }
      ],
      "source": [
        "d_position"
      ]
    },
    {
      "cell_type": "code",
      "execution_count": 74,
      "metadata": {
        "id": "OjQWKgryokFL",
        "outputId": "ded87880-05b7-4c1d-8954-2bdbc119e318",
        "colab": {
          "base_uri": "https://localhost:8080/"
        }
      },
      "outputs": [
        {
          "output_type": "execute_result",
          "data": {
            "text/plain": [
              "{1: '$v_1$', 2: '$v_2$', 3: '$v_3$', 4: '$v_4$', 5: '$v_5$', 6: '$v_6$'}"
            ]
          },
          "metadata": {},
          "execution_count": 74
        }
      ],
      "source": [
        "d_node_label"
      ]
    },
    {
      "cell_type": "code",
      "execution_count": 75,
      "metadata": {
        "id": "2yhuW58eokFL",
        "outputId": "5c344f50-295c-4dde-b6b2-20473cc6e31c",
        "colab": {
          "base_uri": "https://localhost:8080/"
        }
      },
      "outputs": [
        {
          "output_type": "execute_result",
          "data": {
            "text/plain": [
              "{(1, 2): '$e_{1}$',\n",
              " (1, 3): '$e_{2}$',\n",
              " (2, 3): '$e_{3}$',\n",
              " (3, 4): '$e_{4}$',\n",
              " (1, 4): '$e_{5}$',\n",
              " (5, 2): '$e_{6}$',\n",
              " (5, 4): '$e_{7}$',\n",
              " (6, 2): '$e_{8}$',\n",
              " (6, 4): '$e_{9}$'}"
            ]
          },
          "metadata": {},
          "execution_count": 75
        }
      ],
      "source": [
        "d_edge_label"
      ]
    },
    {
      "cell_type": "markdown",
      "metadata": {
        "id": "A0FEpCXdokFL"
      },
      "source": [
        "## Presentation of input data"
      ]
    },
    {
      "cell_type": "code",
      "execution_count": 76,
      "metadata": {
        "id": "7yPtB6pbokFL",
        "outputId": "c00b874f-6a84-445a-8ff1-d8ba3b55281c",
        "colab": {
          "base_uri": "https://localhost:8080/",
          "height": 1000
        }
      },
      "outputs": [
        {
          "output_type": "stream",
          "name": "stdout",
          "text": [
            "============================================================ df_TP ============================================================\n"
          ]
        },
        {
          "output_type": "display_data",
          "data": {
            "text/plain": [
              "                                                    TS_edges  kappa  theta  delta  epsilon  size\n",
              "H1  [(1, 2), (1, 4), (2, 3), (6, 4), (6, 2)]                  274    81     355    1.35     5   \n",
              "H2  [(1, 4), (1, 3), (3, 4), (5, 4)]                          176    80     256    0.68     4   \n",
              "H3  [(1, 3)]                                                  85     40     125    0.15     1   \n",
              "H4  [(1, 3), (1, 4), (2, 3), (5, 4), (5, 2), (6, 4), (6, 2)]  327    149    476    1.61     7   "
            ],
            "text/html": [
              "\n",
              "  <div id=\"df-4b81f171-3c38-431e-991d-ee5e220bdeec\">\n",
              "    <div class=\"colab-df-container\">\n",
              "      <div>\n",
              "<style scoped>\n",
              "    .dataframe tbody tr th:only-of-type {\n",
              "        vertical-align: middle;\n",
              "    }\n",
              "\n",
              "    .dataframe tbody tr th {\n",
              "        vertical-align: top;\n",
              "    }\n",
              "\n",
              "    .dataframe thead th {\n",
              "        text-align: right;\n",
              "    }\n",
              "</style>\n",
              "<table border=\"1\" class=\"dataframe\">\n",
              "  <thead>\n",
              "    <tr style=\"text-align: right;\">\n",
              "      <th></th>\n",
              "      <th>TS_edges</th>\n",
              "      <th>kappa</th>\n",
              "      <th>theta</th>\n",
              "      <th>delta</th>\n",
              "      <th>epsilon</th>\n",
              "      <th>size</th>\n",
              "    </tr>\n",
              "  </thead>\n",
              "  <tbody>\n",
              "    <tr>\n",
              "      <th>H1</th>\n",
              "      <td>[(1, 2), (1, 4), (2, 3), (6, 4), (6, 2)]</td>\n",
              "      <td>274</td>\n",
              "      <td>81</td>\n",
              "      <td>355</td>\n",
              "      <td>1.35</td>\n",
              "      <td>5</td>\n",
              "    </tr>\n",
              "    <tr>\n",
              "      <th>H2</th>\n",
              "      <td>[(1, 4), (1, 3), (3, 4), (5, 4)]</td>\n",
              "      <td>176</td>\n",
              "      <td>80</td>\n",
              "      <td>256</td>\n",
              "      <td>0.68</td>\n",
              "      <td>4</td>\n",
              "    </tr>\n",
              "    <tr>\n",
              "      <th>H3</th>\n",
              "      <td>[(1, 3)]</td>\n",
              "      <td>85</td>\n",
              "      <td>40</td>\n",
              "      <td>125</td>\n",
              "      <td>0.15</td>\n",
              "      <td>1</td>\n",
              "    </tr>\n",
              "    <tr>\n",
              "      <th>H4</th>\n",
              "      <td>[(1, 3), (1, 4), (2, 3), (5, 4), (5, 2), (6, 4), (6, 2)]</td>\n",
              "      <td>327</td>\n",
              "      <td>149</td>\n",
              "      <td>476</td>\n",
              "      <td>1.61</td>\n",
              "      <td>7</td>\n",
              "    </tr>\n",
              "  </tbody>\n",
              "</table>\n",
              "</div>\n",
              "      <button class=\"colab-df-convert\" onclick=\"convertToInteractive('df-4b81f171-3c38-431e-991d-ee5e220bdeec')\"\n",
              "              title=\"Convert this dataframe to an interactive table.\"\n",
              "              style=\"display:none;\">\n",
              "        \n",
              "  <svg xmlns=\"http://www.w3.org/2000/svg\" height=\"24px\"viewBox=\"0 0 24 24\"\n",
              "       width=\"24px\">\n",
              "    <path d=\"M0 0h24v24H0V0z\" fill=\"none\"/>\n",
              "    <path d=\"M18.56 5.44l.94 2.06.94-2.06 2.06-.94-2.06-.94-.94-2.06-.94 2.06-2.06.94zm-11 1L8.5 8.5l.94-2.06 2.06-.94-2.06-.94L8.5 2.5l-.94 2.06-2.06.94zm10 10l.94 2.06.94-2.06 2.06-.94-2.06-.94-.94-2.06-.94 2.06-2.06.94z\"/><path d=\"M17.41 7.96l-1.37-1.37c-.4-.4-.92-.59-1.43-.59-.52 0-1.04.2-1.43.59L10.3 9.45l-7.72 7.72c-.78.78-.78 2.05 0 2.83L4 21.41c.39.39.9.59 1.41.59.51 0 1.02-.2 1.41-.59l7.78-7.78 2.81-2.81c.8-.78.8-2.07 0-2.86zM5.41 20L4 18.59l7.72-7.72 1.47 1.35L5.41 20z\"/>\n",
              "  </svg>\n",
              "      </button>\n",
              "      \n",
              "  <style>\n",
              "    .colab-df-container {\n",
              "      display:flex;\n",
              "      flex-wrap:wrap;\n",
              "      gap: 12px;\n",
              "    }\n",
              "\n",
              "    .colab-df-convert {\n",
              "      background-color: #E8F0FE;\n",
              "      border: none;\n",
              "      border-radius: 50%;\n",
              "      cursor: pointer;\n",
              "      display: none;\n",
              "      fill: #1967D2;\n",
              "      height: 32px;\n",
              "      padding: 0 0 0 0;\n",
              "      width: 32px;\n",
              "    }\n",
              "\n",
              "    .colab-df-convert:hover {\n",
              "      background-color: #E2EBFA;\n",
              "      box-shadow: 0px 1px 2px rgba(60, 64, 67, 0.3), 0px 1px 3px 1px rgba(60, 64, 67, 0.15);\n",
              "      fill: #174EA6;\n",
              "    }\n",
              "\n",
              "    [theme=dark] .colab-df-convert {\n",
              "      background-color: #3B4455;\n",
              "      fill: #D2E3FC;\n",
              "    }\n",
              "\n",
              "    [theme=dark] .colab-df-convert:hover {\n",
              "      background-color: #434B5C;\n",
              "      box-shadow: 0px 1px 3px 1px rgba(0, 0, 0, 0.15);\n",
              "      filter: drop-shadow(0px 1px 2px rgba(0, 0, 0, 0.3));\n",
              "      fill: #FFFFFF;\n",
              "    }\n",
              "  </style>\n",
              "\n",
              "      <script>\n",
              "        const buttonEl =\n",
              "          document.querySelector('#df-4b81f171-3c38-431e-991d-ee5e220bdeec button.colab-df-convert');\n",
              "        buttonEl.style.display =\n",
              "          google.colab.kernel.accessAllowed ? 'block' : 'none';\n",
              "\n",
              "        async function convertToInteractive(key) {\n",
              "          const element = document.querySelector('#df-4b81f171-3c38-431e-991d-ee5e220bdeec');\n",
              "          const dataTable =\n",
              "            await google.colab.kernel.invokeFunction('convertToInteractive',\n",
              "                                                     [key], {});\n",
              "          if (!dataTable) return;\n",
              "\n",
              "          const docLinkHtml = 'Like what you see? Visit the ' +\n",
              "            '<a target=\"_blank\" href=https://colab.research.google.com/notebooks/data_table.ipynb>data table notebook</a>'\n",
              "            + ' to learn more about interactive tables.';\n",
              "          element.innerHTML = '';\n",
              "          dataTable['output_type'] = 'display_data';\n",
              "          await google.colab.output.renderOutput(dataTable, element);\n",
              "          const docLink = document.createElement('div');\n",
              "          docLink.innerHTML = docLinkHtml;\n",
              "          element.appendChild(docLink);\n",
              "        }\n",
              "      </script>\n",
              "    </div>\n",
              "  </div>\n",
              "  "
            ]
          },
          "metadata": {}
        },
        {
          "output_type": "stream",
          "name": "stdout",
          "text": [
            "========================================================= d_TP_weight =========================================================\n",
            "{'theta': 350, 'delta': 902, 'epsilon': 1.71}\n",
            "=========================================================== df_node ===========================================================\n"
          ]
        },
        {
          "output_type": "display_data",
          "data": {
            "text/plain": [
              "   kappa  t_kappa  theta  t_theta  sigma  x_position  y_position  delta  epsilon\n",
              "v                                                                               \n",
              "1  30     1        10     0        0.15   1.0         1           30     0.00   \n",
              "2  25     1        8      1        0.15   1.5         0           33     0.15   \n",
              "3  15     1        5      1        0.10   2.0         1           20     0.10   \n",
              "4  20     1        7      1        0.20   1.5         2           27     0.20   \n",
              "5  20     1        6      1        0.15   0.2         1           26     0.15   \n",
              "6  35     1        12     1        0.25   2.8         1           47     0.25   "
            ],
            "text/html": [
              "\n",
              "  <div id=\"df-0d02930e-f21d-4b98-9585-982ef2809042\">\n",
              "    <div class=\"colab-df-container\">\n",
              "      <div>\n",
              "<style scoped>\n",
              "    .dataframe tbody tr th:only-of-type {\n",
              "        vertical-align: middle;\n",
              "    }\n",
              "\n",
              "    .dataframe tbody tr th {\n",
              "        vertical-align: top;\n",
              "    }\n",
              "\n",
              "    .dataframe thead th {\n",
              "        text-align: right;\n",
              "    }\n",
              "</style>\n",
              "<table border=\"1\" class=\"dataframe\">\n",
              "  <thead>\n",
              "    <tr style=\"text-align: right;\">\n",
              "      <th></th>\n",
              "      <th>kappa</th>\n",
              "      <th>t_kappa</th>\n",
              "      <th>theta</th>\n",
              "      <th>t_theta</th>\n",
              "      <th>sigma</th>\n",
              "      <th>x_position</th>\n",
              "      <th>y_position</th>\n",
              "      <th>delta</th>\n",
              "      <th>epsilon</th>\n",
              "    </tr>\n",
              "    <tr>\n",
              "      <th>v</th>\n",
              "      <th></th>\n",
              "      <th></th>\n",
              "      <th></th>\n",
              "      <th></th>\n",
              "      <th></th>\n",
              "      <th></th>\n",
              "      <th></th>\n",
              "      <th></th>\n",
              "      <th></th>\n",
              "    </tr>\n",
              "  </thead>\n",
              "  <tbody>\n",
              "    <tr>\n",
              "      <th>1</th>\n",
              "      <td>30</td>\n",
              "      <td>1</td>\n",
              "      <td>10</td>\n",
              "      <td>0</td>\n",
              "      <td>0.15</td>\n",
              "      <td>1.0</td>\n",
              "      <td>1</td>\n",
              "      <td>30</td>\n",
              "      <td>0.00</td>\n",
              "    </tr>\n",
              "    <tr>\n",
              "      <th>2</th>\n",
              "      <td>25</td>\n",
              "      <td>1</td>\n",
              "      <td>8</td>\n",
              "      <td>1</td>\n",
              "      <td>0.15</td>\n",
              "      <td>1.5</td>\n",
              "      <td>0</td>\n",
              "      <td>33</td>\n",
              "      <td>0.15</td>\n",
              "    </tr>\n",
              "    <tr>\n",
              "      <th>3</th>\n",
              "      <td>15</td>\n",
              "      <td>1</td>\n",
              "      <td>5</td>\n",
              "      <td>1</td>\n",
              "      <td>0.10</td>\n",
              "      <td>2.0</td>\n",
              "      <td>1</td>\n",
              "      <td>20</td>\n",
              "      <td>0.10</td>\n",
              "    </tr>\n",
              "    <tr>\n",
              "      <th>4</th>\n",
              "      <td>20</td>\n",
              "      <td>1</td>\n",
              "      <td>7</td>\n",
              "      <td>1</td>\n",
              "      <td>0.20</td>\n",
              "      <td>1.5</td>\n",
              "      <td>2</td>\n",
              "      <td>27</td>\n",
              "      <td>0.20</td>\n",
              "    </tr>\n",
              "    <tr>\n",
              "      <th>5</th>\n",
              "      <td>20</td>\n",
              "      <td>1</td>\n",
              "      <td>6</td>\n",
              "      <td>1</td>\n",
              "      <td>0.15</td>\n",
              "      <td>0.2</td>\n",
              "      <td>1</td>\n",
              "      <td>26</td>\n",
              "      <td>0.15</td>\n",
              "    </tr>\n",
              "    <tr>\n",
              "      <th>6</th>\n",
              "      <td>35</td>\n",
              "      <td>1</td>\n",
              "      <td>12</td>\n",
              "      <td>1</td>\n",
              "      <td>0.25</td>\n",
              "      <td>2.8</td>\n",
              "      <td>1</td>\n",
              "      <td>47</td>\n",
              "      <td>0.25</td>\n",
              "    </tr>\n",
              "  </tbody>\n",
              "</table>\n",
              "</div>\n",
              "      <button class=\"colab-df-convert\" onclick=\"convertToInteractive('df-0d02930e-f21d-4b98-9585-982ef2809042')\"\n",
              "              title=\"Convert this dataframe to an interactive table.\"\n",
              "              style=\"display:none;\">\n",
              "        \n",
              "  <svg xmlns=\"http://www.w3.org/2000/svg\" height=\"24px\"viewBox=\"0 0 24 24\"\n",
              "       width=\"24px\">\n",
              "    <path d=\"M0 0h24v24H0V0z\" fill=\"none\"/>\n",
              "    <path d=\"M18.56 5.44l.94 2.06.94-2.06 2.06-.94-2.06-.94-.94-2.06-.94 2.06-2.06.94zm-11 1L8.5 8.5l.94-2.06 2.06-.94-2.06-.94L8.5 2.5l-.94 2.06-2.06.94zm10 10l.94 2.06.94-2.06 2.06-.94-2.06-.94-.94-2.06-.94 2.06-2.06.94z\"/><path d=\"M17.41 7.96l-1.37-1.37c-.4-.4-.92-.59-1.43-.59-.52 0-1.04.2-1.43.59L10.3 9.45l-7.72 7.72c-.78.78-.78 2.05 0 2.83L4 21.41c.39.39.9.59 1.41.59.51 0 1.02-.2 1.41-.59l7.78-7.78 2.81-2.81c.8-.78.8-2.07 0-2.86zM5.41 20L4 18.59l7.72-7.72 1.47 1.35L5.41 20z\"/>\n",
              "  </svg>\n",
              "      </button>\n",
              "      \n",
              "  <style>\n",
              "    .colab-df-container {\n",
              "      display:flex;\n",
              "      flex-wrap:wrap;\n",
              "      gap: 12px;\n",
              "    }\n",
              "\n",
              "    .colab-df-convert {\n",
              "      background-color: #E8F0FE;\n",
              "      border: none;\n",
              "      border-radius: 50%;\n",
              "      cursor: pointer;\n",
              "      display: none;\n",
              "      fill: #1967D2;\n",
              "      height: 32px;\n",
              "      padding: 0 0 0 0;\n",
              "      width: 32px;\n",
              "    }\n",
              "\n",
              "    .colab-df-convert:hover {\n",
              "      background-color: #E2EBFA;\n",
              "      box-shadow: 0px 1px 2px rgba(60, 64, 67, 0.3), 0px 1px 3px 1px rgba(60, 64, 67, 0.15);\n",
              "      fill: #174EA6;\n",
              "    }\n",
              "\n",
              "    [theme=dark] .colab-df-convert {\n",
              "      background-color: #3B4455;\n",
              "      fill: #D2E3FC;\n",
              "    }\n",
              "\n",
              "    [theme=dark] .colab-df-convert:hover {\n",
              "      background-color: #434B5C;\n",
              "      box-shadow: 0px 1px 3px 1px rgba(0, 0, 0, 0.15);\n",
              "      filter: drop-shadow(0px 1px 2px rgba(0, 0, 0, 0.3));\n",
              "      fill: #FFFFFF;\n",
              "    }\n",
              "  </style>\n",
              "\n",
              "      <script>\n",
              "        const buttonEl =\n",
              "          document.querySelector('#df-0d02930e-f21d-4b98-9585-982ef2809042 button.colab-df-convert');\n",
              "        buttonEl.style.display =\n",
              "          google.colab.kernel.accessAllowed ? 'block' : 'none';\n",
              "\n",
              "        async function convertToInteractive(key) {\n",
              "          const element = document.querySelector('#df-0d02930e-f21d-4b98-9585-982ef2809042');\n",
              "          const dataTable =\n",
              "            await google.colab.kernel.invokeFunction('convertToInteractive',\n",
              "                                                     [key], {});\n",
              "          if (!dataTable) return;\n",
              "\n",
              "          const docLinkHtml = 'Like what you see? Visit the ' +\n",
              "            '<a target=\"_blank\" href=https://colab.research.google.com/notebooks/data_table.ipynb>data table notebook</a>'\n",
              "            + ' to learn more about interactive tables.';\n",
              "          element.innerHTML = '';\n",
              "          dataTable['output_type'] = 'display_data';\n",
              "          await google.colab.output.renderOutput(dataTable, element);\n",
              "          const docLink = document.createElement('div');\n",
              "          docLink.innerHTML = docLinkHtml;\n",
              "          element.appendChild(docLink);\n",
              "        }\n",
              "      </script>\n",
              "    </div>\n",
              "  </div>\n",
              "  "
            ]
          },
          "metadata": {}
        },
        {
          "output_type": "stream",
          "name": "stdout",
          "text": [
            "=========================================================== df_edge ===========================================================\n"
          ]
        },
        {
          "output_type": "display_data",
          "data": {
            "text/plain": [
              "     kappa  t_kappa  theta  t_theta  sigma  delta  epsilon\n",
              "u v                                                       \n",
              "1 2  28     1        2      1        0.10   30     0.10   \n",
              "  3  35     1        40     1        0.05   75     0.05   \n",
              "2 3  27     1        11     0        0.07   27     0.00   \n",
              "3 4  15     0        10     0        0.07   0      0.00   \n",
              "1 4  28     1        25     1        0.10   53     0.10   \n",
              "5 2  10     1        15     1        0.08   25     0.08   \n",
              "  4  10     1        15     1        0.08   25     0.08   \n",
              "6 2  17     1        27     1        0.20   44     0.20   \n",
              "  4  17     1        27     1        0.25   44     0.25   "
            ],
            "text/html": [
              "\n",
              "  <div id=\"df-4cdc63d5-15a2-4386-a1ea-3b9331aeb243\">\n",
              "    <div class=\"colab-df-container\">\n",
              "      <div>\n",
              "<style scoped>\n",
              "    .dataframe tbody tr th:only-of-type {\n",
              "        vertical-align: middle;\n",
              "    }\n",
              "\n",
              "    .dataframe tbody tr th {\n",
              "        vertical-align: top;\n",
              "    }\n",
              "\n",
              "    .dataframe thead th {\n",
              "        text-align: right;\n",
              "    }\n",
              "</style>\n",
              "<table border=\"1\" class=\"dataframe\">\n",
              "  <thead>\n",
              "    <tr style=\"text-align: right;\">\n",
              "      <th></th>\n",
              "      <th></th>\n",
              "      <th>kappa</th>\n",
              "      <th>t_kappa</th>\n",
              "      <th>theta</th>\n",
              "      <th>t_theta</th>\n",
              "      <th>sigma</th>\n",
              "      <th>delta</th>\n",
              "      <th>epsilon</th>\n",
              "    </tr>\n",
              "    <tr>\n",
              "      <th>u</th>\n",
              "      <th>v</th>\n",
              "      <th></th>\n",
              "      <th></th>\n",
              "      <th></th>\n",
              "      <th></th>\n",
              "      <th></th>\n",
              "      <th></th>\n",
              "      <th></th>\n",
              "    </tr>\n",
              "  </thead>\n",
              "  <tbody>\n",
              "    <tr>\n",
              "      <th rowspan=\"2\" valign=\"top\">1</th>\n",
              "      <th>2</th>\n",
              "      <td>28</td>\n",
              "      <td>1</td>\n",
              "      <td>2</td>\n",
              "      <td>1</td>\n",
              "      <td>0.10</td>\n",
              "      <td>30</td>\n",
              "      <td>0.10</td>\n",
              "    </tr>\n",
              "    <tr>\n",
              "      <th>3</th>\n",
              "      <td>35</td>\n",
              "      <td>1</td>\n",
              "      <td>40</td>\n",
              "      <td>1</td>\n",
              "      <td>0.05</td>\n",
              "      <td>75</td>\n",
              "      <td>0.05</td>\n",
              "    </tr>\n",
              "    <tr>\n",
              "      <th>2</th>\n",
              "      <th>3</th>\n",
              "      <td>27</td>\n",
              "      <td>1</td>\n",
              "      <td>11</td>\n",
              "      <td>0</td>\n",
              "      <td>0.07</td>\n",
              "      <td>27</td>\n",
              "      <td>0.00</td>\n",
              "    </tr>\n",
              "    <tr>\n",
              "      <th>3</th>\n",
              "      <th>4</th>\n",
              "      <td>15</td>\n",
              "      <td>0</td>\n",
              "      <td>10</td>\n",
              "      <td>0</td>\n",
              "      <td>0.07</td>\n",
              "      <td>0</td>\n",
              "      <td>0.00</td>\n",
              "    </tr>\n",
              "    <tr>\n",
              "      <th>1</th>\n",
              "      <th>4</th>\n",
              "      <td>28</td>\n",
              "      <td>1</td>\n",
              "      <td>25</td>\n",
              "      <td>1</td>\n",
              "      <td>0.10</td>\n",
              "      <td>53</td>\n",
              "      <td>0.10</td>\n",
              "    </tr>\n",
              "    <tr>\n",
              "      <th rowspan=\"2\" valign=\"top\">5</th>\n",
              "      <th>2</th>\n",
              "      <td>10</td>\n",
              "      <td>1</td>\n",
              "      <td>15</td>\n",
              "      <td>1</td>\n",
              "      <td>0.08</td>\n",
              "      <td>25</td>\n",
              "      <td>0.08</td>\n",
              "    </tr>\n",
              "    <tr>\n",
              "      <th>4</th>\n",
              "      <td>10</td>\n",
              "      <td>1</td>\n",
              "      <td>15</td>\n",
              "      <td>1</td>\n",
              "      <td>0.08</td>\n",
              "      <td>25</td>\n",
              "      <td>0.08</td>\n",
              "    </tr>\n",
              "    <tr>\n",
              "      <th rowspan=\"2\" valign=\"top\">6</th>\n",
              "      <th>2</th>\n",
              "      <td>17</td>\n",
              "      <td>1</td>\n",
              "      <td>27</td>\n",
              "      <td>1</td>\n",
              "      <td>0.20</td>\n",
              "      <td>44</td>\n",
              "      <td>0.20</td>\n",
              "    </tr>\n",
              "    <tr>\n",
              "      <th>4</th>\n",
              "      <td>17</td>\n",
              "      <td>1</td>\n",
              "      <td>27</td>\n",
              "      <td>1</td>\n",
              "      <td>0.25</td>\n",
              "      <td>44</td>\n",
              "      <td>0.25</td>\n",
              "    </tr>\n",
              "  </tbody>\n",
              "</table>\n",
              "</div>\n",
              "      <button class=\"colab-df-convert\" onclick=\"convertToInteractive('df-4cdc63d5-15a2-4386-a1ea-3b9331aeb243')\"\n",
              "              title=\"Convert this dataframe to an interactive table.\"\n",
              "              style=\"display:none;\">\n",
              "        \n",
              "  <svg xmlns=\"http://www.w3.org/2000/svg\" height=\"24px\"viewBox=\"0 0 24 24\"\n",
              "       width=\"24px\">\n",
              "    <path d=\"M0 0h24v24H0V0z\" fill=\"none\"/>\n",
              "    <path d=\"M18.56 5.44l.94 2.06.94-2.06 2.06-.94-2.06-.94-.94-2.06-.94 2.06-2.06.94zm-11 1L8.5 8.5l.94-2.06 2.06-.94-2.06-.94L8.5 2.5l-.94 2.06-2.06.94zm10 10l.94 2.06.94-2.06 2.06-.94-2.06-.94-.94-2.06-.94 2.06-2.06.94z\"/><path d=\"M17.41 7.96l-1.37-1.37c-.4-.4-.92-.59-1.43-.59-.52 0-1.04.2-1.43.59L10.3 9.45l-7.72 7.72c-.78.78-.78 2.05 0 2.83L4 21.41c.39.39.9.59 1.41.59.51 0 1.02-.2 1.41-.59l7.78-7.78 2.81-2.81c.8-.78.8-2.07 0-2.86zM5.41 20L4 18.59l7.72-7.72 1.47 1.35L5.41 20z\"/>\n",
              "  </svg>\n",
              "      </button>\n",
              "      \n",
              "  <style>\n",
              "    .colab-df-container {\n",
              "      display:flex;\n",
              "      flex-wrap:wrap;\n",
              "      gap: 12px;\n",
              "    }\n",
              "\n",
              "    .colab-df-convert {\n",
              "      background-color: #E8F0FE;\n",
              "      border: none;\n",
              "      border-radius: 50%;\n",
              "      cursor: pointer;\n",
              "      display: none;\n",
              "      fill: #1967D2;\n",
              "      height: 32px;\n",
              "      padding: 0 0 0 0;\n",
              "      width: 32px;\n",
              "    }\n",
              "\n",
              "    .colab-df-convert:hover {\n",
              "      background-color: #E2EBFA;\n",
              "      box-shadow: 0px 1px 2px rgba(60, 64, 67, 0.3), 0px 1px 3px 1px rgba(60, 64, 67, 0.15);\n",
              "      fill: #174EA6;\n",
              "    }\n",
              "\n",
              "    [theme=dark] .colab-df-convert {\n",
              "      background-color: #3B4455;\n",
              "      fill: #D2E3FC;\n",
              "    }\n",
              "\n",
              "    [theme=dark] .colab-df-convert:hover {\n",
              "      background-color: #434B5C;\n",
              "      box-shadow: 0px 1px 3px 1px rgba(0, 0, 0, 0.15);\n",
              "      filter: drop-shadow(0px 1px 2px rgba(0, 0, 0, 0.3));\n",
              "      fill: #FFFFFF;\n",
              "    }\n",
              "  </style>\n",
              "\n",
              "      <script>\n",
              "        const buttonEl =\n",
              "          document.querySelector('#df-4cdc63d5-15a2-4386-a1ea-3b9331aeb243 button.colab-df-convert');\n",
              "        buttonEl.style.display =\n",
              "          google.colab.kernel.accessAllowed ? 'block' : 'none';\n",
              "\n",
              "        async function convertToInteractive(key) {\n",
              "          const element = document.querySelector('#df-4cdc63d5-15a2-4386-a1ea-3b9331aeb243');\n",
              "          const dataTable =\n",
              "            await google.colab.kernel.invokeFunction('convertToInteractive',\n",
              "                                                     [key], {});\n",
              "          if (!dataTable) return;\n",
              "\n",
              "          const docLinkHtml = 'Like what you see? Visit the ' +\n",
              "            '<a target=\"_blank\" href=https://colab.research.google.com/notebooks/data_table.ipynb>data table notebook</a>'\n",
              "            + ' to learn more about interactive tables.';\n",
              "          element.innerHTML = '';\n",
              "          dataTable['output_type'] = 'display_data';\n",
              "          await google.colab.output.renderOutput(dataTable, element);\n",
              "          const docLink = document.createElement('div');\n",
              "          docLink.innerHTML = docLinkHtml;\n",
              "          element.appendChild(docLink);\n",
              "        }\n",
              "      </script>\n",
              "    </div>\n",
              "  </div>\n",
              "  "
            ]
          },
          "metadata": {}
        },
        {
          "output_type": "stream",
          "name": "stdout",
          "text": [
            "============================================================ d_TS_H ===========================================================\n",
            "{'H1': [(1, 2), (1, 4), (2, 3), (6, 4), (6, 2)], 'H2': [(1, 4), (1, 3), (3, 4), (5, 4)], 'H3': [(1, 3)], 'H4': [(1, 3), (1, 4), (2, 3), (5, 4), (5, 2), (6, 4), (6, 2)]}\n",
            "========================================================== d_position =========================================================\n",
            "{1: (1.0, 1), 2: (1.5, 0), 3: (2.0, 1), 4: (1.5, 2), 5: (0.2, 1), 6: (2.8, 1)}\n",
            "========================================================= d_node_label ========================================================\n",
            "{1: '$v_1$', 2: '$v_2$', 3: '$v_3$', 4: '$v_4$', 5: '$v_5$', 6: '$v_6$'}\n",
            "========================================================= d_edge_label ========================================================\n",
            "{(1, 2): '$e_{1}$', (1, 3): '$e_{2}$', (2, 3): '$e_{3}$', (3, 4): '$e_{4}$', (1, 4): '$e_{5}$', (5, 2): '$e_{6}$', (5, 4): '$e_{7}$', (6, 2): '$e_{8}$', (6, 4): '$e_{9}$'}\n"
          ]
        }
      ],
      "source": [
        "#\n",
        "# Read all data about Test Suites, Test Cases, and implicitly Functionality Graph from file\n",
        "#\n",
        "#logger.setLevel(logging.DEBUG)\n",
        "\n",
        "df_TP, d_TP_weight = f_read_data_from_files(\"graphV.csv\", \"graphE.csv\", \"H_000.TestSuites\");\n",
        "# Return values as 'global' variables:\n",
        "#   df_node\n",
        "#   df_edge\n",
        "#   d_TS_H\n",
        "#   d_position\n",
        "#   d_node_label\n",
        "#   d_edge_label\n",
        "\n",
        "#logger.setLevel(cell_log_level)\n",
        "\n",
        "f_print_var_value('df_TP');\n",
        "f_print_var_value('d_TP_weight');\n",
        "f_print_var_value('df_node');\n",
        "f_print_var_value('df_edge');\n",
        "f_print_var_value('d_TS_H');\n",
        "f_print_var_value('d_position');\n",
        "f_print_var_value('d_node_label');\n",
        "f_print_var_value('d_edge_label');"
      ]
    },
    {
      "cell_type": "code",
      "execution_count": 77,
      "metadata": {
        "id": "huU2NV_wokFL",
        "outputId": "73a441e5-412c-46c1-8030-ed646855cb06",
        "colab": {
          "base_uri": "https://localhost:8080/"
        }
      },
      "outputs": [
        {
          "output_type": "stream",
          "name": "stdout",
          "text": [
            "======================================================= df_TP_fun_graph =======================================================\n",
            "{'TP': [(6, 2), (1, 2), (3, 4), (5, 4), (6, 4), (1, 4), (2, 3), (1, 3), (5, 2)]}\n"
          ]
        }
      ],
      "source": [
        "#\n",
        "# Requred input data: data frame of test suites (test phase)\n",
        "#\n",
        "#df_TP_fun_graph, d_TP_weight_fun_graph = f_read_data_from_files(\"graphV.csv\", \"graphE.csv\", \"Fun_graph.TestSuites\")\n",
        "\n",
        "df_TP_fun_graph = f_generate_fun_graph(d_TS_H);\n",
        "f_print_var_value('df_TP_fun_graph');"
      ]
    },
    {
      "cell_type": "markdown",
      "metadata": {
        "id": "wZyFA71cokFL"
      },
      "source": [
        "## Graphs generated for the article"
      ]
    },
    {
      "cell_type": "markdown",
      "metadata": {
        "id": "4iSM7bdBokFL"
      },
      "source": [
        "**Functionality Graph**"
      ]
    },
    {
      "cell_type": "code",
      "execution_count": 78,
      "metadata": {
        "id": "UKOxbbqAokFL",
        "outputId": "e493d403-0924-4dad-c26c-c4de566df3cd",
        "colab": {
          "base_uri": "https://localhost:8080/",
          "height": 1000
        }
      },
      "outputs": [
        {
          "output_type": "error",
          "ename": "TypeError",
          "evalue": "ignored",
          "traceback": [
            "\u001b[0;31m---------------------------------------------------------------------------\u001b[0m",
            "\u001b[0;31mTypeError\u001b[0m                                 Traceback (most recent call last)",
            "\u001b[0;32m<ipython-input-78-a3beac4f6b84>\u001b[0m in \u001b[0;36m<cell line: 29>\u001b[0;34m()\u001b[0m\n\u001b[1;32m     27\u001b[0m \u001b[0;31m# Draw\u001b[0m\u001b[0;34m\u001b[0m\u001b[0;34m\u001b[0m\u001b[0m\n\u001b[1;32m     28\u001b[0m \u001b[0;31m#\u001b[0m\u001b[0;34m\u001b[0m\u001b[0;34m\u001b[0m\u001b[0m\n\u001b[0;32m---> 29\u001b[0;31m \u001b[0mf_draw_TS\u001b[0m\u001b[0;34m(\u001b[0m\u001b[0mdf_TP_fun_graph\u001b[0m\u001b[0;34m,\u001b[0m \u001b[0;34m\"\"\u001b[0m\u001b[0;34m,\u001b[0m \u001b[0;34m\"fun-graph.eps\"\u001b[0m\u001b[0;34m,\u001b[0m \u001b[0;34m\"\"\u001b[0m\u001b[0;34m,\u001b[0m \u001b[0;32mTrue\u001b[0m\u001b[0;34m,\u001b[0m \u001b[0;34m(\u001b[0m\u001b[0;36m15\u001b[0m\u001b[0;34m,\u001b[0m\u001b[0;36m8\u001b[0m\u001b[0;34m)\u001b[0m\u001b[0;34m)\u001b[0m\u001b[0;34m;\u001b[0m\u001b[0;34m\u001b[0m\u001b[0;34m\u001b[0m\u001b[0m\n\u001b[0m",
            "\u001b[0;32m<ipython-input-34-b51679568c61>\u001b[0m in \u001b[0;36mf_draw_TS\u001b[0;34m(d_TP, s_weight, s_file_name, s_title, bool_print_to_terminal, t_test_phase_dim)\u001b[0m\n\u001b[1;32m     48\u001b[0m         \u001b[0;31m#\u001b[0m\u001b[0;34m\u001b[0m\u001b[0;34m\u001b[0m\u001b[0m\n\u001b[1;32m     49\u001b[0m         \u001b[0mpyplot\u001b[0m\u001b[0;34m.\u001b[0m\u001b[0mfigure\u001b[0m\u001b[0;34m(\u001b[0m\u001b[0mfigsize\u001b[0m\u001b[0;34m=\u001b[0m\u001b[0mt_test_phase_dim\u001b[0m\u001b[0;34m)\u001b[0m\u001b[0;34m;\u001b[0m \u001b[0;31m# different figsize proportion for on screen and to file\u001b[0m\u001b[0;34m\u001b[0m\u001b[0;34m\u001b[0m\u001b[0m\n\u001b[0;32m---> 50\u001b[0;31m         f_draw_set_TS(\n\u001b[0m\u001b[1;32m     51\u001b[0m             \u001b[0md_TP\u001b[0m\u001b[0;34m,\u001b[0m\u001b[0;34m\u001b[0m\u001b[0;34m\u001b[0m\u001b[0m\n\u001b[1;32m     52\u001b[0m             \u001b[0mdf_edge\u001b[0m\u001b[0;34m,\u001b[0m\u001b[0;34m\u001b[0m\u001b[0;34m\u001b[0m\u001b[0m\n",
            "\u001b[0;32m<ipython-input-35-25dfd734d097>\u001b[0m in \u001b[0;36mf_draw_set_TS\u001b[0;34m(d_TP, df_edge, d_local_node_label, d_local_edge_label, n_font_size, d_position, fig_file_name, s_title, bool_print_to_terminal)\u001b[0m\n\u001b[1;32m     35\u001b[0m         \u001b[0mpyplot\u001b[0m\u001b[0;34m.\u001b[0m\u001b[0msubplot\u001b[0m\u001b[0;34m(\u001b[0m\u001b[0;36m1\u001b[0m\u001b[0;34m,\u001b[0m \u001b[0mn_tp_fig_cols\u001b[0m\u001b[0;34m,\u001b[0m \u001b[0mi\u001b[0m\u001b[0;34m)\u001b[0m\u001b[0;34m;\u001b[0m \u001b[0;31m# subplot(nrows, ncols, index,)\u001b[0m\u001b[0;34m\u001b[0m\u001b[0;34m\u001b[0m\u001b[0m\n\u001b[1;32m     36\u001b[0m \u001b[0;31m#        pyplot.title(\"Title:\")\u001b[0m\u001b[0;34m\u001b[0m\u001b[0;34m\u001b[0m\u001b[0m\n\u001b[0;32m---> 37\u001b[0;31m         f_draw_graph_TP_pure(\n\u001b[0m\u001b[1;32m     38\u001b[0m             \u001b[0ms_TS\u001b[0m\u001b[0;34m,\u001b[0m \u001b[0;31m# supbraph (string name) of edges in d_TS_H[] dictionary\u001b[0m\u001b[0;34m\u001b[0m\u001b[0;34m\u001b[0m\u001b[0m\n\u001b[1;32m     39\u001b[0m             \u001b[0md_TP\u001b[0m\u001b[0;34m,\u001b[0m\u001b[0;34m\u001b[0m\u001b[0;34m\u001b[0m\u001b[0m\n",
            "\u001b[0;32m<ipython-input-32-017a7f5c28aa>\u001b[0m in \u001b[0;36mf_draw_graph_TP_pure\u001b[0;34m(my_Hx, d_TS_H, df_edge, d_local_node_label, d_local_edge_label, n_font_size, d_position, s_node_color, s_edge_color, n_alpha, t_c_test_phase_dim, bool_print_to_terminal)\u001b[0m\n\u001b[1;32m     56\u001b[0m     \u001b[0;31m# Node color: silver for border color\u001b[0m\u001b[0;34m\u001b[0m\u001b[0;34m\u001b[0m\u001b[0m\n\u001b[1;32m     57\u001b[0m     \u001b[0;31m# Edge stype: dotted\u001b[0m\u001b[0;34m\u001b[0m\u001b[0;34m\u001b[0m\u001b[0m\n\u001b[0;32m---> 58\u001b[0;31m     networkx.draw(\n\u001b[0m\u001b[1;32m     59\u001b[0m         \u001b[0mnxg_complementary_sub_graph\u001b[0m\u001b[0;34m,\u001b[0m\u001b[0;34m\u001b[0m\u001b[0;34m\u001b[0m\u001b[0m\n\u001b[1;32m     60\u001b[0m         \u001b[0md_pos\u001b[0m\u001b[0;34m,\u001b[0m\u001b[0;34m\u001b[0m\u001b[0;34m\u001b[0m\u001b[0m\n",
            "\u001b[0;32m/usr/local/lib/python3.10/dist-packages/networkx/drawing/nx_pylab.py\u001b[0m in \u001b[0;36mdraw\u001b[0;34m(G, pos, ax, **kwds)\u001b[0m\n\u001b[1;32m    111\u001b[0m     \u001b[0mcf\u001b[0m\u001b[0;34m.\u001b[0m\u001b[0mset_facecolor\u001b[0m\u001b[0;34m(\u001b[0m\u001b[0;34m\"w\"\u001b[0m\u001b[0;34m)\u001b[0m\u001b[0;34m\u001b[0m\u001b[0;34m\u001b[0m\u001b[0m\n\u001b[1;32m    112\u001b[0m     \u001b[0;32mif\u001b[0m \u001b[0max\u001b[0m \u001b[0;32mis\u001b[0m \u001b[0;32mNone\u001b[0m\u001b[0;34m:\u001b[0m\u001b[0;34m\u001b[0m\u001b[0;34m\u001b[0m\u001b[0m\n\u001b[0;32m--> 113\u001b[0;31m         \u001b[0;32mif\u001b[0m \u001b[0mcf\u001b[0m\u001b[0;34m.\u001b[0m\u001b[0m_axstack\u001b[0m\u001b[0;34m(\u001b[0m\u001b[0;34m)\u001b[0m \u001b[0;32mis\u001b[0m \u001b[0;32mNone\u001b[0m\u001b[0;34m:\u001b[0m\u001b[0;34m\u001b[0m\u001b[0;34m\u001b[0m\u001b[0m\n\u001b[0m\u001b[1;32m    114\u001b[0m             \u001b[0max\u001b[0m \u001b[0;34m=\u001b[0m \u001b[0mcf\u001b[0m\u001b[0;34m.\u001b[0m\u001b[0madd_axes\u001b[0m\u001b[0;34m(\u001b[0m\u001b[0;34m(\u001b[0m\u001b[0;36m0\u001b[0m\u001b[0;34m,\u001b[0m \u001b[0;36m0\u001b[0m\u001b[0;34m,\u001b[0m \u001b[0;36m1\u001b[0m\u001b[0;34m,\u001b[0m \u001b[0;36m1\u001b[0m\u001b[0;34m)\u001b[0m\u001b[0;34m)\u001b[0m\u001b[0;34m\u001b[0m\u001b[0;34m\u001b[0m\u001b[0m\n\u001b[1;32m    115\u001b[0m         \u001b[0;32melse\u001b[0m\u001b[0;34m:\u001b[0m\u001b[0;34m\u001b[0m\u001b[0;34m\u001b[0m\u001b[0m\n",
            "\u001b[0;31mTypeError\u001b[0m: '_AxesStack' object is not callable"
          ]
        },
        {
          "output_type": "display_data",
          "data": {
            "text/plain": [
              "<Figure size 1500x800 with 1 Axes>"
            ],
            "image/png": "[encoded data removed]"
          },
          "metadata": {}
        }
      ],
      "source": [
        "#\n",
        "# Draw functionality graph\n",
        "#\n",
        "\n",
        "#\n",
        "# Read all data about Test Suites, Test Cases, and implicitly Functionality Graph from file\n",
        "#\n",
        "#logger.setLevel(logging.DEBUG)\n",
        "\n",
        "df_TP, d_TP_weight = f_read_data_from_files(\"graphV.csv\", \"graphE.csv\", \"H_000.TestSuites\");\n",
        "# Return values as 'global' variables:\n",
        "#   df_node\n",
        "#   df_edge\n",
        "#   d_TS_H\n",
        "#   d_position\n",
        "#   d_node_label\n",
        "#   d_edge_label\n",
        "\n",
        "#\n",
        "# Requred input data: data frame of test suites (test phase)\n",
        "#\n",
        "#df_TP_fun_graph, d_TP_weight_fun_graph = f_read_data_from_files(\"graphV.csv\", \"graphE.csv\", \"Fun_graph.TestSuites\")\n",
        "\n",
        "df_TP_fun_graph = f_generate_fun_graph(d_TS_H);\n",
        "\n",
        "#\n",
        "# Draw\n",
        "#\n",
        "f_draw_TS(df_TP_fun_graph, \"\", \"fun-graph.eps\", \"\", True, (15,8));\n"
      ]
    },
    {
      "cell_type": "code",
      "execution_count": null,
      "metadata": {
        "id": "T5H2Z1kkokFL"
      },
      "outputs": [],
      "source": [
        "#\n",
        "# Draw functionality graph\n",
        "#\n",
        "\n",
        "#\n",
        "# Read all data about Test Suites, Test Cases, and implicitly Functionality Graph from file\n",
        "#\n",
        "#logger.setLevel(logging.DEBUG)\n",
        "\n",
        "df_TP, d_TP_weight = f_read_data_from_files(\"graphV.csv\", \"graphE.csv\", \"H_000.TestSuites\");\n",
        "\n",
        "#\n",
        "# Requred input data: data frame of test suites (test phase)\n",
        "#\n",
        "#df_TP_fun_graph, d_TP_weight_fun_graph = f_read_data_from_files(\"graphV.csv\", \"graphE.csv\", \"Fun_graph.TestSuites\")\n",
        "\n",
        "df_TP_fun_graph = f_generate_fun_graph(d_TS_H);\n",
        "\n",
        "#\n",
        "# Draw\n",
        "#\n",
        "display(Math('\\\\textbf{Article Figure:}\\\\textrm{ Example of the functionality graph } G^P.\\\n",
        "              \\\\textrm{Vertices } v_1, ..., v_6 \\\\textrm{ present six functionalities, edges } e_1, ..., e_9\\\n",
        "              \\\\textrm{ present nine f-influences.}'));\n",
        "\n",
        "# without name/title \"Functionality graph\" on the figure\n",
        "# f_draw_TS(df_TP_fun_graph, \"\", s_c_results_other+\"fun-graph.pdf\", \"\", True, (15,10));\n",
        "# f_draw_TS(df_TP_fun_graph, \"\", s_c_results_other+\"fun-graph.pdf\", \"Functionality graph\", (17,7));\n",
        "# f_draw_TS(df_TP_fun_graph.to_dict()['TS_edges'], \"\", \"fun-graph.svg\", \"Functionality graph\", (17,7));\n",
        "# f_print_var_value('','Functionality graph (EPS)')\n",
        "# generate eps file for the article\n",
        "f_draw_TS(df_TP_fun_graph, \"\", \"fun-graph.eps\", \"\", True, (15,8));\n",
        "f_draw_TS(df_TP_fun_graph, \"\", s_c_results_other+\"fun-graph.pdf\", \"\", False, (15,8));\n"
      ]
    },
    {
      "cell_type": "markdown",
      "metadata": {
        "id": "b5GWlfhcokFL"
      },
      "source": [
        "### Test phase"
      ]
    },
    {
      "cell_type": "code",
      "execution_count": null,
      "metadata": {
        "id": "PwFvceVCokFL"
      },
      "outputs": [],
      "source": [
        "#\n",
        "# Read data frame\n",
        "#\n",
        "#logger.setLevel(logging.DEBUG)\n",
        "df_TP, d_TP_weight = f_read_data_from_files(\"graphV.csv\", \"graphE.csv\", \"H_000.TestSuites\")\n",
        "#logger.setLevel(cell_log_level)\n",
        "\n",
        "#\n",
        "# Draw data frames\n",
        "#\n",
        "display(Math('\\\\textbf{Article Figure:}\\\\textrm{ Example of a test phase } \\mathcal H = \\{{^i}\\!H\\}_{i=1}^4'))\n",
        "f_draw_TS(df_TP.to_dict()['TS_edges'], \"\", s_c_results_other+\"test-phase-H.pdf\",\"\",False, (50,10))\n",
        "f_draw_TS(df_TP.to_dict()['TS_edges'], \"\", \"test-phase-H.eps\",\"Example of a test phase\",True, (50,10))\n"
      ]
    },
    {
      "cell_type": "markdown",
      "metadata": {
        "id": "XYFWh9fXokFL"
      },
      "source": [
        "### Test Phase Min Deduplication: $A_{1a}$"
      ]
    },
    {
      "cell_type": "code",
      "execution_count": null,
      "metadata": {
        "id": "sDQbH8ZlokFL"
      },
      "outputs": [],
      "source": [
        "# Store the original log level into 'notebook_log_level'\n",
        "notebook_log_level = logger.getEffectiveLevel()"
      ]
    },
    {
      "cell_type": "code",
      "execution_count": null,
      "metadata": {
        "id": "Ek0og-RPokFL"
      },
      "outputs": [],
      "source": [
        "#\n",
        "# To display test suites graphs set logging level to DEBUG\n",
        "#\n",
        "\n",
        "logger.setLevel(section_log_level)"
      ]
    },
    {
      "cell_type": "code",
      "execution_count": null,
      "metadata": {
        "id": "GtHCuF6WokFL"
      },
      "outputs": [],
      "source": [
        "t_c_test_phase_dim=(70,7)"
      ]
    },
    {
      "cell_type": "code",
      "execution_count": null,
      "metadata": {
        "id": "Ul7_oLqMokFL"
      },
      "outputs": [],
      "source": [
        "#\n",
        "# Read data frame\n",
        "#\n",
        "df_TP, d_TP_weights = f_read_data_from_files(\"graphV.csv\", \"graphE.csv\", \"H_000.TestSuites\")\n",
        "\n",
        "#\n",
        "# Sort data frame\n",
        "#\n",
        "df_TP_sorted = f_sort_TS_in_TP(df_TP,['delta','size'],d_TS_H,bool_local_sort_order_ascending=True)\n",
        "\n",
        "#logger.setLevel(logging.DEBUG)\n",
        "#\n",
        "# Execute Test Phase Min Deduplication\n",
        "#\n",
        "df_TP_Min = f_TP_min_deduplication(df_TP_sorted)\n",
        "\n",
        "#\n",
        "# Draw data frames\n",
        "#\n",
        "#\n",
        "# To display graphs set logging level to DEBUG\n",
        "#\n",
        "logger.setLevel(cell_log_level)\n",
        "display(Math('\\\\textbf{Article Figure:}\\\\textrm{ Subgraphs } {^{1}\\!M},{^{2}\\!M},{^{3}\\!M},{^{4}\\!M}\\\n",
        "              \\\\textrm{ as the result of} \\\\textit{ Test Phase Deduplication Algorithm } A_{1a}'));\n",
        "\n",
        "f_draw_TS(df_TP_Min.to_dict()['TS_edges'], \"delta\", \"min-dedupe-weights.eps\",\"\",True,t_c_test_phase_dim)\n",
        "\n",
        "      "
      ]
    },
    {
      "cell_type": "markdown",
      "metadata": {
        "id": "ypb2q-P1okFL"
      },
      "source": [
        "### Test Phase Max Deduplication: $A_{1b}$"
      ]
    },
    {
      "cell_type": "code",
      "execution_count": null,
      "metadata": {
        "id": "c_91jTBMokFL"
      },
      "outputs": [],
      "source": [
        "#\n",
        "# Read data frame\n",
        "#\n",
        "#logger.setLevel(logging.DEBUG)\n",
        "df_TP, d_TP_weight = f_read_data_from_files(\"graphV.csv\", \"graphE.csv\", \"H_000.TestSuites\")\n",
        "#logger.setLevel(cell_log_level)\n",
        "\n",
        "f_print_var_value('df_TP','Test phase (as a set of test suites)');\n",
        "\n",
        "#\n",
        "# Sort Test Suites - Ascending\n",
        "#\n",
        "bool_sort_order_ascending = False;\n",
        "df_TP_sorted = f_sort_TS_in_TP(df_TP,['delta','size'],d_TS_H,bool_local_sort_order_ascending=bool_sort_order_ascending)\n",
        "f_print_var_value('df_TP_sorted','Sort data frame - for max deduplication: bool_sort_order_ascending='+str(bool_sort_order_ascending))\n",
        "\n",
        "#logger.setLevel(logging.DEBUG)\n",
        "#\n",
        "# Execute Test Phase Max Deduplication\n",
        "#\n",
        "df_TP_Large_num = f_TP_max_deduplication(df_TP_sorted)\n",
        "f_print_var_value('df_TP_Large_num','Result from Test Phase Max Deduplication');\n",
        "\n",
        "#logger.setLevel(cell_log_level)\n",
        "\n",
        "#\n",
        "# Draw data frames\n",
        "#\n",
        "display(Math('\\\\textbf{Article Figure:}\\\\textrm{ Subgraphs } {^{1}\\!M},{^{2}\\!M},{^{3}\\!M},{^{4}\\!M}\\\n",
        "              \\\\textrm{ as the result of} \\\\textit{ Test Phase Deduplication Algorithm } A_{1b}'));\n",
        "## f_draw_TS(df_TP_Large_num.to_dict()['TS_edges'], \"delta\", s_c_results_other+\"max-dedupe-weights-nosort.pdf\",s_title=\"\", bool_print_to_terminal=False)\n",
        "f_draw_TS(df_TP_Large_num.to_dict()['TS_edges'], \"delta\", s_c_results_other+\"max-dedupe-weights-nosort.pdf\", \"\", False)\n",
        "f_draw_TS(df_TP_Large_num.to_dict()['TS_edges'], \"delta\", \"max-dedupe-weights-nosort.eps\", \"\")\n"
      ]
    },
    {
      "cell_type": "markdown",
      "metadata": {
        "id": "L0aTFGqhokFM"
      },
      "source": [
        "### Algorithm $A_2$ for software testing optimization"
      ]
    },
    {
      "cell_type": "code",
      "execution_count": null,
      "metadata": {
        "id": "50YLa-Q_okFM"
      },
      "outputs": [],
      "source": [
        "df_node"
      ]
    },
    {
      "cell_type": "code",
      "execution_count": null,
      "metadata": {
        "id": "ANtQ2bztokFM"
      },
      "outputs": [],
      "source": [
        "df_edge"
      ]
    },
    {
      "cell_type": "code",
      "execution_count": null,
      "metadata": {
        "id": "NXS668_EokFM"
      },
      "outputs": [],
      "source": [
        "#\n",
        "# p_j ... l_pj\n",
        "# w_j ... l_wj\n",
        "#\n",
        "l_pj = list(map(lambda x,y: x*y ,df_edge['kappa'].tolist(), df_edge['sigma'].tolist()))\n",
        "l_wj = df_edge['kappa'].tolist()"
      ]
    },
    {
      "cell_type": "code",
      "execution_count": null,
      "metadata": {
        "id": "_6D6kjeNokFM"
      },
      "outputs": [],
      "source": [
        "l_pj"
      ]
    },
    {
      "cell_type": "code",
      "execution_count": null,
      "metadata": {
        "id": "req4dRj0okFM"
      },
      "outputs": [],
      "source": [
        "l_wj"
      ]
    },
    {
      "cell_type": "code",
      "execution_count": null,
      "metadata": {
        "id": "3lNx2pCjokFM"
      },
      "outputs": [],
      "source": []
    },
    {
      "cell_type": "code",
      "execution_count": null,
      "metadata": {
        "id": "_a1-IkVeokFM"
      },
      "outputs": [],
      "source": []
    },
    {
      "cell_type": "code",
      "execution_count": null,
      "metadata": {
        "id": "c-jmHO45okFM"
      },
      "outputs": [],
      "source": []
    },
    {
      "cell_type": "code",
      "execution_count": null,
      "metadata": {
        "id": "jCR3wleIokFM"
      },
      "outputs": [],
      "source": []
    },
    {
      "cell_type": "code",
      "execution_count": null,
      "metadata": {
        "id": "7c89H0_sokFM"
      },
      "outputs": [],
      "source": [
        "str(datetime.timedelta(seconds=666))\n",
        "print(\"Notebook execution: \" + str(datetime.timedelta(seconds=(time.time()-notebook_start_time)))) "
      ]
    },
    {
      "cell_type": "markdown",
      "metadata": {
        "id": "qI3QZMH2okFM"
      },
      "source": [
        "## The end ---------------------------------------"
      ]
    },
    {
      "cell_type": "code",
      "source": [],
      "metadata": {
        "id": "1QvU8-DB3w0t"
      },
      "execution_count": null,
      "outputs": []
    }
  ],
  "metadata": {
    "authors": [
      {
        "name": "Gregor Molan"
      }
    ],
    "kernelspec": {
      "display_name": "Python 3 (ipykernel)",
      "language": "python",
      "name": "python3"
    },
    "language_info": {
      "codemirror_mode": {
        "name": "ipython",
        "version": 3
      },
      "file_extension": ".py",
      "mimetype": "text/x-python",
      "name": "python",
      "nbconvert_exporter": "python",
      "pygments_lexer": "ipython3",
      "version": "3.9.15"
    },
    "toc": {
      "base_numbering": 1,
      "nav_menu": {
        "height": "392px",
        "width": "455px"
      },
      "number_sections": true,
      "sideBar": true,
      "skip_h1_title": true,
      "title_cell": "Optimal Test Phase for Software Development Optimization Using Graphs",
      "title_sidebar": "Contents",
      "toc_cell": false,
      "toc_position": {
        "height": "47.7167px",
        "left": "21px",
        "top": "111.133px",
        "width": "373.977px"
      },
      "toc_section_display": true,
      "toc_window_display": true
    },
    "colab": {
      "provenance": [],
      "toc_visible": true,
      "include_colab_link": true
    }
  },
  "nbformat": 4,
  "nbformat_minor": 0
}